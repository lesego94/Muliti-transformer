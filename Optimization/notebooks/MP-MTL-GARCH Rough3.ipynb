{
 "cells": [
  {
   "cell_type": "code",
   "execution_count": 1,
   "metadata": {},
   "outputs": [],
   "source": [
    "import pandas as pd\n",
    "import numpy as np\n",
    "import yfinance as yf\n",
    "from pypfopt import risk_models\n",
    "from sklearn import preprocessing\n",
    "from pypfopt.efficient_frontier import EfficientFrontier\n",
    "from datetime import date, datetime, timedelta\n",
    "from arch import arch_model\n",
    "from pypfopt import expected_returns\n",
    "import tensorflow as tf\n",
    "from tqdm import tqdm"
   ]
  },
  {
   "cell_type": "code",
   "execution_count": 2,
   "metadata": {},
   "outputs": [],
   "source": [
    "#Return calculation\n",
    "def ReturnCalculation (Database,lag):\n",
    "    dimension=Database.shape[0];dif=lag;Out=np.zeros([dimension-dif])\n",
    "    for i in range(dimension-dif):\n",
    "        Out[i]=(np.log(Database['Close'][i+dif])-np.log(Database['Close'][i]))\n",
    "    return np.append(np.repeat(np.nan, dif),Out), Database.index\n",
    "\n",
    "#STD Calculation\n",
    "def SDCalculation (DailyReturns, LagSD):\n",
    "    dimension=DailyReturns.shape[0]; dif=LagSD; Out=np.zeros([dimension-dif])\n",
    "    for i in range (dimension-dif):\n",
    "        Out[i]=np.std(DailyReturns[i:i+LagSD],ddof=1)\n",
    "    return np.append(np.repeat(np.nan, dif),Out)\n",
    "\n",
    "#STD Calculation\n",
    "def TrueSDCalculation (DailyReturns, LagSD):\n",
    "    dimension=DailyReturns.shape[0]; dif=LagSD; Out=np.zeros([dimension-dif+1])\n",
    "    for i in range (dimension-dif+1):\n",
    "        Out[i]=np.std(DailyReturns[i:i+LagSD],ddof=1)\n",
    "    return np.append(Out,np.repeat(np.nan, dif-1))\n",
    "\n",
    "#Database is calculated\n",
    "def DatabaseGeneration (Database, Lag, LagSD):\n",
    "    DailyReturns, Index = ReturnCalculation(Database,Lag)\n",
    "    DailyReturnsOld =  np.append(np.repeat(np.nan, 1),DailyReturns[0:(DailyReturns.shape[0]-1)])\n",
    "    SD = SDCalculation (DailyReturns, LagSD)\n",
    "    TrueSD = TrueSDCalculation(DailyReturns, LagSD)\n",
    "    Data = pd.DataFrame({'DailyReturns': DailyReturns, 'SD': SD, 'TrueSD': TrueSD, 'DailyReturnsOld': DailyReturnsOld})\n",
    "    Data = Data.set_index(Index) \n",
    "    return Data.dropna()"
   ]
  },
  {
   "cell_type": "code",
   "execution_count": 13,
   "metadata": {},
   "outputs": [
    {
     "data": {
      "text/html": [
       "<div>\n",
       "<style scoped>\n",
       "    .dataframe tbody tr th:only-of-type {\n",
       "        vertical-align: middle;\n",
       "    }\n",
       "\n",
       "    .dataframe tbody tr th {\n",
       "        vertical-align: top;\n",
       "    }\n",
       "\n",
       "    .dataframe thead th {\n",
       "        text-align: right;\n",
       "    }\n",
       "</style>\n",
       "<table border=\"1\" class=\"dataframe\">\n",
       "  <thead>\n",
       "    <tr style=\"text-align: right;\">\n",
       "      <th></th>\n",
       "      <th>DailyReturns</th>\n",
       "      <th>SD</th>\n",
       "      <th>TrueSD</th>\n",
       "      <th>DailyReturnsOld</th>\n",
       "    </tr>\n",
       "    <tr>\n",
       "      <th>Date</th>\n",
       "      <th></th>\n",
       "      <th></th>\n",
       "      <th></th>\n",
       "      <th></th>\n",
       "    </tr>\n",
       "  </thead>\n",
       "  <tbody>\n",
       "    <tr>\n",
       "      <th>2008-02-08</th>\n",
       "      <td>-0.047047</td>\n",
       "      <td>0.042420</td>\n",
       "      <td>0.026639</td>\n",
       "      <td>0.047558</td>\n",
       "    </tr>\n",
       "    <tr>\n",
       "      <th>2008-02-15</th>\n",
       "      <td>0.013949</td>\n",
       "      <td>0.048085</td>\n",
       "      <td>0.018960</td>\n",
       "      <td>-0.047047</td>\n",
       "    </tr>\n",
       "    <tr>\n",
       "      <th>2008-02-22</th>\n",
       "      <td>0.002308</td>\n",
       "      <td>0.039160</td>\n",
       "      <td>0.013653</td>\n",
       "      <td>0.013949</td>\n",
       "    </tr>\n",
       "    <tr>\n",
       "      <th>2008-02-29</th>\n",
       "      <td>-0.016753</td>\n",
       "      <td>0.039178</td>\n",
       "      <td>0.025985</td>\n",
       "      <td>0.002308</td>\n",
       "    </tr>\n",
       "    <tr>\n",
       "      <th>2008-03-07</th>\n",
       "      <td>-0.028401</td>\n",
       "      <td>0.026639</td>\n",
       "      <td>0.025200</td>\n",
       "      <td>-0.016753</td>\n",
       "    </tr>\n",
       "    <tr>\n",
       "      <th>...</th>\n",
       "      <td>...</td>\n",
       "      <td>...</td>\n",
       "      <td>...</td>\n",
       "      <td>...</td>\n",
       "    </tr>\n",
       "    <tr>\n",
       "      <th>2015-11-13</th>\n",
       "      <td>-0.036955</td>\n",
       "      <td>0.007619</td>\n",
       "      <td>0.028272</td>\n",
       "      <td>0.009496</td>\n",
       "    </tr>\n",
       "    <tr>\n",
       "      <th>2015-11-20</th>\n",
       "      <td>0.032165</td>\n",
       "      <td>0.024985</td>\n",
       "      <td>0.029000</td>\n",
       "      <td>-0.036955</td>\n",
       "    </tr>\n",
       "    <tr>\n",
       "      <th>2015-11-27</th>\n",
       "      <td>0.000450</td>\n",
       "      <td>0.028771</td>\n",
       "      <td>0.019059</td>\n",
       "      <td>0.032165</td>\n",
       "    </tr>\n",
       "    <tr>\n",
       "      <th>2015-12-04</th>\n",
       "      <td>0.000756</td>\n",
       "      <td>0.028775</td>\n",
       "      <td>0.027086</td>\n",
       "      <td>0.000450</td>\n",
       "    </tr>\n",
       "    <tr>\n",
       "      <th>2015-12-11</th>\n",
       "      <td>-0.038659</td>\n",
       "      <td>0.028272</td>\n",
       "      <td>0.027107</td>\n",
       "      <td>0.000756</td>\n",
       "    </tr>\n",
       "  </tbody>\n",
       "</table>\n",
       "<p>410 rows × 4 columns</p>\n",
       "</div>"
      ],
      "text/plain": [
       "            DailyReturns        SD    TrueSD  DailyReturnsOld\n",
       "Date                                                         \n",
       "2008-02-08     -0.047047  0.042420  0.026639         0.047558\n",
       "2008-02-15      0.013949  0.048085  0.018960        -0.047047\n",
       "2008-02-22      0.002308  0.039160  0.013653         0.013949\n",
       "2008-02-29     -0.016753  0.039178  0.025985         0.002308\n",
       "2008-03-07     -0.028401  0.026639  0.025200        -0.016753\n",
       "...                  ...       ...       ...              ...\n",
       "2015-11-13     -0.036955  0.007619  0.028272         0.009496\n",
       "2015-11-20      0.032165  0.024985  0.029000        -0.036955\n",
       "2015-11-27      0.000450  0.028771  0.019059         0.032165\n",
       "2015-12-04      0.000756  0.028775  0.027086         0.000450\n",
       "2015-12-11     -0.038659  0.028272  0.027107         0.000756\n",
       "\n",
       "[410 rows x 4 columns]"
      ]
     },
     "execution_count": 13,
     "metadata": {},
     "output_type": "execute_result"
    }
   ],
   "source": [
    "# start = '2009-01-01';end = '2013-01-01'\n",
    "start='2008-01-01'; end='2015-12-31'; \n",
    "asset = \"^GSPC\"\n",
    "Lag=1; LagSD=4\n",
    "IndexEndDays=yf.download(asset,start=start,  end=end, progress=False).resample('W-FRI').last().index\n",
    "Database=yf.download(asset,start, end, progress=False).resample('W-FRI').last()\n",
    "Data = DatabaseGeneration(Database, Lag, LagSD)\n",
    "Data\n",
    "\n"
   ]
  },
  {
   "cell_type": "code",
   "execution_count": 4,
   "metadata": {},
   "outputs": [],
   "source": [
    "from arch.__future__ import reindexing"
   ]
  },
  {
   "cell_type": "code",
   "execution_count": 5,
   "metadata": {},
   "outputs": [],
   "source": [
    "#Fitting of GARCH(1,1)\n",
    "def GARCH_Model_Student (Data):\n",
    "    AR_Data=Data['DailyReturns']*100\n",
    "    GARCH11 = arch_model(AR_Data, dist ='t')\n",
    "    res_GARCH11 = GARCH11.fit(disp='off')\n",
    "    CV_GARCH11 = res_GARCH11.conditional_volatility\n",
    "    For_CV_GARCH11 = np.array(res_GARCH11.forecast(horizon=4).variance.dropna())\n",
    "    return GARCH11, res_GARCH11, CV_GARCH11, For_CV_GARCH11\n",
    "\n",
    "def TARCH_Model_Student(Data):\n",
    "    AR_Data=Data['DailyReturns']*100\n",
    "    TARCH11 = arch_model(AR_Data, p=1, o=1, q=1, power=1.0, dist ='t')\n",
    "    res_TARCH11 = TARCH11.fit(disp='off')\n",
    "    CV_TARCH11 = res_TARCH11.conditional_volatility\n",
    "    For_CV_TARCH11 = []\n",
    "    for i in range(4):\n",
    "        forecast = res_TARCH11.forecast(start=AR_Data.shape[0]-1, horizon=1)\n",
    "        For_CV_TARCH11.append(forecast.variance.iloc[-1,:].values[0])\n",
    "        AR_Data = np.append(AR_Data, forecast.mean.iloc[-1,:].values[0])\n",
    "        TARCH11 = arch_model(AR_Data, p=1, o=1, q=1, power=1.0, dist ='t')\n",
    "        res_TARCH11 = TARCH11.fit(disp='off')\n",
    "    return TARCH11, res_TARCH11, CV_TARCH11, np.array(For_CV_TARCH11)\n",
    "\n"
   ]
  },
  {
   "cell_type": "code",
   "execution_count": 6,
   "metadata": {},
   "outputs": [],
   "source": [
    "GARCH11, res_GARCH11, CV_GARCH11, For_CV_GARCH11 = TARCH_Model_Student (Data)\n"
   ]
  },
  {
   "cell_type": "code",
   "execution_count": 7,
   "metadata": {},
   "outputs": [
    {
     "data": {
      "text/plain": [
       "array([2.87712141, 1.96441166, 1.43879885, 1.13034033])"
      ]
     },
     "execution_count": 7,
     "metadata": {},
     "output_type": "execute_result"
    }
   ],
   "source": [
    "For_CV_GARCH11"
   ]
  },
  {
   "cell_type": "code",
   "execution_count": 8,
   "metadata": {},
   "outputs": [
    {
     "data": {
      "text/plain": [
       "Date\n",
       "2009-02-06    3.626604\n",
       "2009-02-13    3.246392\n",
       "2009-02-20    4.666402\n",
       "2009-02-27    6.495362\n",
       "2009-03-06    6.549102\n",
       "                ...   \n",
       "2012-11-16    2.779206\n",
       "2012-11-23    2.867859\n",
       "2012-11-30    2.577729\n",
       "2012-12-07    1.985294\n",
       "2012-12-14    1.685259\n",
       "Freq: W-FRI, Name: cond_vol, Length: 202, dtype: float64"
      ]
     },
     "execution_count": 8,
     "metadata": {},
     "output_type": "execute_result"
    }
   ],
   "source": [
    "CV_GARCH11"
   ]
  },
  {
   "attachments": {},
   "cell_type": "markdown",
   "metadata": {},
   "source": [
    "# Step 1, modify GARCH models to be multistep"
   ]
  },
  {
   "attachments": {},
   "cell_type": "markdown",
   "metadata": {},
   "source": [
    "If you find that the TARCH model does not support a horizon greater than 1, one workaround could be to implement recursive forecasting manually. This would involve using the model to make a one-step ahead forecast, appending that forecast to your time series, and then making the next one-step ahead forecast, and so on until you have made 4 forecasts. However, this approach would also be based on the assumption that future residuals are zero, and it would be computationally more intensive."
   ]
  },
  {
   "cell_type": "code",
   "execution_count": 48,
   "metadata": {},
   "outputs": [],
   "source": [
    "#Return calculation\n",
    "def ReturnCalculation (Database,lag):\n",
    "    dimension=Database.shape[0];dif=lag;Out=np.zeros([dimension-dif])\n",
    "    for i in range(dimension-dif):\n",
    "        Out[i]=(np.log(Database['Close'][i+dif])-np.log(Database['Close'][i]))\n",
    "    return np.append(np.repeat(np.nan, dif),Out), Database.index\n",
    "\n",
    "#STD Calculation\n",
    "def SDCalculation (DailyReturns, LagSD):\n",
    "    dimension=DailyReturns.shape[0]; dif=LagSD; Out=np.zeros([dimension-dif])\n",
    "    for i in range (dimension-dif):\n",
    "        Out[i]=np.std(DailyReturns[i:i+LagSD],ddof=1)\n",
    "    return np.append(np.repeat(np.nan, dif),Out)\n",
    "\n",
    "#STD Calculation\n",
    "def TrueSDCalculation (DailyReturns, LagSD):\n",
    "    dimension=DailyReturns.shape[0]; dif=LagSD; Out=np.zeros([dimension-dif+1])\n",
    "    for i in range (dimension-dif+1):\n",
    "        Out[i]=np.std(DailyReturns[i:i+LagSD],ddof=1)\n",
    "    return np.append(Out,np.repeat(np.nan, dif-1))\n",
    "\n",
    "\n",
    "#Database is calculated\n",
    "def DatabaseGeneration (Database, Lag, LagSD):\n",
    "    DailyReturns, Index = ReturnCalculation(Database,Lag)\n",
    "    DailyReturnsOld =  np.append(np.repeat(np.nan, 1),DailyReturns[0:(DailyReturns.shape[0]-1)])\n",
    "    SD = SDCalculation (DailyReturns, LagSD)\n",
    "    TrueSD = TrueSDCalculation(DailyReturns, LagSD)\n",
    "    Data = pd.DataFrame({'DailyReturns': DailyReturns, 'SD': SD, 'TrueSD': TrueSD, 'DailyReturnsOld': DailyReturnsOld})\n",
    "    Data = Data.set_index(Index) \n",
    "    return Data.dropna()\n",
    "\n",
    "#Fitting of GARCH(1,1)\n",
    "def GARCH_Model_Student (Data):\n",
    "    AR_Data=Data['DailyReturns']*100\n",
    "    GARCH11 = arch_model(AR_Data, dist ='t')\n",
    "    res_GARCH11 = GARCH11.fit(disp='off')\n",
    "    CV_GARCH11 = res_GARCH11.conditional_volatility\n",
    "    For_CV_GARCH11 = np.array(res_GARCH11.forecast(horizon=4).variance.dropna())\n",
    "    return GARCH11, res_GARCH11, CV_GARCH11, For_CV_GARCH11\n",
    "\n",
    "#Fitting of GJR_GARCH(1,1)\n",
    "def GJR_GARCH_Model_Student (Data):\n",
    "    AR_Data=Data['DailyReturns']*100\n",
    "    GJR_GARCH11 = arch_model(AR_Data, p=1, o=1, q=1, dist ='t')\n",
    "    res_GJR_GARCH11 = GJR_GARCH11.fit(disp='off')\n",
    "    CV_GJR_GARCH11 = res_GJR_GARCH11.conditional_volatility\n",
    "    For_CV_GJR_GARCH11 = np.array(res_GJR_GARCH11.forecast(horizon=4).variance.dropna())\n",
    "    return GJR_GARCH11, res_GJR_GARCH11, CV_GJR_GARCH11, For_CV_GJR_GARCH11\n",
    "\n",
    "#Fitting of TARCH(1,1)\n",
    "def TARCH_Model_Student(Data):\n",
    "    AR_Data=Data['DailyReturns']*100\n",
    "    TARCH11 = arch_model(AR_Data, p=1, o=1, q=1, power=1.0, dist ='t')\n",
    "    res_TARCH11 = TARCH11.fit(disp='off')\n",
    "    CV_TARCH11 = res_TARCH11.conditional_volatility\n",
    "    For_CV_TARCH11 = np.array(res_TARCH11.forecast(horizon=4,method= \"bootstrap\").variance.dropna())\n",
    "    return TARCH11, res_TARCH11, CV_TARCH11, For_CV_TARCH11\n",
    "\n",
    "#Fitting of EGARCH(1,1)\n",
    "def EGARCH_Model_Student(Data):\n",
    "    AR_Data=Data['DailyReturns']*100\n",
    "    EGARCH11 = arch_model(AR_Data, dist ='t', vol=\"EGARCH\")\n",
    "    res_EGARCH11 = EGARCH11.fit(disp='off')\n",
    "    CV_EGARCH11 = res_EGARCH11.conditional_volatility\n",
    "    For_CV_EGARCH11 = np.array(res_EGARCH11.forecast(horizon=4,method=\"bootstrap\").variance.dropna())\n",
    "    return EGARCH11, res_EGARCH11,CV_EGARCH11, For_CV_EGARCH11\n",
    "\n",
    "#Fitting of Absolute Value GARCH(1,1)\n",
    "def AVGARCH_Model_Student(Data):\n",
    "    AR_Data=Data['DailyReturns']*100\n",
    "    AVGARCH11 = arch_model(AR_Data, dist ='t', power=1)\n",
    "    res_AVGARCH11 = AVGARCH11.fit(disp='off',options={'maxiter': 1000})\n",
    "    CV_AVGARCH11 = res_AVGARCH11.conditional_volatility\n",
    "    For_CV_AVGARCH11 = np.array(res_AVGARCH11.forecast(horizon=4,method=\"bootstrap\").variance.dropna())\n",
    "    return AVGARCH11, res_AVGARCH11, CV_AVGARCH11, For_CV_AVGARCH11\n",
    "\n",
    "#Fitting of FIGARCH11(1,1)\n",
    "def FIGARCH_Model_Student(Data):\n",
    "    AR_Data=Data['DailyReturns']*100\n",
    "    FIGARCH11 = arch_model(AR_Data, dist ='t', vol=\"FIGARCH\")\n",
    "    res_FIGARCH11 = FIGARCH11.fit(disp='off')\n",
    "    CV_FIGARCH11 = res_FIGARCH11.conditional_volatility\n",
    "    For_CV_FIGARCH11 = np.array(res_FIGARCH11.forecast(horizon=4,method=\"bootstrap\").variance.dropna())\n",
    "    return FIGARCH11, res_FIGARCH11, CV_FIGARCH11, For_CV_FIGARCH11\n",
    "\n",
    "#this old code was inconsistent with the original, it may be been forecasting steps y2,y3,y4,y5 instead of y1,y2,y3,y4\n",
    "# def Transformer_Database (Timestep, XData_AR, YData_AR):\n",
    "#     Features = XData_AR.shape[1]\n",
    "#     Sample = XData_AR.shape[0] - Timestep - 3  # Adjusted to allow for a 4-step-ahead target\n",
    "#     XDataTrainScaledRNN = np.zeros([Sample, Timestep, Features])\n",
    "#     YDataTrainRNN = np.zeros([Sample, 4])  # Adjusted for 4-step-ahead forecasts\n",
    "    \n",
    "#     for i in range(Sample):\n",
    "#         XDataTrainScaledRNN[i,:,:] = XData_AR[i:(Timestep+i)]\n",
    "#         YDataTrainRNN[i, :] = YData_AR[(Timestep+i):(Timestep+i+4)]  # 4-step-ahead target\n",
    "    \n",
    "#     return XDataTrainScaledRNN, YDataTrainRNN\n",
    "\n",
    "def Transformer_Database (Timestep, XData_AR, YData_AR):\n",
    "    Features = XData_AR.shape[1]\n",
    "    Sample = XData_AR.shape[0] - Timestep - 2  # Adjusted to allow for a 4-step-ahead target\n",
    "    XDataTrainScaledRNN = np.zeros([Sample, Timestep, Features])\n",
    "    YDataTrainRNN = np.zeros([Sample, 4])  # Adjusted for 4-step-ahead forecasts\n",
    "    \n",
    "    for i in range(Sample):\n",
    "        XDataTrainScaledRNN[i,:,:] = XData_AR[i:(Timestep+i)]\n",
    "        YDataTrainRNN[i, :] = YData_AR[(Timestep+i-1):(Timestep+i+3)]  # 4-step-ahead target\n",
    "    \n",
    "    return XDataTrainScaledRNN, YDataTrainRNN\n",
    "\n",
    "#MultiHeadSelfAttention\n",
    "class MultiHeadSelfAttention(tf.keras.layers.Layer):\n",
    "    def __init__(self, embed_dim, num_heads=8):\n",
    "        super(MultiHeadSelfAttention, self).__init__()\n",
    "        self.embed_dim = embed_dim\n",
    "        self.num_heads = num_heads\n",
    "        if embed_dim % num_heads != 0:\n",
    "            raise ValueError(f\"embedding dimension = {embed_dim} should be divisible by number of heads = {num_heads}\")\n",
    "        self.projection_dim = embed_dim // num_heads\n",
    "        self.query_dense = tf.keras.layers.Dense(embed_dim)\n",
    "        self.key_dense = tf.keras.layers.Dense(embed_dim)\n",
    "        self.value_dense = tf.keras.layers.Dense(embed_dim)\n",
    "        self.combine_heads = tf.keras.layers.Dense(embed_dim)\n",
    "    def attention(self, query, key, value):\n",
    "        score = tf.matmul(query, key, transpose_b=True)\n",
    "        dim_key = tf.cast(tf.shape(key)[-1], tf.float32)\n",
    "        scaled_score = score / tf.math.sqrt(dim_key)\n",
    "        weights = tf.nn.softmax(scaled_score, axis=-1)\n",
    "        output = tf.matmul(weights, value)\n",
    "        return output, weights\n",
    "    def separate_heads(self, x, batch_size):\n",
    "        x = tf.reshape(x, (batch_size, -1, self.num_heads, self.projection_dim))\n",
    "        return tf.transpose(x, perm=[0, 2, 1, 3])\n",
    "    def call(self, inputs):\n",
    "        # x.shape = [batch_size, seq_len, embedding_dim]\n",
    "        batch_size = tf.shape(inputs)[0]\n",
    "        query = self.query_dense(inputs)  # (batch_size, seq_len, embed_dim)\n",
    "        key = self.key_dense(inputs)  # (batch_size, seq_len, embed_dim)\n",
    "        value = self.value_dense(inputs)  # (batch_size, seq_len, embed_dim)\n",
    "        query = self.separate_heads(query, batch_size)  # (batch_size, num_heads, seq_len, projection_dim)\n",
    "        key = self.separate_heads(key, batch_size)  # (batch_size, num_heads, seq_len, projection_dim)\n",
    "        value = self.separate_heads(value, batch_size)  # (batch_size, num_heads, seq_len, projection_dim)\n",
    "        attention, weights = self.attention(query, key, value)\n",
    "        attention = tf.transpose(attention, perm=[0, 2, 1, 3])  # (batch_size, seq_len, num_heads, projection_dim)\n",
    "        concat_attention = tf.reshape(attention, (batch_size, -1, self.embed_dim))  # (batch_size, seq_len, embed_dim)\n",
    "        output = self.combine_heads(concat_attention)  # (batch_size, seq_len, embed_dim)\n",
    "        return output\n",
    "        \n",
    "#Transformer Keras Block\n",
    "class TransformerBlock(tf.keras.layers.Layer):\n",
    "    def __init__(self, embed_dim, num_heads, ff_dim, rate=0.1):\n",
    "        super(TransformerBlock, self).__init__()\n",
    "        # self.att = MultiHeadSelfAttention(embed_dim, num_heads)\n",
    "        self.nb_dict = {}; self.Bagging=5\n",
    "        for i in range(self.Bagging):\n",
    "          self.nb_dict[\"att{0}\".format(i)]=MultiHeadSelfAttention(embed_dim, num_heads)\n",
    "        self.ffn = tf.keras.Sequential([tf.keras.layers.Dense(ff_dim, activation=\"relu\"), tf.keras.layers.Dense(embed_dim),])\n",
    "        self.layernorm1 = tf.keras.layers.LayerNormalization(epsilon=1e-6)\n",
    "        self.layernorm2 = tf.keras.layers.LayerNormalization(epsilon=1e-6)\n",
    "        self.dropout1 = tf.keras.layers.Dropout(rate)\n",
    "        self.dropout2 = tf.keras.layers.Dropout(rate)\n",
    "    def call(self, inputs, training):\n",
    "        self.att_dict = {}\n",
    "        for i in range(self.Bagging):\n",
    "          self.att_dict[\"att{0}\".format(i)]=self.nb_dict[\"att{0}\".format(i)](tf.keras.layers.Dropout(.1)(inputs))\n",
    "          if i==0: \n",
    "            self.att_dict[\"attn_output\"]=self.att_dict[\"att{0}\".format(i)]/self.Bagging \n",
    "          else: \n",
    "            self.att_dict[\"attn_output\"]=self.att_dict[\"attn_output\"]+self.att_dict[\"att{0}\".format(i)]/self.Bagging\n",
    "        attn_output = self.dropout1(self.att_dict[\"attn_output\"], training=training)\n",
    "        out1 = self.layernorm1(inputs + attn_output)\n",
    "        ffn_output = self.ffn(out1)\n",
    "        ffn_output = self.dropout2(ffn_output, training=training)\n",
    "        return self.layernorm2(out1 + ffn_output)\n",
    "    \n",
    "#Database is calculated\n",
    "def DatabaseGenerationForecast (Database, Lag, LagSD):\n",
    "    DailyReturns, Index = ReturnCalculation(Database,Lag)\n",
    "    DailyReturnsOld =  np.append(np.repeat(np.nan, 1),DailyReturns[0:(DailyReturns.shape[0]-1)])\n",
    "    SD = SDCalculation (DailyReturns, LagSD)\n",
    "    TrueSD = TrueSDCalculation(DailyReturns, LagSD)\n",
    "    Data = pd.DataFrame({'DailyReturns': DailyReturns, 'SD': SD, 'TrueSD': TrueSD, 'DailyReturnsOld': DailyReturnsOld})\n",
    "    Data = Data.set_index(Index) \n",
    "    return Data\n",
    "\n",
    "def Transformer_Model (Shape1, Shape2, HeadsAttention,Dropout, LearningRate):\n",
    "    #Model struture is defined\n",
    "    Input = tf.keras.Input(shape=(Shape1,Shape2), name=\"Input\")\n",
    "    #LSTM is applied on top of the transformer\n",
    "    X = tf.keras.layers.LSTM(units=16, dropout=Dropout, return_sequences=True)(Input)\n",
    "    #Tranformer architecture is implemented\n",
    "    transformer_block_1 = TransformerBlock(embed_dim=16, num_heads=HeadsAttention, ff_dim=8, rate=Dropout)\n",
    "    X = transformer_block_1(X)\n",
    "    #Dense layers are used\n",
    "    X = tf.keras.layers.GlobalAveragePooling1D()(X)\n",
    "    X = tf.keras.layers.Dense(8, activation=tf.nn.sigmoid)(X)\n",
    "    X = tf.keras.layers.Dropout(Dropout)(X)\n",
    "    Output = tf.keras.layers.Dense(4, activation=tf.nn.sigmoid, name=\"Output\")(X)\n",
    "    model = tf.keras.Model(inputs=Input, outputs=Output)\n",
    "    #Optimizer is defined\n",
    "    Opt = tf.keras.optimizers.legacy.Adam(learning_rate=LearningRate, beta_1=0.9, beta_2=0.999, epsilon=1e-07, amsgrad=False,name='Adam')\n",
    "    #Model is compiled\n",
    "    model.compile(optimizer=Opt, loss='mean_squared_error', metrics=['mean_squared_error'])\n",
    "    return model\n",
    "\n",
    "\n",
    "\n",
    "def DatabaseGenerationForecast_AR (Database, Lag, LagSD, For_CV_GARCH, For_CV_GJR_GARCH, For_CV_TARCH, For_CV_EGARCH, For_CV_AVGARCH, For_CV_FIGARCH):\n",
    "    Data_Forecast=DatabaseGenerationForecast(Database, Lag, LagSD).iloc[(-LagSD+1)]\n",
    "    Index_Forecast=DatabaseGenerationForecast(Database, Lag, LagSD).index[(-LagSD+1)]\n",
    "    XDataForecast=[]\n",
    "    # Flatten the double-nested lists\n",
    "    For_CV_GARCH = [item for sublist in For_CV_GARCH for item in sublist]\n",
    "    For_CV_GJR_GARCH = [item for sublist in For_CV_GJR_GARCH for item in sublist]\n",
    "    For_CV_TARCH = [item for sublist in For_CV_TARCH for item in sublist]\n",
    "    For_CV_EGARCH = [item for sublist in For_CV_EGARCH for item in sublist]\n",
    "    For_CV_AVGARCH = [item for sublist in For_CV_AVGARCH for item in sublist]\n",
    "    For_CV_FIGARCH = [item for sublist in For_CV_FIGARCH for item in sublist]\n",
    "    for i in range(len(For_CV_AVGARCH)):\n",
    "        forecast={'SD': Data_Forecast['SD'], 'DailyReturnsOld': Data_Forecast['DailyReturnsOld'], \n",
    "               'CV_GARCH' : For_CV_GARCH[i]/100, 'CV_GJR_GARCH' : For_CV_GJR_GARCH[i]/100, 'CV_TARCH' : For_CV_TARCH[i]/100, \n",
    "               'CV_EGARCH' : For_CV_EGARCH[i]/100, 'CV_AVGARCH' : For_CV_AVGARCH[i]/100, 'CV_FIGARCH' : For_CV_FIGARCH[i]/100}\n",
    "        XDataForecast.append(pd.DataFrame([forecast], index=[Index_Forecast]))\n",
    "    XDataForecast = pd.concat(XDataForecast)\n",
    "    return XDataForecast, Data_Forecast['DailyReturns']\n",
    "\n",
    "def T_ANN_ARCH_Forecast (Database,Timestep, Lag, LagSD, For_CV_GARCH, For_CV_GJR_GARCH, For_CV_TARCH, For_CV_EGARCH, For_CV_AVGARCH, For_CV_FIGARCH,Scaled_Norm, XData_AR, model):\n",
    "    XDataForecast, ReturnForecast = DatabaseGenerationForecast_AR (Database, Lag, LagSD, For_CV_GARCH, For_CV_GJR_GARCH, For_CV_TARCH, For_CV_EGARCH, For_CV_AVGARCH, For_CV_FIGARCH)\n",
    "    XDataForecast = pd.concat([XData_AR,XDataForecast])\n",
    "    XDataForecastTotalScaled = Scaled_Norm.transform(XDataForecast)\n",
    "    XDataForecastTotalScaled_T, Y_T = Transformer_Database(Timestep, XDataForecastTotalScaled, np.zeros(XDataForecastTotalScaled.shape[0]))\n",
    "    TransformerPrediction = model.predict(XDataForecastTotalScaled_T)\n",
    "    return TransformerPrediction[-1], XDataForecast.index[-1], TransformerPrediction[0:(XDataForecastTotalScaled_T.shape[0]-1)], ReturnForecast\n",
    "\n",
    "\n",
    "\n"
   ]
  },
  {
   "attachments": {},
   "cell_type": "markdown",
   "metadata": {},
   "source": [
    "## Step 2: Prepare the data for the Transformer model:\n",
    "\n",
    "In the Transformer_Database function, you need to adjust the data preparation process to handle the 4-step-ahead forecast vectors from the ARCH models. This likely involves changes to how the X and Y arrays are constructed."
   ]
  },
  {
   "cell_type": "code",
   "execution_count": 27,
   "metadata": {},
   "outputs": [],
   "source": [
    "IndexEndDays=yf.download(asset,start=start,  end=end, progress=False).resample('W-FRI').last().index\n",
    "i = 30\n",
    "Database=yf.download(asset,start=IndexEndDays[i].date()-timedelta(days=780), end=IndexEndDays[i].date(), progress=False).resample('W-FRI').last()\n",
    "#Database for fitting the models is generated\n",
    "Data = DatabaseGeneration(Database, Lag, LagSD)"
   ]
  },
  {
   "cell_type": "code",
   "execution_count": 51,
   "metadata": {},
   "outputs": [
    {
     "name": "stderr",
     "output_type": "stream",
     "text": [
      "/opt/homebrew/Caskroom/miniforge/base/envs/thesis_2/lib/python3.10/site-packages/arch/univariate/volatility.py:2774: RuntimeWarning: overflow encountered in exp\n",
      "  paths[loc, :, :] = np.exp(_lnsigma2[:, m:])\n"
     ]
    }
   ],
   "source": [
    "Lag=1; LagSD=5; Timestep=10; Dropout=0.05; LearningRate=0.01; Epochs = 100;BatchSize=64\n",
    "GARCH, GARCH_Parameters, CV_GARCH, For_CV_GARCH = GARCH_Model_Student(Data)\n",
    "GJR_GARCH, GJR_GARCH_Parameters, CV_GJR_GARCH, For_CV_GJR_GARCH = GJR_GARCH_Model_Student(Data)\n",
    "TARCH, TARCH_Parameters, CV_TARCH, For_CV_TARCH = TARCH_Model_Student(Data)\n",
    "EGARCH, EGARCH_Parameters,CV_EGARCH, For_CV_EGARCH = EGARCH_Model_Student(Data)\n",
    "AVGARCH, AVGARCH_Parameters,CV_AVGARCH, For_CV_AVGARCH = AVGARCH_Model_Student(Data)\n",
    "FIGARCH, FIGARCH_Parameters,CV_FIGARCH, For_CV_FIGARCH  = FIGARCH_Model_Student(Data)\n",
    "#Database contaning AR models is generated\n",
    "Data_AR=pd.concat([Data, CV_GARCH.rename('CV_GARCH')/100, CV_GJR_GARCH.rename('CV_GJR_GARCH')/100, CV_TARCH.rename('CV_TARCH')/100, \n",
    "                    CV_EGARCH.rename('CV_EGARCH')/100, CV_AVGARCH.rename('CV_AVGARCH')/100, CV_FIGARCH.rename('CV_FIGARCH')/100], axis=1)\n",
    "if Data_AR.shape[0]!=Data.shape[0]: print(\"Error in DB Generation\")\n",
    "# #Original explanatory and response variables are generated\n",
    "XData_AR = Data_AR.drop(Data_AR.columns[[0,2]], axis=1);YData_AR = Data_AR['TrueSD']\n",
    "# #Data is normalized\n",
    "Scaled_Norm = preprocessing.StandardScaler().fit(XData_AR); XData_AR_Norm = Scaled_Norm.transform(XData_AR)\n",
    "#Data for fitting the transformer model is generated\n",
    "XData_AR_Norm_T, YData_AR_Norm_T= Transformer_Database(Timestep, XData_AR_Norm, YData_AR)\n",
    "# #Model with transformer layer is defined\n",
    "model = Transformer_Model(XData_AR_Norm_T.shape[1], XData_AR_Norm_T.shape[2], HeadsAttention=4, Dropout=Dropout, LearningRate=LearningRate) #this shifts weekly True SD is working fine here\n",
    "model.fit(XData_AR_Norm_T, YData_AR_Norm_T, epochs=Epochs, verbose=0, batch_size=BatchSize); tf.keras.backend.clear_session()\n",
    "# #T_ANN_ARCH_Forecast\n",
    "XDataForecast, ReturnForecast = DatabaseGenerationForecast_AR (Database, Lag, LagSD, For_CV_GARCH, For_CV_GJR_GARCH, For_CV_TARCH, For_CV_EGARCH, For_CV_AVGARCH, For_CV_FIGARCH)\n",
    "XDataForecast = pd.concat([XData_AR,XDataForecast])\n",
    "XDataForecastTotalScaled = Scaled_Norm.transform(XDataForecast)\n",
    "XDataForecastTotalScaled_T, Y_T = Transformer_Database(Timestep, XDataForecastTotalScaled, np.zeros(XDataForecastTotalScaled.shape[0]))\n",
    "TransformerPrediction = model.predict(XDataForecastTotalScaled_T)\n"
   ]
  },
  {
   "cell_type": "code",
   "execution_count": 72,
   "metadata": {},
   "outputs": [
    {
     "data": {
      "text/plain": [
       "10"
      ]
     },
     "execution_count": 72,
     "metadata": {},
     "output_type": "execute_result"
    }
   ],
   "source": [
    "XData_AR_Norm_T.shape[1]"
   ]
  },
  {
   "cell_type": "code",
   "execution_count": 6,
   "metadata": {},
   "outputs": [],
   "source": [
    "def T_ANN_ARCH_Fit (Data,Database,Lag=1, LagSD=5, Timestep=10, Dropout=0.05, LearningRate=0.01, Epochs=1000, BatchSize=64):\n",
    "    GARCH, GARCH_Parameters, CV_GARCH, For_CV_GARCH = GARCH_Model_Student(Data)\n",
    "    GJR_GARCH, GJR_GARCH_Parameters, CV_GJR_GARCH, For_CV_GJR_GARCH = GJR_GARCH_Model_Student(Data)\n",
    "    TARCH, TARCH_Parameters, CV_TARCH, For_CV_TARCH = TARCH_Model_Student(Data)\n",
    "    EGARCH, EGARCH_Parameters,CV_EGARCH, For_CV_EGARCH = EGARCH_Model_Student(Data)\n",
    "    AVGARCH, AVGARCH_Parameters,CV_AVGARCH, For_CV_AVGARCH = AVGARCH_Model_Student(Data)\n",
    "    FIGARCH, FIGARCH_Parameters,CV_FIGARCH, For_CV_FIGARCH  = FIGARCH_Model_Student(Data)\n",
    "    #Database contaning AR models is generated\n",
    "    Data_AR=pd.concat([Data, CV_GARCH.rename('CV_GARCH')/100, CV_GJR_GARCH.rename('CV_GJR_GARCH')/100, CV_TARCH.rename('CV_TARCH')/100, \n",
    "                        CV_EGARCH.rename('CV_EGARCH')/100, CV_AVGARCH.rename('CV_AVGARCH')/100, CV_FIGARCH.rename('CV_FIGARCH')/100], axis=1)\n",
    "    if Data_AR.shape[0]!=Data.shape[0]: print(\"Error in DB Generation\")\n",
    "    # #Original explanatory and response variables are generated\n",
    "    XData_AR = Data_AR.drop(Data_AR.columns[[0,2]], axis=1);YData_AR = Data_AR['TrueSD']\n",
    "    # #Data is normalized\n",
    "    Scaled_Norm = preprocessing.StandardScaler().fit(XData_AR); XData_AR_Norm = Scaled_Norm.transform(XData_AR)\n",
    "    #Data for fitting the transformer model is generated\n",
    "    XData_AR_Norm_T, YData_AR_Norm_T= Transformer_Database(Timestep, XData_AR_Norm, YData_AR)\n",
    "    #Model with transformer layer is defined\n",
    "    model = Transformer_Model(XData_AR_Norm_T.shape[1], XData_AR_Norm_T.shape[2], HeadsAttention=4, Dropout=Dropout, LearningRate=LearningRate)\n",
    "    model.fit(XData_AR_Norm_T, YData_AR_Norm_T, epochs=Epochs, verbose=0, batch_size=BatchSize); tf.keras.backend.clear_session()\n",
    "    Forecast, Date_Forecast, TrainPrediction, ReturnForecast = T_ANN_ARCH_Forecast (Database,Timestep, Lag, LagSD, For_CV_GARCH, For_CV_GJR_GARCH, For_CV_TARCH, For_CV_EGARCH, For_CV_AVGARCH, For_CV_FIGARCH,Scaled_Norm, XData_AR, model)\n",
    "    return {'Date_Forecast':Date_Forecast,'Forecast_T_ANN_ARCH':Forecast}\n"
   ]
  },
  {
   "cell_type": "code",
   "execution_count": 50,
   "metadata": {},
   "outputs": [
    {
     "name": "stderr",
     "output_type": "stream",
     "text": [
      "  0%|          | 0/418 [00:00<?, ?it/s]"
     ]
    },
    {
     "name": "stdout",
     "output_type": "stream",
     "text": [
      "3/3 [==============================] - 0s 2ms/step\n"
     ]
    },
    {
     "name": "stderr",
     "output_type": "stream",
     "text": [
      "  0%|          | 1/418 [00:05<39:34,  5.69s/it]"
     ]
    },
    {
     "name": "stdout",
     "output_type": "stream",
     "text": [
      "{'Date_Forecast': datetime.date(2007, 12, 14), 'h1': 0.03497136, 'h2': 0.022665333, 'h3': 0.03168502, 'h4': 0.030848978}\n"
     ]
    },
    {
     "name": "stderr",
     "output_type": "stream",
     "text": [
      "/opt/homebrew/Caskroom/miniforge/base/envs/thesis_2/lib/python3.10/site-packages/arch/univariate/base.py:766: ConvergenceWarning: The optimizer returned code 9. The message is:\n",
      "Iteration limit reached\n",
      "See scipy.optimize.fmin_slsqp for code meaning.\n",
      "\n",
      "  warnings.warn(\n"
     ]
    },
    {
     "name": "stdout",
     "output_type": "stream",
     "text": [
      "3/3 [==============================] - 1s 4ms/step\n"
     ]
    },
    {
     "name": "stderr",
     "output_type": "stream",
     "text": [
      "  0%|          | 2/418 [00:11<41:18,  5.96s/it]"
     ]
    },
    {
     "name": "stdout",
     "output_type": "stream",
     "text": [
      "{'Date_Forecast': datetime.date(2007, 12, 21), 'h1': 0.03929632, 'h2': 0.04360979, 'h3': 0.02569111, 'h4': 0.03890451}\n",
      "3/3 [==============================] - 1s 10ms/step\n"
     ]
    },
    {
     "name": "stderr",
     "output_type": "stream",
     "text": [
      "  1%|          | 3/418 [00:17<39:13,  5.67s/it]"
     ]
    },
    {
     "name": "stdout",
     "output_type": "stream",
     "text": [
      "{'Date_Forecast': datetime.date(2007, 12, 28), 'h1': 0.06071839, 'h2': 0.06945754, 'h3': 0.06665496, 'h4': 0.06754115}\n"
     ]
    },
    {
     "name": "stderr",
     "output_type": "stream",
     "text": [
      "/opt/homebrew/Caskroom/miniforge/base/envs/thesis_2/lib/python3.10/site-packages/arch/univariate/base.py:766: ConvergenceWarning: The optimizer returned code 9. The message is:\n",
      "Iteration limit reached\n",
      "See scipy.optimize.fmin_slsqp for code meaning.\n",
      "\n",
      "  warnings.warn(\n"
     ]
    },
    {
     "name": "stdout",
     "output_type": "stream",
     "text": [
      "3/3 [==============================] - 0s 3ms/step\n"
     ]
    },
    {
     "name": "stderr",
     "output_type": "stream",
     "text": [
      "  1%|          | 4/418 [00:22<37:25,  5.42s/it]"
     ]
    },
    {
     "name": "stdout",
     "output_type": "stream",
     "text": [
      "{'Date_Forecast': datetime.date(2008, 1, 4), 'h1': 0.027108746, 'h2': 0.031572998, 'h3': 0.03489385, 'h4': 0.026885495}\n"
     ]
    },
    {
     "name": "stderr",
     "output_type": "stream",
     "text": [
      "/opt/homebrew/Caskroom/miniforge/base/envs/thesis_2/lib/python3.10/site-packages/arch/univariate/base.py:766: ConvergenceWarning: The optimizer returned code 4. The message is:\n",
      "Inequality constraints incompatible\n",
      "See scipy.optimize.fmin_slsqp for code meaning.\n",
      "\n",
      "  warnings.warn(\n"
     ]
    },
    {
     "name": "stdout",
     "output_type": "stream",
     "text": [
      "3/3 [==============================] - 1s 3ms/step\n"
     ]
    },
    {
     "name": "stderr",
     "output_type": "stream",
     "text": [
      "  1%|          | 5/418 [00:27<37:41,  5.48s/it]"
     ]
    },
    {
     "name": "stdout",
     "output_type": "stream",
     "text": [
      "{'Date_Forecast': datetime.date(2008, 1, 11), 'h1': 0.043010846, 'h2': 0.016559092, 'h3': 0.0323402, 'h4': 0.02200612}\n",
      "3/3 [==============================] - 0s 3ms/step\n"
     ]
    },
    {
     "name": "stderr",
     "output_type": "stream",
     "text": [
      "  1%|▏         | 6/418 [00:33<39:11,  5.71s/it]"
     ]
    },
    {
     "name": "stdout",
     "output_type": "stream",
     "text": [
      "{'Date_Forecast': datetime.date(2008, 1, 18), 'h1': 0.03235584, 'h2': 0.02564695, 'h3': 0.03693881, 'h4': 0.025612}\n"
     ]
    },
    {
     "name": "stderr",
     "output_type": "stream",
     "text": [
      "/opt/homebrew/Caskroom/miniforge/base/envs/thesis_2/lib/python3.10/site-packages/arch/univariate/base.py:766: ConvergenceWarning: The optimizer returned code 9. The message is:\n",
      "Iteration limit reached\n",
      "See scipy.optimize.fmin_slsqp for code meaning.\n",
      "\n",
      "  warnings.warn(\n"
     ]
    },
    {
     "name": "stdout",
     "output_type": "stream",
     "text": [
      "3/3 [==============================] - 1s 6ms/step\n"
     ]
    },
    {
     "name": "stderr",
     "output_type": "stream",
     "text": [
      "  2%|▏         | 7/418 [00:40<40:31,  5.92s/it]"
     ]
    },
    {
     "name": "stdout",
     "output_type": "stream",
     "text": [
      "{'Date_Forecast': datetime.date(2008, 1, 25), 'h1': 0.023511037, 'h2': 0.04946319, 'h3': 0.040819217, 'h4': 0.04609193}\n",
      "3/3 [==============================] - 1s 3ms/step\n"
     ]
    },
    {
     "name": "stderr",
     "output_type": "stream",
     "text": [
      "  2%|▏         | 8/418 [00:45<39:05,  5.72s/it]"
     ]
    },
    {
     "name": "stdout",
     "output_type": "stream",
     "text": [
      "{'Date_Forecast': datetime.date(2008, 2, 1), 'h1': 0.028865313, 'h2': 0.037205543, 'h3': 0.030699871, 'h4': 0.03189207}\n"
     ]
    },
    {
     "name": "stderr",
     "output_type": "stream",
     "text": [
      "/opt/homebrew/Caskroom/miniforge/base/envs/thesis_2/lib/python3.10/site-packages/arch/univariate/base.py:766: ConvergenceWarning: The optimizer returned code 9. The message is:\n",
      "Iteration limit reached\n",
      "See scipy.optimize.fmin_slsqp for code meaning.\n",
      "\n",
      "  warnings.warn(\n"
     ]
    },
    {
     "name": "stdout",
     "output_type": "stream",
     "text": [
      "3/3 [==============================] - 0s 3ms/step\n"
     ]
    },
    {
     "name": "stderr",
     "output_type": "stream",
     "text": [
      "  2%|▏         | 9/418 [00:50<36:43,  5.39s/it]"
     ]
    },
    {
     "name": "stdout",
     "output_type": "stream",
     "text": [
      "{'Date_Forecast': datetime.date(2008, 2, 8), 'h1': 0.036687627, 'h2': 0.025093712, 'h3': 0.030937135, 'h4': 0.04312942}\n"
     ]
    },
    {
     "name": "stderr",
     "output_type": "stream",
     "text": [
      "/opt/homebrew/Caskroom/miniforge/base/envs/thesis_2/lib/python3.10/site-packages/arch/univariate/base.py:766: ConvergenceWarning: The optimizer returned code 9. The message is:\n",
      "Iteration limit reached\n",
      "See scipy.optimize.fmin_slsqp for code meaning.\n",
      "\n",
      "  warnings.warn(\n"
     ]
    },
    {
     "name": "stdout",
     "output_type": "stream",
     "text": [
      "3/3 [==============================] - 1s 4ms/step\n"
     ]
    },
    {
     "name": "stderr",
     "output_type": "stream",
     "text": [
      "  2%|▏         | 10/418 [00:56<37:37,  5.53s/it]"
     ]
    },
    {
     "name": "stdout",
     "output_type": "stream",
     "text": [
      "{'Date_Forecast': datetime.date(2008, 2, 15), 'h1': 0.04991467, 'h2': 0.05363543, 'h3': 0.04273692, 'h4': 0.04539703}\n",
      "3/3 [==============================] - 1s 4ms/step\n"
     ]
    },
    {
     "name": "stderr",
     "output_type": "stream",
     "text": [
      "  3%|▎         | 11/418 [01:02<39:29,  5.82s/it]"
     ]
    },
    {
     "name": "stdout",
     "output_type": "stream",
     "text": [
      "{'Date_Forecast': datetime.date(2008, 2, 22), 'h1': 0.038176347, 'h2': 0.036062233, 'h3': 0.039037228, 'h4': 0.025777852}\n"
     ]
    },
    {
     "name": "stderr",
     "output_type": "stream",
     "text": [
      "/opt/homebrew/Caskroom/miniforge/base/envs/thesis_2/lib/python3.10/site-packages/arch/univariate/base.py:766: ConvergenceWarning: The optimizer returned code 4. The message is:\n",
      "Inequality constraints incompatible\n",
      "See scipy.optimize.fmin_slsqp for code meaning.\n",
      "\n",
      "  warnings.warn(\n"
     ]
    },
    {
     "name": "stdout",
     "output_type": "stream",
     "text": [
      "3/3 [==============================] - 0s 3ms/step\n"
     ]
    },
    {
     "name": "stderr",
     "output_type": "stream",
     "text": [
      "  3%|▎         | 12/418 [01:07<37:10,  5.49s/it]"
     ]
    },
    {
     "name": "stdout",
     "output_type": "stream",
     "text": [
      "{'Date_Forecast': datetime.date(2008, 2, 29), 'h1': 0.038166136, 'h2': 0.02831465, 'h3': 0.03158762, 'h4': 0.054578558}\n",
      "3/3 [==============================] - 2s 4ms/step\n"
     ]
    },
    {
     "name": "stderr",
     "output_type": "stream",
     "text": [
      "  3%|▎         | 13/418 [01:13<38:19,  5.68s/it]"
     ]
    },
    {
     "name": "stdout",
     "output_type": "stream",
     "text": [
      "{'Date_Forecast': datetime.date(2008, 3, 7), 'h1': 0.031237477, 'h2': 0.023468958, 'h3': 0.023973057, 'h4': 0.021515734}\n",
      "3/3 [==============================] - 1s 6ms/step\n"
     ]
    },
    {
     "name": "stderr",
     "output_type": "stream",
     "text": [
      "  3%|▎         | 14/418 [01:18<36:12,  5.38s/it]"
     ]
    },
    {
     "name": "stdout",
     "output_type": "stream",
     "text": [
      "{'Date_Forecast': datetime.date(2008, 3, 14), 'h1': 0.027417703, 'h2': 0.028560314, 'h3': 0.029316764, 'h4': 0.031904}\n",
      "3/3 [==============================] - 0s 4ms/step\n"
     ]
    },
    {
     "name": "stderr",
     "output_type": "stream",
     "text": [
      "  4%|▎         | 15/418 [01:22<34:41,  5.16s/it]"
     ]
    },
    {
     "name": "stdout",
     "output_type": "stream",
     "text": [
      "{'Date_Forecast': datetime.date(2008, 3, 21), 'h1': 0.02794842, 'h2': 0.040624525, 'h3': 0.028927458, 'h4': 0.028173726}\n"
     ]
    },
    {
     "name": "stderr",
     "output_type": "stream",
     "text": [
      "/opt/homebrew/Caskroom/miniforge/base/envs/thesis_2/lib/python3.10/site-packages/arch/univariate/base.py:766: ConvergenceWarning: The optimizer returned code 9. The message is:\n",
      "Iteration limit reached\n",
      "See scipy.optimize.fmin_slsqp for code meaning.\n",
      "\n",
      "  warnings.warn(\n"
     ]
    },
    {
     "name": "stdout",
     "output_type": "stream",
     "text": [
      "3/3 [==============================] - 1s 4ms/step\n"
     ]
    },
    {
     "name": "stderr",
     "output_type": "stream",
     "text": [
      "  4%|▍         | 16/418 [01:27<33:26,  4.99s/it]"
     ]
    },
    {
     "name": "stdout",
     "output_type": "stream",
     "text": [
      "{'Date_Forecast': datetime.date(2008, 3, 28), 'h1': 0.024029851, 'h2': 0.037947703, 'h3': 0.043702167, 'h4': 0.027215434}\n",
      "3/3 [==============================] - 0s 2ms/step\n"
     ]
    },
    {
     "name": "stderr",
     "output_type": "stream",
     "text": [
      "  4%|▍         | 17/418 [01:33<35:38,  5.33s/it]"
     ]
    },
    {
     "name": "stdout",
     "output_type": "stream",
     "text": [
      "{'Date_Forecast': datetime.date(2008, 4, 4), 'h1': 0.03681753, 'h2': 0.059981056, 'h3': 0.045401268, 'h4': 0.03022943}\n",
      "3/3 [==============================] - 0s 3ms/step\n"
     ]
    },
    {
     "name": "stderr",
     "output_type": "stream",
     "text": [
      "  4%|▍         | 18/418 [01:38<34:31,  5.18s/it]"
     ]
    },
    {
     "name": "stdout",
     "output_type": "stream",
     "text": [
      "{'Date_Forecast': datetime.date(2008, 4, 11), 'h1': 0.036877077, 'h2': 0.04842829, 'h3': 0.024017833, 'h4': 0.041566934}\n",
      "3/3 [==============================] - 1s 3ms/step\n"
     ]
    },
    {
     "name": "stderr",
     "output_type": "stream",
     "text": [
      "  5%|▍         | 19/418 [01:43<34:01,  5.12s/it]"
     ]
    },
    {
     "name": "stdout",
     "output_type": "stream",
     "text": [
      "{'Date_Forecast': datetime.date(2008, 4, 18), 'h1': 0.03368607, 'h2': 0.024926078, 'h3': 0.03970322, 'h4': 0.03064344}\n",
      "3/3 [==============================] - 1s 3ms/step\n"
     ]
    },
    {
     "name": "stderr",
     "output_type": "stream",
     "text": [
      "  5%|▍         | 20/418 [01:48<33:58,  5.12s/it]"
     ]
    },
    {
     "name": "stdout",
     "output_type": "stream",
     "text": [
      "{'Date_Forecast': datetime.date(2008, 4, 25), 'h1': 0.041180003, 'h2': 0.042373527, 'h3': 0.027782723, 'h4': 0.033049013}\n",
      "3/3 [==============================] - 1s 4ms/step\n"
     ]
    },
    {
     "name": "stderr",
     "output_type": "stream",
     "text": [
      "  5%|▌         | 21/418 [01:55<37:09,  5.62s/it]"
     ]
    },
    {
     "name": "stdout",
     "output_type": "stream",
     "text": [
      "{'Date_Forecast': datetime.date(2008, 5, 2), 'h1': 0.035412837, 'h2': 0.032427892, 'h3': 0.03542883, 'h4': 0.031894196}\n",
      "3/3 [==============================] - 1s 3ms/step\n"
     ]
    },
    {
     "name": "stderr",
     "output_type": "stream",
     "text": [
      "  5%|▌         | 22/418 [02:03<43:15,  6.55s/it]"
     ]
    },
    {
     "name": "stdout",
     "output_type": "stream",
     "text": [
      "{'Date_Forecast': datetime.date(2008, 5, 9), 'h1': 0.02905989, 'h2': 0.023857616, 'h3': 0.025461728, 'h4': 0.028707849}\n"
     ]
    },
    {
     "name": "stderr",
     "output_type": "stream",
     "text": [
      "/opt/homebrew/Caskroom/miniforge/base/envs/thesis_2/lib/python3.10/site-packages/arch/univariate/base.py:766: ConvergenceWarning: The optimizer returned code 9. The message is:\n",
      "Iteration limit reached\n",
      "See scipy.optimize.fmin_slsqp for code meaning.\n",
      "\n",
      "  warnings.warn(\n"
     ]
    },
    {
     "name": "stdout",
     "output_type": "stream",
     "text": [
      "3/3 [==============================] - 1s 5ms/step\n"
     ]
    },
    {
     "name": "stderr",
     "output_type": "stream",
     "text": [
      "  6%|▌         | 23/418 [02:11<44:37,  6.78s/it]"
     ]
    },
    {
     "name": "stdout",
     "output_type": "stream",
     "text": [
      "{'Date_Forecast': datetime.date(2008, 5, 16), 'h1': 0.031981833, 'h2': 0.027235547, 'h3': 0.034072828, 'h4': 0.026050314}\n"
     ]
    },
    {
     "name": "stderr",
     "output_type": "stream",
     "text": [
      "/opt/homebrew/Caskroom/miniforge/base/envs/thesis_2/lib/python3.10/site-packages/arch/univariate/base.py:766: ConvergenceWarning: The optimizer returned code 9. The message is:\n",
      "Iteration limit reached\n",
      "See scipy.optimize.fmin_slsqp for code meaning.\n",
      "\n",
      "  warnings.warn(\n"
     ]
    },
    {
     "name": "stdout",
     "output_type": "stream",
     "text": [
      "3/3 [==============================] - 1s 6ms/step\n"
     ]
    },
    {
     "name": "stderr",
     "output_type": "stream",
     "text": [
      "  6%|▌         | 24/418 [02:24<56:52,  8.66s/it]"
     ]
    },
    {
     "name": "stdout",
     "output_type": "stream",
     "text": [
      "{'Date_Forecast': datetime.date(2008, 5, 23), 'h1': 0.031154677, 'h2': 0.028455589, 'h3': 0.023309218, 'h4': 0.039547797}\n"
     ]
    },
    {
     "name": "stderr",
     "output_type": "stream",
     "text": [
      "/opt/homebrew/Caskroom/miniforge/base/envs/thesis_2/lib/python3.10/site-packages/arch/univariate/base.py:766: ConvergenceWarning: The optimizer returned code 9. The message is:\n",
      "Iteration limit reached\n",
      "See scipy.optimize.fmin_slsqp for code meaning.\n",
      "\n",
      "  warnings.warn(\n"
     ]
    },
    {
     "name": "stdout",
     "output_type": "stream",
     "text": [
      "3/3 [==============================] - 1s 11ms/step\n"
     ]
    },
    {
     "name": "stderr",
     "output_type": "stream",
     "text": [
      "  6%|▌         | 25/418 [02:36<1:03:36,  9.71s/it]"
     ]
    },
    {
     "name": "stdout",
     "output_type": "stream",
     "text": [
      "{'Date_Forecast': datetime.date(2008, 5, 30), 'h1': 0.03831209, 'h2': 0.036097117, 'h3': 0.020801941, 'h4': 0.03060516}\n"
     ]
    },
    {
     "name": "stderr",
     "output_type": "stream",
     "text": [
      "/opt/homebrew/Caskroom/miniforge/base/envs/thesis_2/lib/python3.10/site-packages/arch/univariate/base.py:766: ConvergenceWarning: The optimizer returned code 9. The message is:\n",
      "Iteration limit reached\n",
      "See scipy.optimize.fmin_slsqp for code meaning.\n",
      "\n",
      "  warnings.warn(\n"
     ]
    },
    {
     "name": "stdout",
     "output_type": "stream",
     "text": [
      "3/3 [==============================] - 1s 3ms/step\n"
     ]
    },
    {
     "name": "stderr",
     "output_type": "stream",
     "text": [
      "  6%|▌         | 26/418 [02:46<1:03:19,  9.69s/it]"
     ]
    },
    {
     "name": "stdout",
     "output_type": "stream",
     "text": [
      "{'Date_Forecast': datetime.date(2008, 6, 6), 'h1': 0.04525326, 'h2': 0.032384183, 'h3': 0.043375622, 'h4': 0.037349626}\n"
     ]
    },
    {
     "name": "stderr",
     "output_type": "stream",
     "text": [
      "/opt/homebrew/Caskroom/miniforge/base/envs/thesis_2/lib/python3.10/site-packages/arch/univariate/base.py:766: ConvergenceWarning: The optimizer returned code 9. The message is:\n",
      "Iteration limit reached\n",
      "See scipy.optimize.fmin_slsqp for code meaning.\n",
      "\n",
      "  warnings.warn(\n"
     ]
    },
    {
     "name": "stdout",
     "output_type": "stream",
     "text": [
      "3/3 [==============================] - 1s 7ms/step\n"
     ]
    },
    {
     "name": "stderr",
     "output_type": "stream",
     "text": [
      "  6%|▋         | 27/418 [02:57<1:07:09, 10.31s/it]"
     ]
    },
    {
     "name": "stdout",
     "output_type": "stream",
     "text": [
      "{'Date_Forecast': datetime.date(2008, 6, 13), 'h1': 0.02919383, 'h2': 0.037422188, 'h3': 0.036595955, 'h4': 0.032604095}\n"
     ]
    },
    {
     "name": "stderr",
     "output_type": "stream",
     "text": [
      "/opt/homebrew/Caskroom/miniforge/base/envs/thesis_2/lib/python3.10/site-packages/arch/univariate/base.py:766: ConvergenceWarning: The optimizer returned code 9. The message is:\n",
      "Iteration limit reached\n",
      "See scipy.optimize.fmin_slsqp for code meaning.\n",
      "\n",
      "  warnings.warn(\n"
     ]
    },
    {
     "name": "stdout",
     "output_type": "stream",
     "text": [
      "3/3 [==============================] - 5s 4ms/step\n"
     ]
    },
    {
     "name": "stderr",
     "output_type": "stream",
     "text": [
      "  7%|▋         | 28/418 [03:10<1:10:56, 10.91s/it]"
     ]
    },
    {
     "name": "stdout",
     "output_type": "stream",
     "text": [
      "{'Date_Forecast': datetime.date(2008, 6, 20), 'h1': 0.03277801, 'h2': 0.032196254, 'h3': 0.040135995, 'h4': 0.030799324}\n"
     ]
    },
    {
     "name": "stderr",
     "output_type": "stream",
     "text": [
      "/opt/homebrew/Caskroom/miniforge/base/envs/thesis_2/lib/python3.10/site-packages/arch/univariate/base.py:766: ConvergenceWarning: The optimizer returned code 9. The message is:\n",
      "Iteration limit reached\n",
      "See scipy.optimize.fmin_slsqp for code meaning.\n",
      "\n",
      "  warnings.warn(\n"
     ]
    },
    {
     "name": "stdout",
     "output_type": "stream",
     "text": [
      "3/3 [==============================] - 1s 8ms/step\n"
     ]
    },
    {
     "name": "stderr",
     "output_type": "stream",
     "text": [
      "  7%|▋         | 29/418 [03:24<1:17:01, 11.88s/it]"
     ]
    },
    {
     "name": "stdout",
     "output_type": "stream",
     "text": [
      "{'Date_Forecast': datetime.date(2008, 6, 27), 'h1': 0.036231827, 'h2': 0.034891114, 'h3': 0.03701113, 'h4': 0.029843135}\n"
     ]
    },
    {
     "name": "stderr",
     "output_type": "stream",
     "text": [
      "/opt/homebrew/Caskroom/miniforge/base/envs/thesis_2/lib/python3.10/site-packages/arch/univariate/base.py:766: ConvergenceWarning: The optimizer returned code 9. The message is:\n",
      "Iteration limit reached\n",
      "See scipy.optimize.fmin_slsqp for code meaning.\n",
      "\n",
      "  warnings.warn(\n"
     ]
    },
    {
     "name": "stdout",
     "output_type": "stream",
     "text": [
      "3/3 [==============================] - 1s 4ms/step\n"
     ]
    },
    {
     "name": "stderr",
     "output_type": "stream",
     "text": [
      "  7%|▋         | 30/418 [03:32<1:10:20, 10.88s/it]"
     ]
    },
    {
     "name": "stdout",
     "output_type": "stream",
     "text": [
      "{'Date_Forecast': datetime.date(2008, 7, 4), 'h1': 0.0378649, 'h2': 0.07990617, 'h3': 0.046360273, 'h4': 0.046835765}\n",
      "3/3 [==============================] - 1s 22ms/step\n"
     ]
    },
    {
     "name": "stderr",
     "output_type": "stream",
     "text": [
      "  7%|▋         | 31/418 [03:42<1:08:23, 10.60s/it]"
     ]
    },
    {
     "name": "stdout",
     "output_type": "stream",
     "text": [
      "{'Date_Forecast': datetime.date(2008, 7, 11), 'h1': 0.035669103, 'h2': 0.028401118, 'h3': 0.029357783, 'h4': 0.04397066}\n",
      "3/3 [==============================] - 1s 4ms/step\n"
     ]
    },
    {
     "name": "stderr",
     "output_type": "stream",
     "text": [
      "  8%|▊         | 32/418 [03:52<1:06:48, 10.39s/it]"
     ]
    },
    {
     "name": "stdout",
     "output_type": "stream",
     "text": [
      "{'Date_Forecast': datetime.date(2008, 7, 18), 'h1': 0.036323767, 'h2': 0.023946958, 'h3': 0.032640845, 'h4': 0.030989246}\n"
     ]
    },
    {
     "name": "stderr",
     "output_type": "stream",
     "text": [
      "/opt/homebrew/Caskroom/miniforge/base/envs/thesis_2/lib/python3.10/site-packages/arch/univariate/base.py:766: ConvergenceWarning: The optimizer returned code 9. The message is:\n",
      "Iteration limit reached\n",
      "See scipy.optimize.fmin_slsqp for code meaning.\n",
      "\n",
      "  warnings.warn(\n"
     ]
    },
    {
     "name": "stdout",
     "output_type": "stream",
     "text": [
      "3/3 [==============================] - 1s 4ms/step\n"
     ]
    },
    {
     "name": "stderr",
     "output_type": "stream",
     "text": [
      "  8%|▊         | 33/418 [03:59<59:23,  9.26s/it]  "
     ]
    },
    {
     "name": "stdout",
     "output_type": "stream",
     "text": [
      "{'Date_Forecast': datetime.date(2008, 7, 25), 'h1': 0.035133537, 'h2': 0.034236588, 'h3': 0.0474979, 'h4': 0.02835933}\n",
      "3/3 [==============================] - 1s 5ms/step\n"
     ]
    },
    {
     "name": "stderr",
     "output_type": "stream",
     "text": [
      "  8%|▊         | 34/418 [04:06<54:53,  8.58s/it]"
     ]
    },
    {
     "name": "stdout",
     "output_type": "stream",
     "text": [
      "{'Date_Forecast': datetime.date(2008, 8, 1), 'h1': 0.046002954, 'h2': 0.056052413, 'h3': 0.046498396, 'h4': 0.03894522}\n"
     ]
    },
    {
     "name": "stderr",
     "output_type": "stream",
     "text": [
      "/opt/homebrew/Caskroom/miniforge/base/envs/thesis_2/lib/python3.10/site-packages/arch/univariate/base.py:766: ConvergenceWarning: The optimizer returned code 9. The message is:\n",
      "Iteration limit reached\n",
      "See scipy.optimize.fmin_slsqp for code meaning.\n",
      "\n",
      "  warnings.warn(\n"
     ]
    },
    {
     "name": "stdout",
     "output_type": "stream",
     "text": [
      "3/3 [==============================] - 1s 4ms/step\n"
     ]
    },
    {
     "name": "stderr",
     "output_type": "stream",
     "text": [
      "  8%|▊         | 35/418 [04:13<52:52,  8.28s/it]"
     ]
    },
    {
     "name": "stdout",
     "output_type": "stream",
     "text": [
      "{'Date_Forecast': datetime.date(2008, 8, 8), 'h1': 0.033499084, 'h2': 0.058788285, 'h3': 0.04543112, 'h4': 0.03177659}\n"
     ]
    },
    {
     "name": "stderr",
     "output_type": "stream",
     "text": [
      "/opt/homebrew/Caskroom/miniforge/base/envs/thesis_2/lib/python3.10/site-packages/arch/univariate/base.py:766: ConvergenceWarning: The optimizer returned code 9. The message is:\n",
      "Iteration limit reached\n",
      "See scipy.optimize.fmin_slsqp for code meaning.\n",
      "\n",
      "  warnings.warn(\n"
     ]
    },
    {
     "name": "stdout",
     "output_type": "stream",
     "text": [
      "3/3 [==============================] - 1s 17ms/step\n"
     ]
    },
    {
     "name": "stderr",
     "output_type": "stream",
     "text": [
      "  9%|▊         | 36/418 [04:25<58:45,  9.23s/it]"
     ]
    },
    {
     "name": "stdout",
     "output_type": "stream",
     "text": [
      "{'Date_Forecast': datetime.date(2008, 8, 15), 'h1': 0.03917832, 'h2': 0.02463961, 'h3': 0.017583054, 'h4': 0.030172175}\n"
     ]
    },
    {
     "name": "stderr",
     "output_type": "stream",
     "text": [
      "/opt/homebrew/Caskroom/miniforge/base/envs/thesis_2/lib/python3.10/site-packages/arch/univariate/base.py:766: ConvergenceWarning: The optimizer returned code 9. The message is:\n",
      "Iteration limit reached\n",
      "See scipy.optimize.fmin_slsqp for code meaning.\n",
      "\n",
      "  warnings.warn(\n"
     ]
    },
    {
     "name": "stdout",
     "output_type": "stream",
     "text": [
      "3/3 [==============================] - 1s 13ms/step\n"
     ]
    },
    {
     "name": "stderr",
     "output_type": "stream",
     "text": [
      "  9%|▉         | 37/418 [04:34<59:25,  9.36s/it]"
     ]
    },
    {
     "name": "stdout",
     "output_type": "stream",
     "text": [
      "{'Date_Forecast': datetime.date(2008, 8, 22), 'h1': 0.03692361, 'h2': 0.039459065, 'h3': 0.027119601, 'h4': 0.030565599}\n",
      "3/3 [==============================] - 1s 9ms/step\n"
     ]
    },
    {
     "name": "stderr",
     "output_type": "stream",
     "text": [
      "  9%|▉         | 38/418 [05:05<1:38:59, 15.63s/it]"
     ]
    },
    {
     "name": "stdout",
     "output_type": "stream",
     "text": [
      "{'Date_Forecast': datetime.date(2008, 8, 29), 'h1': 0.03288649, 'h2': 0.02763192, 'h3': 0.044846877, 'h4': 0.057874154}\n"
     ]
    },
    {
     "name": "stderr",
     "output_type": "stream",
     "text": [
      "/opt/homebrew/Caskroom/miniforge/base/envs/thesis_2/lib/python3.10/site-packages/arch/univariate/base.py:766: ConvergenceWarning: The optimizer returned code 9. The message is:\n",
      "Iteration limit reached\n",
      "See scipy.optimize.fmin_slsqp for code meaning.\n",
      "\n",
      "  warnings.warn(\n"
     ]
    },
    {
     "name": "stdout",
     "output_type": "stream",
     "text": [
      "3/3 [==============================] - 1s 7ms/step\n"
     ]
    },
    {
     "name": "stderr",
     "output_type": "stream",
     "text": [
      "  9%|▉         | 39/418 [05:13<1:24:51, 13.43s/it]"
     ]
    },
    {
     "name": "stdout",
     "output_type": "stream",
     "text": [
      "{'Date_Forecast': datetime.date(2008, 9, 5), 'h1': 0.03614972, 'h2': 0.034621835, 'h3': 0.040389013, 'h4': 0.03385313}\n"
     ]
    },
    {
     "name": "stderr",
     "output_type": "stream",
     "text": [
      "/opt/homebrew/Caskroom/miniforge/base/envs/thesis_2/lib/python3.10/site-packages/arch/univariate/base.py:766: ConvergenceWarning: The optimizer returned code 9. The message is:\n",
      "Iteration limit reached\n",
      "See scipy.optimize.fmin_slsqp for code meaning.\n",
      "\n",
      "  warnings.warn(\n"
     ]
    },
    {
     "name": "stdout",
     "output_type": "stream",
     "text": [
      "3/3 [==============================] - 1s 2ms/step\n"
     ]
    },
    {
     "name": "stderr",
     "output_type": "stream",
     "text": [
      " 10%|▉         | 40/418 [05:21<1:14:44, 11.86s/it]"
     ]
    },
    {
     "name": "stdout",
     "output_type": "stream",
     "text": [
      "{'Date_Forecast': datetime.date(2008, 9, 12), 'h1': 0.04589717, 'h2': 0.036247265, 'h3': 0.05593903, 'h4': 0.047862012}\n"
     ]
    },
    {
     "name": "stderr",
     "output_type": "stream",
     "text": [
      "/opt/homebrew/Caskroom/miniforge/base/envs/thesis_2/lib/python3.10/site-packages/arch/univariate/base.py:766: ConvergenceWarning: The optimizer returned code 9. The message is:\n",
      "Iteration limit reached\n",
      "See scipy.optimize.fmin_slsqp for code meaning.\n",
      "\n",
      "  warnings.warn(\n"
     ]
    },
    {
     "name": "stdout",
     "output_type": "stream",
     "text": [
      "3/3 [==============================] - 1s 6ms/step\n"
     ]
    },
    {
     "name": "stderr",
     "output_type": "stream",
     "text": [
      " 10%|▉         | 41/418 [05:30<1:08:14, 10.86s/it]"
     ]
    },
    {
     "name": "stdout",
     "output_type": "stream",
     "text": [
      "{'Date_Forecast': datetime.date(2008, 9, 19), 'h1': 0.03898779, 'h2': 0.032931425, 'h3': 0.030275403, 'h4': 0.045970015}\n"
     ]
    },
    {
     "name": "stderr",
     "output_type": "stream",
     "text": [
      "/opt/homebrew/Caskroom/miniforge/base/envs/thesis_2/lib/python3.10/site-packages/arch/univariate/base.py:766: ConvergenceWarning: The optimizer returned code 9. The message is:\n",
      "Iteration limit reached\n",
      "See scipy.optimize.fmin_slsqp for code meaning.\n",
      "\n",
      "  warnings.warn(\n"
     ]
    },
    {
     "name": "stdout",
     "output_type": "stream",
     "text": [
      "3/3 [==============================] - 1s 4ms/step\n"
     ]
    },
    {
     "name": "stderr",
     "output_type": "stream",
     "text": [
      " 10%|█         | 42/418 [05:39<1:05:20, 10.43s/it]"
     ]
    },
    {
     "name": "stdout",
     "output_type": "stream",
     "text": [
      "{'Date_Forecast': datetime.date(2008, 9, 26), 'h1': 0.030579928, 'h2': 0.052352086, 'h3': 0.04358403, 'h4': 0.031922054}\n"
     ]
    },
    {
     "name": "stderr",
     "output_type": "stream",
     "text": [
      "/opt/homebrew/Caskroom/miniforge/base/envs/thesis_2/lib/python3.10/site-packages/arch/univariate/base.py:766: ConvergenceWarning: The optimizer returned code 9. The message is:\n",
      "Iteration limit reached\n",
      "See scipy.optimize.fmin_slsqp for code meaning.\n",
      "\n",
      "  warnings.warn(\n"
     ]
    },
    {
     "name": "stdout",
     "output_type": "stream",
     "text": [
      "3/3 [==============================] - 1s 4ms/step\n"
     ]
    },
    {
     "name": "stderr",
     "output_type": "stream",
     "text": [
      " 10%|█         | 43/418 [05:46<58:59,  9.44s/it]  "
     ]
    },
    {
     "name": "stdout",
     "output_type": "stream",
     "text": [
      "{'Date_Forecast': datetime.date(2008, 10, 3), 'h1': 0.039333895, 'h2': 0.028766243, 'h3': 0.037287343, 'h4': 0.049831547}\n",
      "3/3 [==============================] - 0s 3ms/step\n"
     ]
    },
    {
     "name": "stderr",
     "output_type": "stream",
     "text": [
      " 11%|█         | 44/418 [05:51<50:33,  8.11s/it]"
     ]
    },
    {
     "name": "stdout",
     "output_type": "stream",
     "text": [
      "{'Date_Forecast': datetime.date(2008, 10, 10), 'h1': 0.028573137, 'h2': 0.028749121, 'h3': 0.037127595, 'h4': 0.034554593}\n"
     ]
    },
    {
     "name": "stderr",
     "output_type": "stream",
     "text": [
      "/opt/homebrew/Caskroom/miniforge/base/envs/thesis_2/lib/python3.10/site-packages/arch/univariate/base.py:766: ConvergenceWarning: The optimizer returned code 9. The message is:\n",
      "Iteration limit reached\n",
      "See scipy.optimize.fmin_slsqp for code meaning.\n",
      "\n",
      "  warnings.warn(\n"
     ]
    },
    {
     "name": "stdout",
     "output_type": "stream",
     "text": [
      "3/3 [==============================] - 0s 3ms/step\n"
     ]
    },
    {
     "name": "stderr",
     "output_type": "stream",
     "text": [
      " 11%|█         | 45/418 [05:56<44:19,  7.13s/it]"
     ]
    },
    {
     "name": "stdout",
     "output_type": "stream",
     "text": [
      "{'Date_Forecast': datetime.date(2008, 10, 17), 'h1': 0.044210374, 'h2': 0.037584312, 'h3': 0.03775367, 'h4': 0.03385917}\n"
     ]
    },
    {
     "name": "stderr",
     "output_type": "stream",
     "text": [
      "/opt/homebrew/Caskroom/miniforge/base/envs/thesis_2/lib/python3.10/site-packages/arch/univariate/base.py:766: ConvergenceWarning: The optimizer returned code 9. The message is:\n",
      "Iteration limit reached\n",
      "See scipy.optimize.fmin_slsqp for code meaning.\n",
      "\n",
      "  warnings.warn(\n"
     ]
    },
    {
     "name": "stdout",
     "output_type": "stream",
     "text": [
      "3/3 [==============================] - 1s 3ms/step\n"
     ]
    },
    {
     "name": "stderr",
     "output_type": "stream",
     "text": [
      " 11%|█         | 46/418 [06:01<40:13,  6.49s/it]"
     ]
    },
    {
     "name": "stdout",
     "output_type": "stream",
     "text": [
      "{'Date_Forecast': datetime.date(2008, 10, 24), 'h1': 0.034279928, 'h2': 0.029422859, 'h3': 0.045942135, 'h4': 0.037214518}\n"
     ]
    },
    {
     "name": "stderr",
     "output_type": "stream",
     "text": [
      "/opt/homebrew/Caskroom/miniforge/base/envs/thesis_2/lib/python3.10/site-packages/arch/univariate/base.py:766: ConvergenceWarning: The optimizer returned code 9. The message is:\n",
      "Iteration limit reached\n",
      "See scipy.optimize.fmin_slsqp for code meaning.\n",
      "\n",
      "  warnings.warn(\n"
     ]
    },
    {
     "name": "stdout",
     "output_type": "stream",
     "text": [
      "3/3 [==============================] - 0s 4ms/step\n"
     ]
    },
    {
     "name": "stderr",
     "output_type": "stream",
     "text": [
      " 11%|█         | 47/418 [06:07<38:31,  6.23s/it]"
     ]
    },
    {
     "name": "stdout",
     "output_type": "stream",
     "text": [
      "{'Date_Forecast': datetime.date(2008, 10, 31), 'h1': 0.028821342, 'h2': 0.06537377, 'h3': 0.032207415, 'h4': 0.039474916}\n",
      "3/3 [==============================] - 1s 3ms/step\n"
     ]
    },
    {
     "name": "stderr",
     "output_type": "stream",
     "text": [
      " 11%|█▏        | 48/418 [06:12<35:46,  5.80s/it]"
     ]
    },
    {
     "name": "stdout",
     "output_type": "stream",
     "text": [
      "{'Date_Forecast': datetime.date(2008, 11, 7), 'h1': 0.026448641, 'h2': 0.0335037, 'h3': 0.040506274, 'h4': 0.034104407}\n"
     ]
    },
    {
     "name": "stderr",
     "output_type": "stream",
     "text": [
      "/opt/homebrew/Caskroom/miniforge/base/envs/thesis_2/lib/python3.10/site-packages/arch/univariate/base.py:766: ConvergenceWarning: The optimizer returned code 9. The message is:\n",
      "Iteration limit reached\n",
      "See scipy.optimize.fmin_slsqp for code meaning.\n",
      "\n",
      "  warnings.warn(\n"
     ]
    },
    {
     "name": "stdout",
     "output_type": "stream",
     "text": [
      "3/3 [==============================] - 0s 4ms/step\n"
     ]
    },
    {
     "name": "stderr",
     "output_type": "stream",
     "text": [
      " 12%|█▏        | 49/418 [06:16<33:46,  5.49s/it]"
     ]
    },
    {
     "name": "stdout",
     "output_type": "stream",
     "text": [
      "{'Date_Forecast': datetime.date(2008, 11, 14), 'h1': 0.05114002, 'h2': 0.04238234, 'h3': 0.051215935, 'h4': 0.07110424}\n",
      "3/3 [==============================] - 0s 2ms/step\n"
     ]
    },
    {
     "name": "stderr",
     "output_type": "stream",
     "text": [
      " 12%|█▏        | 50/418 [06:21<31:40,  5.16s/it]"
     ]
    },
    {
     "name": "stdout",
     "output_type": "stream",
     "text": [
      "{'Date_Forecast': datetime.date(2008, 11, 21), 'h1': 0.04413095, 'h2': 0.04365799, 'h3': 0.035273295, 'h4': 0.037037764}\n",
      "3/3 [==============================] - 0s 3ms/step\n"
     ]
    },
    {
     "name": "stderr",
     "output_type": "stream",
     "text": [
      " 12%|█▏        | 51/418 [06:27<33:03,  5.40s/it]"
     ]
    },
    {
     "name": "stdout",
     "output_type": "stream",
     "text": [
      "{'Date_Forecast': datetime.date(2008, 11, 28), 'h1': 0.04487284, 'h2': 0.043742802, 'h3': 0.054081447, 'h4': 0.029268548}\n",
      "3/3 [==============================] - 1s 4ms/step\n"
     ]
    },
    {
     "name": "stderr",
     "output_type": "stream",
     "text": [
      " 12%|█▏        | 52/418 [06:32<31:51,  5.22s/it]"
     ]
    },
    {
     "name": "stdout",
     "output_type": "stream",
     "text": [
      "{'Date_Forecast': datetime.date(2008, 12, 5), 'h1': 0.032869365, 'h2': 0.04789554, 'h3': 0.05722661, 'h4': 0.05088292}\n",
      "3/3 [==============================] - 0s 3ms/step\n"
     ]
    },
    {
     "name": "stderr",
     "output_type": "stream",
     "text": [
      " 13%|█▎        | 53/418 [06:36<29:53,  4.91s/it]"
     ]
    },
    {
     "name": "stdout",
     "output_type": "stream",
     "text": [
      "{'Date_Forecast': datetime.date(2008, 12, 12), 'h1': 0.035997435, 'h2': 0.041851886, 'h3': 0.04804745, 'h4': 0.044227052}\n",
      "3/3 [==============================] - 0s 3ms/step\n"
     ]
    },
    {
     "name": "stderr",
     "output_type": "stream",
     "text": [
      " 13%|█▎        | 54/418 [06:40<28:27,  4.69s/it]"
     ]
    },
    {
     "name": "stdout",
     "output_type": "stream",
     "text": [
      "{'Date_Forecast': datetime.date(2008, 12, 19), 'h1': 0.04736588, 'h2': 0.068165265, 'h3': 0.049104545, 'h4': 0.031014927}\n",
      "3/3 [==============================] - 1s 5ms/step\n"
     ]
    },
    {
     "name": "stderr",
     "output_type": "stream",
     "text": [
      " 13%|█▎        | 55/418 [06:50<38:37,  6.38s/it]"
     ]
    },
    {
     "name": "stdout",
     "output_type": "stream",
     "text": [
      "{'Date_Forecast': datetime.date(2008, 12, 26), 'h1': 0.04886706, 'h2': 0.06922883, 'h3': 0.05640696, 'h4': 0.067625515}\n",
      "3/3 [==============================] - 1s 7ms/step\n"
     ]
    },
    {
     "name": "stderr",
     "output_type": "stream",
     "text": [
      " 13%|█▎        | 56/418 [06:56<37:19,  6.19s/it]"
     ]
    },
    {
     "name": "stdout",
     "output_type": "stream",
     "text": [
      "{'Date_Forecast': datetime.date(2009, 1, 2), 'h1': 0.032872066, 'h2': 0.051834356, 'h3': 0.03103721, 'h4': 0.03745434}\n",
      "3/3 [==============================] - 1s 12ms/step\n"
     ]
    },
    {
     "name": "stderr",
     "output_type": "stream",
     "text": [
      " 14%|█▎        | 57/418 [07:02<37:18,  6.20s/it]"
     ]
    },
    {
     "name": "stdout",
     "output_type": "stream",
     "text": [
      "{'Date_Forecast': datetime.date(2009, 1, 9), 'h1': 0.04660396, 'h2': 0.041337207, 'h3': 0.04207778, 'h4': 0.037614007}\n",
      "3/3 [==============================] - 2s 3ms/step\n"
     ]
    },
    {
     "name": "stderr",
     "output_type": "stream",
     "text": [
      " 14%|█▍        | 58/418 [07:10<39:54,  6.65s/it]"
     ]
    },
    {
     "name": "stdout",
     "output_type": "stream",
     "text": [
      "{'Date_Forecast': datetime.date(2009, 1, 16), 'h1': 0.03032491, 'h2': 0.0352352, 'h3': 0.039040584, 'h4': 0.031000653}\n",
      "3/3 [==============================] - 1s 6ms/step\n"
     ]
    },
    {
     "name": "stderr",
     "output_type": "stream",
     "text": [
      " 14%|█▍        | 59/418 [07:18<42:49,  7.16s/it]"
     ]
    },
    {
     "name": "stdout",
     "output_type": "stream",
     "text": [
      "{'Date_Forecast': datetime.date(2009, 1, 23), 'h1': 0.032332756, 'h2': 0.048630446, 'h3': 0.041608386, 'h4': 0.036880847}\n",
      "3/3 [==============================] - 0s 3ms/step\n"
     ]
    },
    {
     "name": "stderr",
     "output_type": "stream",
     "text": [
      " 14%|█▍        | 60/418 [07:25<41:26,  6.95s/it]"
     ]
    },
    {
     "name": "stdout",
     "output_type": "stream",
     "text": [
      "{'Date_Forecast': datetime.date(2009, 1, 30), 'h1': 0.040319614, 'h2': 0.036577825, 'h3': 0.032839634, 'h4': 0.04551094}\n",
      "3/3 [==============================] - 1s 4ms/step\n"
     ]
    },
    {
     "name": "stderr",
     "output_type": "stream",
     "text": [
      " 15%|█▍        | 61/418 [07:30<37:49,  6.36s/it]"
     ]
    },
    {
     "name": "stdout",
     "output_type": "stream",
     "text": [
      "{'Date_Forecast': datetime.date(2009, 2, 6), 'h1': 0.053683747, 'h2': 0.06159007, 'h3': 0.043672588, 'h4': 0.040931128}\n",
      "3/3 [==============================] - 1s 13ms/step\n"
     ]
    },
    {
     "name": "stderr",
     "output_type": "stream",
     "text": [
      " 15%|█▍        | 62/418 [07:40<45:11,  7.62s/it]"
     ]
    },
    {
     "name": "stdout",
     "output_type": "stream",
     "text": [
      "{'Date_Forecast': datetime.date(2009, 2, 13), 'h1': 0.048597086, 'h2': 0.04851119, 'h3': 0.057385482, 'h4': 0.046609733}\n",
      "3/3 [==============================] - 1s 3ms/step\n"
     ]
    },
    {
     "name": "stderr",
     "output_type": "stream",
     "text": [
      " 15%|█▌        | 63/418 [07:46<41:10,  6.96s/it]"
     ]
    },
    {
     "name": "stdout",
     "output_type": "stream",
     "text": [
      "{'Date_Forecast': datetime.date(2009, 2, 20), 'h1': 0.06033027, 'h2': 0.050739553, 'h3': 0.06975822, 'h4': 0.061111603}\n",
      "3/3 [==============================] - 1s 3ms/step\n"
     ]
    },
    {
     "name": "stderr",
     "output_type": "stream",
     "text": [
      " 15%|█▌        | 64/418 [07:53<41:53,  7.10s/it]"
     ]
    },
    {
     "name": "stdout",
     "output_type": "stream",
     "text": [
      "{'Date_Forecast': datetime.date(2009, 2, 27), 'h1': 0.04350176, 'h2': 0.044062633, 'h3': 0.038430385, 'h4': 0.045255132}\n",
      "3/3 [==============================] - 0s 3ms/step\n"
     ]
    },
    {
     "name": "stderr",
     "output_type": "stream",
     "text": [
      " 16%|█▌        | 65/418 [07:59<39:56,  6.79s/it]"
     ]
    },
    {
     "name": "stdout",
     "output_type": "stream",
     "text": [
      "{'Date_Forecast': datetime.date(2009, 3, 6), 'h1': 0.039447688, 'h2': 0.04912367, 'h3': 0.045137204, 'h4': 0.045886617}\n",
      "3/3 [==============================] - 1s 3ms/step\n"
     ]
    },
    {
     "name": "stderr",
     "output_type": "stream",
     "text": [
      " 16%|█▌        | 66/418 [08:07<40:53,  6.97s/it]"
     ]
    },
    {
     "name": "stdout",
     "output_type": "stream",
     "text": [
      "{'Date_Forecast': datetime.date(2009, 3, 13), 'h1': 0.045678623, 'h2': 0.0386674, 'h3': 0.033144232, 'h4': 0.045657467}\n",
      "3/3 [==============================] - 1s 4ms/step\n"
     ]
    },
    {
     "name": "stderr",
     "output_type": "stream",
     "text": [
      " 16%|█▌        | 67/418 [08:13<39:55,  6.83s/it]"
     ]
    },
    {
     "name": "stdout",
     "output_type": "stream",
     "text": [
      "{'Date_Forecast': datetime.date(2009, 3, 20), 'h1': 0.04649354, 'h2': 0.047550056, 'h3': 0.04201831, 'h4': 0.051979475}\n",
      "3/3 [==============================] - 0s 3ms/step\n"
     ]
    },
    {
     "name": "stderr",
     "output_type": "stream",
     "text": [
      " 16%|█▋        | 68/418 [08:19<37:43,  6.47s/it]"
     ]
    },
    {
     "name": "stdout",
     "output_type": "stream",
     "text": [
      "{'Date_Forecast': datetime.date(2009, 3, 27), 'h1': 0.03976486, 'h2': 0.047395013, 'h3': 0.04825739, 'h4': 0.041749857}\n",
      "3/3 [==============================] - 0s 3ms/step\n"
     ]
    },
    {
     "name": "stderr",
     "output_type": "stream",
     "text": [
      " 17%|█▋        | 69/418 [08:24<35:40,  6.13s/it]"
     ]
    },
    {
     "name": "stdout",
     "output_type": "stream",
     "text": [
      "{'Date_Forecast': datetime.date(2009, 4, 3), 'h1': 0.036271736, 'h2': 0.04628468, 'h3': 0.036901847, 'h4': 0.03867385}\n",
      "3/3 [==============================] - 1s 4ms/step\n"
     ]
    },
    {
     "name": "stderr",
     "output_type": "stream",
     "text": [
      " 17%|█▋        | 70/418 [08:33<40:49,  7.04s/it]"
     ]
    },
    {
     "name": "stdout",
     "output_type": "stream",
     "text": [
      "{'Date_Forecast': datetime.date(2009, 4, 10), 'h1': 0.037118904, 'h2': 0.039273635, 'h3': 0.039000854, 'h4': 0.040491294}\n",
      "3/3 [==============================] - 1s 3ms/step\n"
     ]
    },
    {
     "name": "stderr",
     "output_type": "stream",
     "text": [
      " 17%|█▋        | 71/418 [08:40<40:14,  6.96s/it]"
     ]
    },
    {
     "name": "stdout",
     "output_type": "stream",
     "text": [
      "{'Date_Forecast': datetime.date(2009, 4, 17), 'h1': 0.039996747, 'h2': 0.04353662, 'h3': 0.037146885, 'h4': 0.03626855}\n",
      "3/3 [==============================] - 1s 3ms/step\n"
     ]
    },
    {
     "name": "stderr",
     "output_type": "stream",
     "text": [
      " 17%|█▋        | 72/418 [08:46<37:47,  6.55s/it]"
     ]
    },
    {
     "name": "stdout",
     "output_type": "stream",
     "text": [
      "{'Date_Forecast': datetime.date(2009, 4, 24), 'h1': 0.040268697, 'h2': 0.03766964, 'h3': 0.03989237, 'h4': 0.04148012}\n",
      "3/3 [==============================] - 1s 3ms/step\n"
     ]
    },
    {
     "name": "stderr",
     "output_type": "stream",
     "text": [
      " 17%|█▋        | 73/418 [08:54<40:57,  7.12s/it]"
     ]
    },
    {
     "name": "stdout",
     "output_type": "stream",
     "text": [
      "{'Date_Forecast': datetime.date(2009, 5, 1), 'h1': 0.03700639, 'h2': 0.043519504, 'h3': 0.038926475, 'h4': 0.04035464}\n",
      "3/3 [==============================] - 1s 3ms/step\n"
     ]
    },
    {
     "name": "stderr",
     "output_type": "stream",
     "text": [
      " 18%|█▊        | 74/418 [09:02<43:11,  7.53s/it]"
     ]
    },
    {
     "name": "stdout",
     "output_type": "stream",
     "text": [
      "{'Date_Forecast': datetime.date(2009, 5, 8), 'h1': 0.052377686, 'h2': 0.049302828, 'h3': 0.039665602, 'h4': 0.05646562}\n",
      "3/3 [==============================] - 1s 2ms/step\n"
     ]
    },
    {
     "name": "stderr",
     "output_type": "stream",
     "text": [
      " 18%|█▊        | 75/418 [09:07<38:39,  6.76s/it]"
     ]
    },
    {
     "name": "stdout",
     "output_type": "stream",
     "text": [
      "{'Date_Forecast': datetime.date(2009, 5, 15), 'h1': 0.040349778, 'h2': 0.042761013, 'h3': 0.054976918, 'h4': 0.03650957}\n",
      "3/3 [==============================] - 1s 3ms/step\n"
     ]
    },
    {
     "name": "stderr",
     "output_type": "stream",
     "text": [
      " 18%|█▊        | 76/418 [09:13<36:57,  6.48s/it]"
     ]
    },
    {
     "name": "stdout",
     "output_type": "stream",
     "text": [
      "{'Date_Forecast': datetime.date(2009, 5, 22), 'h1': 0.041435257, 'h2': 0.04075066, 'h3': 0.044581216, 'h4': 0.04340746}\n",
      "3/3 [==============================] - 1s 14ms/step\n"
     ]
    },
    {
     "name": "stderr",
     "output_type": "stream",
     "text": [
      " 18%|█▊        | 77/418 [09:20<37:01,  6.51s/it]"
     ]
    },
    {
     "name": "stdout",
     "output_type": "stream",
     "text": [
      "{'Date_Forecast': datetime.date(2009, 5, 29), 'h1': 0.04660435, 'h2': 0.036643565, 'h3': 0.04950396, 'h4': 0.047312394}\n",
      "3/3 [==============================] - 1s 5ms/step\n"
     ]
    },
    {
     "name": "stderr",
     "output_type": "stream",
     "text": [
      " 19%|█▊        | 78/418 [09:29<40:59,  7.23s/it]"
     ]
    },
    {
     "name": "stdout",
     "output_type": "stream",
     "text": [
      "{'Date_Forecast': datetime.date(2009, 6, 5), 'h1': 0.053281166, 'h2': 0.045477923, 'h3': 0.03795049, 'h4': 0.04734978}\n",
      "3/3 [==============================] - 0s 3ms/step\n"
     ]
    },
    {
     "name": "stderr",
     "output_type": "stream",
     "text": [
      " 19%|█▉        | 79/418 [09:35<39:20,  6.96s/it]"
     ]
    },
    {
     "name": "stdout",
     "output_type": "stream",
     "text": [
      "{'Date_Forecast': datetime.date(2009, 6, 12), 'h1': 0.04795829, 'h2': 0.039238304, 'h3': 0.052802373, 'h4': 0.03949582}\n",
      "3/3 [==============================] - 1s 4ms/step\n"
     ]
    },
    {
     "name": "stderr",
     "output_type": "stream",
     "text": [
      " 19%|█▉        | 80/418 [09:43<40:39,  7.22s/it]"
     ]
    },
    {
     "name": "stdout",
     "output_type": "stream",
     "text": [
      "{'Date_Forecast': datetime.date(2009, 6, 19), 'h1': 0.039587654, 'h2': 0.039667856, 'h3': 0.046740826, 'h4': 0.038910057}\n",
      "3/3 [==============================] - 1s 12ms/step\n"
     ]
    },
    {
     "name": "stderr",
     "output_type": "stream",
     "text": [
      " 19%|█▉        | 81/418 [09:51<41:12,  7.34s/it]"
     ]
    },
    {
     "name": "stdout",
     "output_type": "stream",
     "text": [
      "{'Date_Forecast': datetime.date(2009, 6, 26), 'h1': 0.048937503, 'h2': 0.036043596, 'h3': 0.045039956, 'h4': 0.03781282}\n",
      "3/3 [==============================] - 0s 4ms/step\n"
     ]
    },
    {
     "name": "stderr",
     "output_type": "stream",
     "text": [
      " 20%|█▉        | 82/418 [09:56<37:36,  6.72s/it]"
     ]
    },
    {
     "name": "stdout",
     "output_type": "stream",
     "text": [
      "{'Date_Forecast': datetime.date(2009, 7, 3), 'h1': 0.04132602, 'h2': 0.0425792, 'h3': 0.048262212, 'h4': 0.05388795}\n",
      "3/3 [==============================] - 1s 4ms/step\n"
     ]
    },
    {
     "name": "stderr",
     "output_type": "stream",
     "text": [
      " 20%|█▉        | 83/418 [10:04<39:47,  7.13s/it]"
     ]
    },
    {
     "name": "stdout",
     "output_type": "stream",
     "text": [
      "{'Date_Forecast': datetime.date(2009, 7, 10), 'h1': 0.039382625, 'h2': 0.042256482, 'h3': 0.042631853, 'h4': 0.04356378}\n",
      "3/3 [==============================] - 1s 5ms/step\n"
     ]
    },
    {
     "name": "stderr",
     "output_type": "stream",
     "text": [
      " 20%|██        | 84/418 [10:10<37:24,  6.72s/it]"
     ]
    },
    {
     "name": "stdout",
     "output_type": "stream",
     "text": [
      "{'Date_Forecast': datetime.date(2009, 7, 17), 'h1': 0.048154254, 'h2': 0.045048144, 'h3': 0.040697347, 'h4': 0.033878706}\n",
      "3/3 [==============================] - 1s 6ms/step\n"
     ]
    },
    {
     "name": "stderr",
     "output_type": "stream",
     "text": [
      " 20%|██        | 85/418 [10:17<37:44,  6.80s/it]"
     ]
    },
    {
     "name": "stdout",
     "output_type": "stream",
     "text": [
      "{'Date_Forecast': datetime.date(2009, 7, 24), 'h1': 0.042077, 'h2': 0.038121857, 'h3': 0.044077367, 'h4': 0.03810675}\n",
      "3/3 [==============================] - 1s 3ms/step\n"
     ]
    },
    {
     "name": "stderr",
     "output_type": "stream",
     "text": [
      " 21%|██        | 86/418 [10:22<35:40,  6.45s/it]"
     ]
    },
    {
     "name": "stdout",
     "output_type": "stream",
     "text": [
      "{'Date_Forecast': datetime.date(2009, 7, 31), 'h1': 0.04650537, 'h2': 0.053134248, 'h3': 0.041857127, 'h4': 0.05355888}\n",
      "3/3 [==============================] - 0s 3ms/step\n"
     ]
    },
    {
     "name": "stderr",
     "output_type": "stream",
     "text": [
      " 21%|██        | 87/418 [10:27<31:55,  5.79s/it]"
     ]
    },
    {
     "name": "stdout",
     "output_type": "stream",
     "text": [
      "{'Date_Forecast': datetime.date(2009, 8, 7), 'h1': 0.043751117, 'h2': 0.04039448, 'h3': 0.04447962, 'h4': 0.038330488}\n",
      "3/3 [==============================] - 1s 8ms/step\n"
     ]
    },
    {
     "name": "stderr",
     "output_type": "stream",
     "text": [
      " 21%|██        | 88/418 [10:31<30:01,  5.46s/it]"
     ]
    },
    {
     "name": "stdout",
     "output_type": "stream",
     "text": [
      "{'Date_Forecast': datetime.date(2009, 8, 14), 'h1': 0.039706647, 'h2': 0.039230417, 'h3': 0.040987592, 'h4': 0.037862066}\n",
      "3/3 [==============================] - 1s 4ms/step\n"
     ]
    },
    {
     "name": "stderr",
     "output_type": "stream",
     "text": [
      " 21%|██▏       | 89/418 [10:38<31:30,  5.75s/it]"
     ]
    },
    {
     "name": "stdout",
     "output_type": "stream",
     "text": [
      "{'Date_Forecast': datetime.date(2009, 8, 21), 'h1': 0.05076732, 'h2': 0.05378769, 'h3': 0.037862103, 'h4': 0.042974804}\n",
      "3/3 [==============================] - 1s 6ms/step\n"
     ]
    },
    {
     "name": "stderr",
     "output_type": "stream",
     "text": [
      " 22%|██▏       | 90/418 [10:43<30:54,  5.65s/it]"
     ]
    },
    {
     "name": "stdout",
     "output_type": "stream",
     "text": [
      "{'Date_Forecast': datetime.date(2009, 8, 28), 'h1': 0.051455244, 'h2': 0.04311149, 'h3': 0.047558207, 'h4': 0.044497214}\n",
      "3/3 [==============================] - 0s 3ms/step\n"
     ]
    },
    {
     "name": "stderr",
     "output_type": "stream",
     "text": [
      " 22%|██▏       | 91/418 [10:48<29:32,  5.42s/it]"
     ]
    },
    {
     "name": "stdout",
     "output_type": "stream",
     "text": [
      "{'Date_Forecast': datetime.date(2009, 9, 4), 'h1': 0.047738485, 'h2': 0.054680523, 'h3': 0.051106576, 'h4': 0.042254765}\n",
      "3/3 [==============================] - 1s 6ms/step\n"
     ]
    },
    {
     "name": "stderr",
     "output_type": "stream",
     "text": [
      " 22%|██▏       | 92/418 [10:53<28:32,  5.25s/it]"
     ]
    },
    {
     "name": "stdout",
     "output_type": "stream",
     "text": [
      "{'Date_Forecast': datetime.date(2009, 9, 11), 'h1': 0.044979047, 'h2': 0.03654256, 'h3': 0.04584431, 'h4': 0.042637467}\n",
      "3/3 [==============================] - 0s 3ms/step\n"
     ]
    },
    {
     "name": "stderr",
     "output_type": "stream",
     "text": [
      " 22%|██▏       | 93/418 [10:58<28:37,  5.29s/it]"
     ]
    },
    {
     "name": "stdout",
     "output_type": "stream",
     "text": [
      "{'Date_Forecast': datetime.date(2009, 9, 18), 'h1': 0.05919528, 'h2': 0.043262154, 'h3': 0.047967926, 'h4': 0.07772493}\n",
      "3/3 [==============================] - 1s 5ms/step\n"
     ]
    },
    {
     "name": "stderr",
     "output_type": "stream",
     "text": [
      " 22%|██▏       | 94/418 [11:04<30:13,  5.60s/it]"
     ]
    },
    {
     "name": "stdout",
     "output_type": "stream",
     "text": [
      "{'Date_Forecast': datetime.date(2009, 9, 25), 'h1': 0.042210452, 'h2': 0.03778204, 'h3': 0.054845836, 'h4': 0.04825188}\n",
      "3/3 [==============================] - 1s 4ms/step\n"
     ]
    },
    {
     "name": "stderr",
     "output_type": "stream",
     "text": [
      " 23%|██▎       | 95/418 [11:11<31:42,  5.89s/it]"
     ]
    },
    {
     "name": "stdout",
     "output_type": "stream",
     "text": [
      "{'Date_Forecast': datetime.date(2009, 10, 2), 'h1': 0.06495703, 'h2': 0.06561206, 'h3': 0.0525182, 'h4': 0.05006263}\n",
      "3/3 [==============================] - 1s 11ms/step\n"
     ]
    },
    {
     "name": "stderr",
     "output_type": "stream",
     "text": [
      " 23%|██▎       | 96/418 [11:19<34:15,  6.38s/it]"
     ]
    },
    {
     "name": "stdout",
     "output_type": "stream",
     "text": [
      "{'Date_Forecast': datetime.date(2009, 10, 9), 'h1': 0.047719497, 'h2': 0.049463246, 'h3': 0.039691538, 'h4': 0.045929693}\n",
      "3/3 [==============================] - 1s 5ms/step\n"
     ]
    },
    {
     "name": "stderr",
     "output_type": "stream",
     "text": [
      " 23%|██▎       | 97/418 [11:26<35:00,  6.54s/it]"
     ]
    },
    {
     "name": "stdout",
     "output_type": "stream",
     "text": [
      "{'Date_Forecast': datetime.date(2009, 10, 16), 'h1': 0.048452478, 'h2': 0.04059121, 'h3': 0.047266066, 'h4': 0.038738158}\n",
      "3/3 [==============================] - 1s 3ms/step\n"
     ]
    },
    {
     "name": "stderr",
     "output_type": "stream",
     "text": [
      " 23%|██▎       | 98/418 [11:31<33:30,  6.28s/it]"
     ]
    },
    {
     "name": "stdout",
     "output_type": "stream",
     "text": [
      "{'Date_Forecast': datetime.date(2009, 10, 23), 'h1': 0.04274504, 'h2': 0.0374725, 'h3': 0.051783457, 'h4': 0.044317707}\n",
      "3/3 [==============================] - 1s 4ms/step\n"
     ]
    },
    {
     "name": "stderr",
     "output_type": "stream",
     "text": [
      " 24%|██▎       | 99/418 [11:38<33:43,  6.34s/it]"
     ]
    },
    {
     "name": "stdout",
     "output_type": "stream",
     "text": [
      "{'Date_Forecast': datetime.date(2009, 10, 30), 'h1': 0.047171578, 'h2': 0.05010638, 'h3': 0.050965544, 'h4': 0.056155093}\n",
      "3/3 [==============================] - 1s 5ms/step\n"
     ]
    },
    {
     "name": "stderr",
     "output_type": "stream",
     "text": [
      " 24%|██▍       | 100/418 [11:44<33:37,  6.35s/it]"
     ]
    },
    {
     "name": "stdout",
     "output_type": "stream",
     "text": [
      "{'Date_Forecast': datetime.date(2009, 11, 6), 'h1': 0.041395444, 'h2': 0.045854717, 'h3': 0.047042027, 'h4': 0.052180376}\n",
      "3/3 [==============================] - 1s 7ms/step\n"
     ]
    },
    {
     "name": "stderr",
     "output_type": "stream",
     "text": [
      " 24%|██▍       | 101/418 [11:50<33:10,  6.28s/it]"
     ]
    },
    {
     "name": "stdout",
     "output_type": "stream",
     "text": [
      "{'Date_Forecast': datetime.date(2009, 11, 13), 'h1': 0.052255757, 'h2': 0.052232157, 'h3': 0.047180187, 'h4': 0.04948236}\n",
      "3/3 [==============================] - 1s 4ms/step\n"
     ]
    },
    {
     "name": "stderr",
     "output_type": "stream",
     "text": [
      " 24%|██▍       | 102/418 [11:56<32:37,  6.20s/it]"
     ]
    },
    {
     "name": "stdout",
     "output_type": "stream",
     "text": [
      "{'Date_Forecast': datetime.date(2009, 11, 20), 'h1': 0.03700849, 'h2': 0.04077739, 'h3': 0.04389038, 'h4': 0.05195086}\n",
      "3/3 [==============================] - 1s 11ms/step\n"
     ]
    },
    {
     "name": "stderr",
     "output_type": "stream",
     "text": [
      " 25%|██▍       | 103/418 [12:01<31:02,  5.91s/it]"
     ]
    },
    {
     "name": "stdout",
     "output_type": "stream",
     "text": [
      "{'Date_Forecast': datetime.date(2009, 11, 27), 'h1': 0.037248667, 'h2': 0.050607137, 'h3': 0.047137808, 'h4': 0.042506732}\n",
      "3/3 [==============================] - 1s 5ms/step\n"
     ]
    },
    {
     "name": "stderr",
     "output_type": "stream",
     "text": [
      " 25%|██▍       | 104/418 [12:09<33:46,  6.45s/it]"
     ]
    },
    {
     "name": "stdout",
     "output_type": "stream",
     "text": [
      "{'Date_Forecast': datetime.date(2009, 12, 4), 'h1': 0.049216714, 'h2': 0.04430311, 'h3': 0.032795373, 'h4': 0.04173148}\n",
      "3/3 [==============================] - 1s 4ms/step\n"
     ]
    },
    {
     "name": "stderr",
     "output_type": "stream",
     "text": [
      " 25%|██▌       | 105/418 [12:15<33:20,  6.39s/it]"
     ]
    },
    {
     "name": "stdout",
     "output_type": "stream",
     "text": [
      "{'Date_Forecast': datetime.date(2009, 12, 11), 'h1': 0.048519313, 'h2': 0.039268754, 'h3': 0.04115687, 'h4': 0.05825596}\n",
      "3/3 [==============================] - 1s 8ms/step\n"
     ]
    },
    {
     "name": "stderr",
     "output_type": "stream",
     "text": [
      " 25%|██▌       | 106/418 [12:22<32:59,  6.35s/it]"
     ]
    },
    {
     "name": "stdout",
     "output_type": "stream",
     "text": [
      "{'Date_Forecast': datetime.date(2009, 12, 18), 'h1': 0.044649504, 'h2': 0.045658797, 'h3': 0.041000847, 'h4': 0.056230653}\n",
      "3/3 [==============================] - 1s 8ms/step\n"
     ]
    },
    {
     "name": "stderr",
     "output_type": "stream",
     "text": [
      " 26%|██▌       | 107/418 [12:27<31:22,  6.05s/it]"
     ]
    },
    {
     "name": "stdout",
     "output_type": "stream",
     "text": [
      "{'Date_Forecast': datetime.date(2009, 12, 25), 'h1': 0.050608125, 'h2': 0.06716, 'h3': 0.05701556, 'h4': 0.07789336}\n",
      "3/3 [==============================] - 1s 4ms/step\n"
     ]
    },
    {
     "name": "stderr",
     "output_type": "stream",
     "text": [
      " 26%|██▌       | 108/418 [12:34<32:04,  6.21s/it]"
     ]
    },
    {
     "name": "stdout",
     "output_type": "stream",
     "text": [
      "{'Date_Forecast': datetime.date(2010, 1, 1), 'h1': 0.03797604, 'h2': 0.05199345, 'h3': 0.044014275, 'h4': 0.042699553}\n",
      "3/3 [==============================] - 1s 3ms/step\n"
     ]
    },
    {
     "name": "stderr",
     "output_type": "stream",
     "text": [
      " 26%|██▌       | 109/418 [12:39<30:35,  5.94s/it]"
     ]
    },
    {
     "name": "stdout",
     "output_type": "stream",
     "text": [
      "{'Date_Forecast': datetime.date(2010, 1, 8), 'h1': 0.04691045, 'h2': 0.068674244, 'h3': 0.034921445, 'h4': 0.03740352}\n",
      "3/3 [==============================] - 0s 6ms/step\n"
     ]
    },
    {
     "name": "stderr",
     "output_type": "stream",
     "text": [
      " 26%|██▋       | 110/418 [12:45<30:46,  6.00s/it]"
     ]
    },
    {
     "name": "stdout",
     "output_type": "stream",
     "text": [
      "{'Date_Forecast': datetime.date(2010, 1, 15), 'h1': 0.054252613, 'h2': 0.039803687, 'h3': 0.041852828, 'h4': 0.036000628}\n",
      "3/3 [==============================] - 1s 10ms/step\n"
     ]
    },
    {
     "name": "stderr",
     "output_type": "stream",
     "text": [
      " 27%|██▋       | 111/418 [12:52<31:33,  6.17s/it]"
     ]
    },
    {
     "name": "stdout",
     "output_type": "stream",
     "text": [
      "{'Date_Forecast': datetime.date(2010, 1, 22), 'h1': 0.0456355, 'h2': 0.04554043, 'h3': 0.05892727, 'h4': 0.049405783}\n",
      "3/3 [==============================] - 0s 3ms/step\n"
     ]
    },
    {
     "name": "stderr",
     "output_type": "stream",
     "text": [
      " 27%|██▋       | 112/418 [12:56<29:16,  5.74s/it]"
     ]
    },
    {
     "name": "stdout",
     "output_type": "stream",
     "text": [
      "{'Date_Forecast': datetime.date(2010, 1, 29), 'h1': 0.03693421, 'h2': 0.04337205, 'h3': 0.041688006, 'h4': 0.036571223}\n",
      "3/3 [==============================] - 1s 3ms/step\n"
     ]
    },
    {
     "name": "stderr",
     "output_type": "stream",
     "text": [
      " 27%|██▋       | 113/418 [13:02<28:41,  5.64s/it]"
     ]
    },
    {
     "name": "stdout",
     "output_type": "stream",
     "text": [
      "{'Date_Forecast': datetime.date(2010, 2, 5), 'h1': 0.04716879, 'h2': 0.04935569, 'h3': 0.03914267, 'h4': 0.04171151}\n",
      "3/3 [==============================] - 1s 5ms/step\n"
     ]
    },
    {
     "name": "stderr",
     "output_type": "stream",
     "text": [
      " 27%|██▋       | 114/418 [13:09<30:54,  6.10s/it]"
     ]
    },
    {
     "name": "stdout",
     "output_type": "stream",
     "text": [
      "{'Date_Forecast': datetime.date(2010, 2, 12), 'h1': 0.041517958, 'h2': 0.04162025, 'h3': 0.04869836, 'h4': 0.035715662}\n",
      "3/3 [==============================] - 1s 5ms/step\n"
     ]
    },
    {
     "name": "stderr",
     "output_type": "stream",
     "text": [
      " 28%|██▊       | 115/418 [13:15<31:10,  6.17s/it]"
     ]
    },
    {
     "name": "stdout",
     "output_type": "stream",
     "text": [
      "{'Date_Forecast': datetime.date(2010, 2, 19), 'h1': 0.060223915, 'h2': 0.05604138, 'h3': 0.054765373, 'h4': 0.073340796}\n",
      "3/3 [==============================] - 1s 10ms/step\n"
     ]
    },
    {
     "name": "stderr",
     "output_type": "stream",
     "text": [
      " 28%|██▊       | 116/418 [13:22<31:35,  6.28s/it]"
     ]
    },
    {
     "name": "stdout",
     "output_type": "stream",
     "text": [
      "{'Date_Forecast': datetime.date(2010, 2, 26), 'h1': 0.048062153, 'h2': 0.03347339, 'h3': 0.04369311, 'h4': 0.044446886}\n",
      "3/3 [==============================] - 1s 3ms/step\n"
     ]
    },
    {
     "name": "stderr",
     "output_type": "stream",
     "text": [
      " 28%|██▊       | 117/418 [13:26<28:57,  5.77s/it]"
     ]
    },
    {
     "name": "stdout",
     "output_type": "stream",
     "text": [
      "{'Date_Forecast': datetime.date(2010, 3, 5), 'h1': 0.037993826, 'h2': 0.048410065, 'h3': 0.04618915, 'h4': 0.037375186}\n",
      "3/3 [==============================] - 1s 4ms/step\n"
     ]
    },
    {
     "name": "stderr",
     "output_type": "stream",
     "text": [
      " 28%|██▊       | 118/418 [13:34<31:50,  6.37s/it]"
     ]
    },
    {
     "name": "stdout",
     "output_type": "stream",
     "text": [
      "{'Date_Forecast': datetime.date(2010, 3, 12), 'h1': 0.040006347, 'h2': 0.03621567, 'h3': 0.041088965, 'h4': 0.039811414}\n",
      "3/3 [==============================] - 0s 3ms/step\n"
     ]
    },
    {
     "name": "stderr",
     "output_type": "stream",
     "text": [
      " 28%|██▊       | 119/418 [13:41<33:01,  6.63s/it]"
     ]
    },
    {
     "name": "stdout",
     "output_type": "stream",
     "text": [
      "{'Date_Forecast': datetime.date(2010, 3, 19), 'h1': 0.050981164, 'h2': 0.034990616, 'h3': 0.041833118, 'h4': 0.04412091}\n",
      "3/3 [==============================] - 0s 8ms/step\n"
     ]
    },
    {
     "name": "stderr",
     "output_type": "stream",
     "text": [
      " 29%|██▊       | 120/418 [13:46<30:13,  6.09s/it]"
     ]
    },
    {
     "name": "stdout",
     "output_type": "stream",
     "text": [
      "{'Date_Forecast': datetime.date(2010, 3, 26), 'h1': 0.046684336, 'h2': 0.057114467, 'h3': 0.052351646, 'h4': 0.04802368}\n",
      "3/3 [==============================] - 0s 2ms/step\n"
     ]
    },
    {
     "name": "stderr",
     "output_type": "stream",
     "text": [
      " 29%|██▉       | 121/418 [13:51<27:51,  5.63s/it]"
     ]
    },
    {
     "name": "stdout",
     "output_type": "stream",
     "text": [
      "{'Date_Forecast': datetime.date(2010, 4, 2), 'h1': 0.04546709, 'h2': 0.036022697, 'h3': 0.036366995, 'h4': 0.049640194}\n",
      "3/3 [==============================] - 1s 6ms/step\n"
     ]
    },
    {
     "name": "stderr",
     "output_type": "stream",
     "text": [
      " 29%|██▉       | 122/418 [13:55<26:17,  5.33s/it]"
     ]
    },
    {
     "name": "stdout",
     "output_type": "stream",
     "text": [
      "{'Date_Forecast': datetime.date(2010, 4, 9), 'h1': 0.038930055, 'h2': 0.040142957, 'h3': 0.04362251, 'h4': 0.039373945}\n",
      "3/3 [==============================] - 1s 4ms/step\n"
     ]
    },
    {
     "name": "stderr",
     "output_type": "stream",
     "text": [
      " 29%|██▉       | 123/418 [14:01<27:07,  5.52s/it]"
     ]
    },
    {
     "name": "stdout",
     "output_type": "stream",
     "text": [
      "{'Date_Forecast': datetime.date(2010, 4, 16), 'h1': 0.043381836, 'h2': 0.05027792, 'h3': 0.03943644, 'h4': 0.036730833}\n",
      "3/3 [==============================] - 1s 4ms/step\n"
     ]
    },
    {
     "name": "stderr",
     "output_type": "stream",
     "text": [
      " 30%|██▉       | 124/418 [14:08<28:40,  5.85s/it]"
     ]
    },
    {
     "name": "stdout",
     "output_type": "stream",
     "text": [
      "{'Date_Forecast': datetime.date(2010, 4, 23), 'h1': 0.033830293, 'h2': 0.044359256, 'h3': 0.04159408, 'h4': 0.03821967}\n",
      "3/3 [==============================] - 1s 6ms/step\n"
     ]
    },
    {
     "name": "stderr",
     "output_type": "stream",
     "text": [
      " 30%|██▉       | 125/418 [14:15<29:44,  6.09s/it]"
     ]
    },
    {
     "name": "stdout",
     "output_type": "stream",
     "text": [
      "{'Date_Forecast': datetime.date(2010, 4, 30), 'h1': 0.07046634, 'h2': 0.056333847, 'h3': 0.047847793, 'h4': 0.047690123}\n",
      "3/3 [==============================] - 0s 3ms/step\n"
     ]
    },
    {
     "name": "stderr",
     "output_type": "stream",
     "text": [
      " 30%|███       | 126/418 [14:21<30:18,  6.23s/it]"
     ]
    },
    {
     "name": "stdout",
     "output_type": "stream",
     "text": [
      "{'Date_Forecast': datetime.date(2010, 5, 7), 'h1': 0.041593872, 'h2': 0.049614392, 'h3': 0.043748956, 'h4': 0.042335104}\n",
      "3/3 [==============================] - 1s 5ms/step\n"
     ]
    },
    {
     "name": "stderr",
     "output_type": "stream",
     "text": [
      " 30%|███       | 127/418 [14:27<30:09,  6.22s/it]"
     ]
    },
    {
     "name": "stdout",
     "output_type": "stream",
     "text": [
      "{'Date_Forecast': datetime.date(2010, 5, 14), 'h1': 0.032466043, 'h2': 0.05092138, 'h3': 0.03612444, 'h4': 0.040117487}\n",
      "3/3 [==============================] - 0s 2ms/step\n"
     ]
    },
    {
     "name": "stderr",
     "output_type": "stream",
     "text": [
      " 31%|███       | 128/418 [14:33<29:20,  6.07s/it]"
     ]
    },
    {
     "name": "stdout",
     "output_type": "stream",
     "text": [
      "{'Date_Forecast': datetime.date(2010, 5, 21), 'h1': 0.038540423, 'h2': 0.05311964, 'h3': 0.047646258, 'h4': 0.04459845}\n",
      "3/3 [==============================] - 1s 10ms/step\n"
     ]
    },
    {
     "name": "stderr",
     "output_type": "stream",
     "text": [
      " 31%|███       | 129/418 [14:39<28:29,  5.91s/it]"
     ]
    },
    {
     "name": "stdout",
     "output_type": "stream",
     "text": [
      "{'Date_Forecast': datetime.date(2010, 5, 28), 'h1': 0.041719984, 'h2': 0.03618964, 'h3': 0.050062757, 'h4': 0.045148794}\n",
      "3/3 [==============================] - 0s 3ms/step\n"
     ]
    },
    {
     "name": "stderr",
     "output_type": "stream",
     "text": [
      " 31%|███       | 130/418 [14:46<30:44,  6.40s/it]"
     ]
    },
    {
     "name": "stdout",
     "output_type": "stream",
     "text": [
      "{'Date_Forecast': datetime.date(2010, 6, 4), 'h1': 0.053184003, 'h2': 0.042685617, 'h3': 0.049495243, 'h4': 0.05151049}\n",
      "3/3 [==============================] - 1s 4ms/step\n"
     ]
    },
    {
     "name": "stderr",
     "output_type": "stream",
     "text": [
      " 31%|███▏      | 131/418 [14:52<29:32,  6.18s/it]"
     ]
    },
    {
     "name": "stdout",
     "output_type": "stream",
     "text": [
      "{'Date_Forecast': datetime.date(2010, 6, 11), 'h1': 0.044468123, 'h2': 0.03921816, 'h3': 0.052550968, 'h4': 0.042875048}\n",
      "3/3 [==============================] - 1s 5ms/step\n"
     ]
    },
    {
     "name": "stderr",
     "output_type": "stream",
     "text": [
      " 32%|███▏      | 132/418 [15:00<32:35,  6.84s/it]"
     ]
    },
    {
     "name": "stdout",
     "output_type": "stream",
     "text": [
      "{'Date_Forecast': datetime.date(2010, 6, 18), 'h1': 0.03794824, 'h2': 0.03725167, 'h3': 0.03732317, 'h4': 0.038696196}\n",
      "3/3 [==============================] - 1s 4ms/step\n"
     ]
    },
    {
     "name": "stderr",
     "output_type": "stream",
     "text": [
      " 32%|███▏      | 133/418 [15:05<29:23,  6.19s/it]"
     ]
    },
    {
     "name": "stdout",
     "output_type": "stream",
     "text": [
      "{'Date_Forecast': datetime.date(2010, 6, 25), 'h1': 0.040389143, 'h2': 0.043273937, 'h3': 0.04355357, 'h4': 0.044279195}\n",
      "3/3 [==============================] - 0s 2ms/step\n"
     ]
    },
    {
     "name": "stderr",
     "output_type": "stream",
     "text": [
      " 32%|███▏      | 134/418 [15:11<29:31,  6.24s/it]"
     ]
    },
    {
     "name": "stdout",
     "output_type": "stream",
     "text": [
      "{'Date_Forecast': datetime.date(2010, 7, 2), 'h1': 0.045068827, 'h2': 0.057126347, 'h3': 0.060013223, 'h4': 0.037333924}\n",
      "3/3 [==============================] - 0s 3ms/step\n"
     ]
    },
    {
     "name": "stderr",
     "output_type": "stream",
     "text": [
      " 32%|███▏      | 135/418 [15:16<26:51,  5.69s/it]"
     ]
    },
    {
     "name": "stdout",
     "output_type": "stream",
     "text": [
      "{'Date_Forecast': datetime.date(2010, 7, 9), 'h1': 0.040299207, 'h2': 0.03896694, 'h3': 0.038730666, 'h4': 0.03769433}\n",
      "3/3 [==============================] - 0s 2ms/step\n"
     ]
    },
    {
     "name": "stderr",
     "output_type": "stream",
     "text": [
      " 33%|███▎      | 136/418 [15:20<24:57,  5.31s/it]"
     ]
    },
    {
     "name": "stdout",
     "output_type": "stream",
     "text": [
      "{'Date_Forecast': datetime.date(2010, 7, 16), 'h1': 0.041511253, 'h2': 0.03814578, 'h3': 0.033564344, 'h4': 0.037251707}\n",
      "3/3 [==============================] - 1s 2ms/step\n"
     ]
    },
    {
     "name": "stderr",
     "output_type": "stream",
     "text": [
      " 33%|███▎      | 137/418 [15:25<24:13,  5.17s/it]"
     ]
    },
    {
     "name": "stdout",
     "output_type": "stream",
     "text": [
      "{'Date_Forecast': datetime.date(2010, 7, 23), 'h1': 0.0402347, 'h2': 0.037690796, 'h3': 0.03231247, 'h4': 0.03494689}\n",
      "3/3 [==============================] - 1s 3ms/step\n"
     ]
    },
    {
     "name": "stderr",
     "output_type": "stream",
     "text": [
      " 33%|███▎      | 138/418 [15:30<24:12,  5.19s/it]"
     ]
    },
    {
     "name": "stdout",
     "output_type": "stream",
     "text": [
      "{'Date_Forecast': datetime.date(2010, 7, 30), 'h1': 0.03824116, 'h2': 0.04281928, 'h3': 0.036736626, 'h4': 0.04303461}\n",
      "3/3 [==============================] - 1s 10ms/step\n"
     ]
    },
    {
     "name": "stderr",
     "output_type": "stream",
     "text": [
      " 33%|███▎      | 139/418 [15:36<25:16,  5.44s/it]"
     ]
    },
    {
     "name": "stdout",
     "output_type": "stream",
     "text": [
      "{'Date_Forecast': datetime.date(2010, 8, 6), 'h1': 0.055149645, 'h2': 0.032401737, 'h3': 0.05046534, 'h4': 0.036809914}\n",
      "3/3 [==============================] - 1s 5ms/step\n"
     ]
    },
    {
     "name": "stderr",
     "output_type": "stream",
     "text": [
      " 33%|███▎      | 140/418 [15:41<24:52,  5.37s/it]"
     ]
    },
    {
     "name": "stdout",
     "output_type": "stream",
     "text": [
      "{'Date_Forecast': datetime.date(2010, 8, 13), 'h1': 0.04583956, 'h2': 0.041446403, 'h3': 0.03684404, 'h4': 0.042053934}\n",
      "3/3 [==============================] - 1s 4ms/step\n"
     ]
    },
    {
     "name": "stderr",
     "output_type": "stream",
     "text": [
      " 34%|███▎      | 141/418 [15:46<24:27,  5.30s/it]"
     ]
    },
    {
     "name": "stdout",
     "output_type": "stream",
     "text": [
      "{'Date_Forecast': datetime.date(2010, 8, 20), 'h1': 0.035195056, 'h2': 0.031697016, 'h3': 0.036619592, 'h4': 0.031891532}\n",
      "3/3 [==============================] - 1s 5ms/step\n"
     ]
    },
    {
     "name": "stderr",
     "output_type": "stream",
     "text": [
      " 34%|███▍      | 142/418 [15:52<24:56,  5.42s/it]"
     ]
    },
    {
     "name": "stdout",
     "output_type": "stream",
     "text": [
      "{'Date_Forecast': datetime.date(2010, 8, 27), 'h1': 0.04000737, 'h2': 0.04689065, 'h3': 0.04131828, 'h4': 0.049413916}\n",
      "3/3 [==============================] - 1s 3ms/step\n"
     ]
    },
    {
     "name": "stderr",
     "output_type": "stream",
     "text": [
      " 34%|███▍      | 143/418 [15:58<25:14,  5.51s/it]"
     ]
    },
    {
     "name": "stdout",
     "output_type": "stream",
     "text": [
      "{'Date_Forecast': datetime.date(2010, 9, 3), 'h1': 0.038549986, 'h2': 0.035777252, 'h3': 0.046681598, 'h4': 0.055442665}\n",
      "3/3 [==============================] - 1s 8ms/step\n"
     ]
    },
    {
     "name": "stderr",
     "output_type": "stream",
     "text": [
      " 34%|███▍      | 144/418 [16:06<28:08,  6.16s/it]"
     ]
    },
    {
     "name": "stdout",
     "output_type": "stream",
     "text": [
      "{'Date_Forecast': datetime.date(2010, 9, 10), 'h1': 0.041897733, 'h2': 0.033921678, 'h3': 0.04183934, 'h4': 0.04529441}\n",
      "3/3 [==============================] - 1s 13ms/step\n"
     ]
    },
    {
     "name": "stderr",
     "output_type": "stream",
     "text": [
      " 35%|███▍      | 145/418 [16:17<35:12,  7.74s/it]"
     ]
    },
    {
     "name": "stdout",
     "output_type": "stream",
     "text": [
      "{'Date_Forecast': datetime.date(2010, 9, 17), 'h1': 0.041056838, 'h2': 0.037482463, 'h3': 0.05312883, 'h4': 0.050866038}\n",
      "3/3 [==============================] - 1s 2ms/step\n"
     ]
    },
    {
     "name": "stderr",
     "output_type": "stream",
     "text": [
      " 35%|███▍      | 146/418 [16:25<35:59,  7.94s/it]"
     ]
    },
    {
     "name": "stdout",
     "output_type": "stream",
     "text": [
      "{'Date_Forecast': datetime.date(2010, 9, 24), 'h1': 0.05603189, 'h2': 0.03748991, 'h3': 0.033285547, 'h4': 0.049219366}\n",
      "3/3 [==============================] - 1s 3ms/step\n"
     ]
    },
    {
     "name": "stderr",
     "output_type": "stream",
     "text": [
      " 35%|███▌      | 147/418 [16:33<35:59,  7.97s/it]"
     ]
    },
    {
     "name": "stdout",
     "output_type": "stream",
     "text": [
      "{'Date_Forecast': datetime.date(2010, 10, 1), 'h1': 0.033182718, 'h2': 0.047689866, 'h3': 0.040688686, 'h4': 0.036671698}\n",
      "3/3 [==============================] - 1s 4ms/step\n"
     ]
    },
    {
     "name": "stderr",
     "output_type": "stream",
     "text": [
      " 35%|███▌      | 148/418 [16:40<33:22,  7.42s/it]"
     ]
    },
    {
     "name": "stdout",
     "output_type": "stream",
     "text": [
      "{'Date_Forecast': datetime.date(2010, 10, 8), 'h1': 0.048406877, 'h2': 0.050491646, 'h3': 0.036797535, 'h4': 0.038908567}\n",
      "3/3 [==============================] - 1s 3ms/step\n"
     ]
    },
    {
     "name": "stderr",
     "output_type": "stream",
     "text": [
      " 36%|███▌      | 149/418 [16:47<33:27,  7.46s/it]"
     ]
    },
    {
     "name": "stdout",
     "output_type": "stream",
     "text": [
      "{'Date_Forecast': datetime.date(2010, 10, 15), 'h1': 0.030435074, 'h2': 0.039372224, 'h3': 0.027770732, 'h4': 0.02837384}\n",
      "3/3 [==============================] - 0s 2ms/step\n"
     ]
    },
    {
     "name": "stderr",
     "output_type": "stream",
     "text": [
      " 36%|███▌      | 150/418 [16:53<31:11,  6.98s/it]"
     ]
    },
    {
     "name": "stdout",
     "output_type": "stream",
     "text": [
      "{'Date_Forecast': datetime.date(2010, 10, 22), 'h1': 0.040002428, 'h2': 0.02717339, 'h3': 0.038120873, 'h4': 0.049322408}\n",
      "3/3 [==============================] - 1s 7ms/step\n"
     ]
    },
    {
     "name": "stderr",
     "output_type": "stream",
     "text": [
      " 36%|███▌      | 151/418 [17:01<31:51,  7.16s/it]"
     ]
    },
    {
     "name": "stdout",
     "output_type": "stream",
     "text": [
      "{'Date_Forecast': datetime.date(2010, 10, 29), 'h1': 0.050080746, 'h2': 0.029976508, 'h3': 0.02776615, 'h4': 0.02869728}\n",
      "3/3 [==============================] - 1s 4ms/step\n"
     ]
    },
    {
     "name": "stderr",
     "output_type": "stream",
     "text": [
      " 36%|███▋      | 152/418 [17:06<30:05,  6.79s/it]"
     ]
    },
    {
     "name": "stdout",
     "output_type": "stream",
     "text": [
      "{'Date_Forecast': datetime.date(2010, 11, 5), 'h1': 0.033399418, 'h2': 0.034996945, 'h3': 0.03142032, 'h4': 0.04131945}\n",
      "3/3 [==============================] - 0s 2ms/step\n"
     ]
    },
    {
     "name": "stderr",
     "output_type": "stream",
     "text": [
      " 37%|███▋      | 153/418 [17:14<30:31,  6.91s/it]"
     ]
    },
    {
     "name": "stdout",
     "output_type": "stream",
     "text": [
      "{'Date_Forecast': datetime.date(2010, 11, 12), 'h1': 0.034292575, 'h2': 0.0390714, 'h3': 0.032818362, 'h4': 0.05584476}\n",
      "3/3 [==============================] - 0s 7ms/step\n"
     ]
    },
    {
     "name": "stderr",
     "output_type": "stream",
     "text": [
      " 37%|███▋      | 154/418 [17:20<29:44,  6.76s/it]"
     ]
    },
    {
     "name": "stdout",
     "output_type": "stream",
     "text": [
      "{'Date_Forecast': datetime.date(2010, 11, 19), 'h1': 0.03256844, 'h2': 0.05316798, 'h3': 0.041150387, 'h4': 0.041249335}\n",
      "3/3 [==============================] - 1s 3ms/step\n"
     ]
    },
    {
     "name": "stderr",
     "output_type": "stream",
     "text": [
      " 37%|███▋      | 155/418 [17:28<31:03,  7.09s/it]"
     ]
    },
    {
     "name": "stdout",
     "output_type": "stream",
     "text": [
      "{'Date_Forecast': datetime.date(2010, 11, 26), 'h1': 0.033469785, 'h2': 0.034751162, 'h3': 0.031454775, 'h4': 0.027399033}\n",
      "3/3 [==============================] - 1s 4ms/step\n"
     ]
    },
    {
     "name": "stderr",
     "output_type": "stream",
     "text": [
      " 37%|███▋      | 156/418 [17:34<29:29,  6.75s/it]"
     ]
    },
    {
     "name": "stdout",
     "output_type": "stream",
     "text": [
      "{'Date_Forecast': datetime.date(2010, 12, 3), 'h1': 0.07837567, 'h2': 0.0471206, 'h3': 0.046455305, 'h4': 0.048624635}\n",
      "3/3 [==============================] - 1s 5ms/step\n"
     ]
    },
    {
     "name": "stderr",
     "output_type": "stream",
     "text": [
      " 38%|███▊      | 157/418 [17:41<29:34,  6.80s/it]"
     ]
    },
    {
     "name": "stdout",
     "output_type": "stream",
     "text": [
      "{'Date_Forecast': datetime.date(2010, 12, 10), 'h1': 0.04269023, 'h2': 0.025671804, 'h3': 0.04423619, 'h4': 0.029470788}\n",
      "3/3 [==============================] - 1s 3ms/step\n"
     ]
    },
    {
     "name": "stderr",
     "output_type": "stream",
     "text": [
      " 38%|███▊      | 158/418 [17:49<30:50,  7.12s/it]"
     ]
    },
    {
     "name": "stdout",
     "output_type": "stream",
     "text": [
      "{'Date_Forecast': datetime.date(2010, 12, 17), 'h1': 0.044647705, 'h2': 0.03681919, 'h3': 0.039116915, 'h4': 0.041616723}\n",
      "3/3 [==============================] - 1s 11ms/step\n"
     ]
    },
    {
     "name": "stderr",
     "output_type": "stream",
     "text": [
      " 38%|███▊      | 159/418 [17:56<30:21,  7.03s/it]"
     ]
    },
    {
     "name": "stdout",
     "output_type": "stream",
     "text": [
      "{'Date_Forecast': datetime.date(2010, 12, 24), 'h1': 0.047715653, 'h2': 0.02730007, 'h3': 0.030922463, 'h4': 0.0403992}\n",
      "3/3 [==============================] - 1s 3ms/step\n"
     ]
    },
    {
     "name": "stderr",
     "output_type": "stream",
     "text": [
      " 38%|███▊      | 160/418 [18:02<29:03,  6.76s/it]"
     ]
    },
    {
     "name": "stdout",
     "output_type": "stream",
     "text": [
      "{'Date_Forecast': datetime.date(2010, 12, 31), 'h1': 0.039696038, 'h2': 0.020415798, 'h3': 0.03158926, 'h4': 0.033693213}\n",
      "3/3 [==============================] - 1s 3ms/step\n"
     ]
    },
    {
     "name": "stderr",
     "output_type": "stream",
     "text": [
      " 39%|███▊      | 161/418 [18:10<30:57,  7.23s/it]"
     ]
    },
    {
     "name": "stdout",
     "output_type": "stream",
     "text": [
      "{'Date_Forecast': datetime.date(2011, 1, 7), 'h1': 0.031936344, 'h2': 0.037219398, 'h3': 0.035049636, 'h4': 0.034504544}\n",
      "3/3 [==============================] - 1s 3ms/step\n"
     ]
    },
    {
     "name": "stderr",
     "output_type": "stream",
     "text": [
      " 39%|███▉      | 162/418 [18:16<29:12,  6.85s/it]"
     ]
    },
    {
     "name": "stdout",
     "output_type": "stream",
     "text": [
      "{'Date_Forecast': datetime.date(2011, 1, 14), 'h1': 0.04240499, 'h2': 0.04410213, 'h3': 0.03506274, 'h4': 0.038030386}\n",
      "3/3 [==============================] - 1s 4ms/step\n"
     ]
    },
    {
     "name": "stderr",
     "output_type": "stream",
     "text": [
      " 39%|███▉      | 163/418 [18:22<28:03,  6.60s/it]"
     ]
    },
    {
     "name": "stdout",
     "output_type": "stream",
     "text": [
      "{'Date_Forecast': datetime.date(2011, 1, 21), 'h1': 0.035311315, 'h2': 0.031074068, 'h3': 0.028178286, 'h4': 0.03313398}\n",
      "3/3 [==============================] - 2s 9ms/step\n"
     ]
    },
    {
     "name": "stderr",
     "output_type": "stream",
     "text": [
      " 39%|███▉      | 164/418 [18:30<29:10,  6.89s/it]"
     ]
    },
    {
     "name": "stdout",
     "output_type": "stream",
     "text": [
      "{'Date_Forecast': datetime.date(2011, 1, 28), 'h1': 0.03844045, 'h2': 0.04320577, 'h3': 0.041859955, 'h4': 0.05717156}\n",
      "3/3 [==============================] - 1s 3ms/step\n"
     ]
    },
    {
     "name": "stderr",
     "output_type": "stream",
     "text": [
      " 39%|███▉      | 165/418 [18:36<28:06,  6.67s/it]"
     ]
    },
    {
     "name": "stdout",
     "output_type": "stream",
     "text": [
      "{'Date_Forecast': datetime.date(2011, 2, 4), 'h1': 0.02633791, 'h2': 0.03196797, 'h3': 0.030565748, 'h4': 0.025944527}\n",
      "3/3 [==============================] - 1s 4ms/step\n"
     ]
    },
    {
     "name": "stderr",
     "output_type": "stream",
     "text": [
      " 40%|███▉      | 166/418 [18:41<25:42,  6.12s/it]"
     ]
    },
    {
     "name": "stdout",
     "output_type": "stream",
     "text": [
      "{'Date_Forecast': datetime.date(2011, 2, 11), 'h1': 0.03529994, 'h2': 0.036632072, 'h3': 0.046080142, 'h4': 0.027050078}\n",
      "3/3 [==============================] - 1s 4ms/step\n"
     ]
    },
    {
     "name": "stderr",
     "output_type": "stream",
     "text": [
      " 40%|███▉      | 167/418 [18:46<24:59,  5.97s/it]"
     ]
    },
    {
     "name": "stdout",
     "output_type": "stream",
     "text": [
      "{'Date_Forecast': datetime.date(2011, 2, 18), 'h1': 0.03542596, 'h2': 0.03733633, 'h3': 0.033364374, 'h4': 0.019895153}\n",
      "3/3 [==============================] - 1s 3ms/step\n"
     ]
    },
    {
     "name": "stderr",
     "output_type": "stream",
     "text": [
      " 40%|████      | 168/418 [18:53<25:50,  6.20s/it]"
     ]
    },
    {
     "name": "stdout",
     "output_type": "stream",
     "text": [
      "{'Date_Forecast': datetime.date(2011, 2, 25), 'h1': 0.03355178, 'h2': 0.024413718, 'h3': 0.042551268, 'h4': 0.03792528}\n",
      "3/3 [==============================] - 1s 4ms/step\n"
     ]
    },
    {
     "name": "stderr",
     "output_type": "stream",
     "text": [
      " 40%|████      | 169/418 [18:59<25:09,  6.06s/it]"
     ]
    },
    {
     "name": "stdout",
     "output_type": "stream",
     "text": [
      "{'Date_Forecast': datetime.date(2011, 3, 4), 'h1': 0.03291182, 'h2': 0.031719226, 'h3': 0.03233384, 'h4': 0.04070164}\n",
      "3/3 [==============================] - 1s 3ms/step\n"
     ]
    },
    {
     "name": "stderr",
     "output_type": "stream",
     "text": [
      " 41%|████      | 170/418 [19:04<24:34,  5.95s/it]"
     ]
    },
    {
     "name": "stdout",
     "output_type": "stream",
     "text": [
      "{'Date_Forecast': datetime.date(2011, 3, 11), 'h1': 0.038918965, 'h2': 0.03806995, 'h3': 0.032668274, 'h4': 0.028575458}\n",
      "3/3 [==============================] - 1s 11ms/step\n"
     ]
    },
    {
     "name": "stderr",
     "output_type": "stream",
     "text": [
      " 41%|████      | 171/418 [19:11<25:01,  6.08s/it]"
     ]
    },
    {
     "name": "stdout",
     "output_type": "stream",
     "text": [
      "{'Date_Forecast': datetime.date(2011, 3, 18), 'h1': 0.028192587, 'h2': 0.03942478, 'h3': 0.03058551, 'h4': 0.028212156}\n",
      "3/3 [==============================] - 1s 4ms/step\n"
     ]
    },
    {
     "name": "stderr",
     "output_type": "stream",
     "text": [
      " 41%|████      | 172/418 [19:17<25:39,  6.26s/it]"
     ]
    },
    {
     "name": "stdout",
     "output_type": "stream",
     "text": [
      "{'Date_Forecast': datetime.date(2011, 3, 25), 'h1': 0.036263768, 'h2': 0.04129838, 'h3': 0.039236672, 'h4': 0.039923497}\n",
      "3/3 [==============================] - 0s 6ms/step\n"
     ]
    },
    {
     "name": "stderr",
     "output_type": "stream",
     "text": [
      " 41%|████▏     | 173/418 [19:22<23:27,  5.75s/it]"
     ]
    },
    {
     "name": "stdout",
     "output_type": "stream",
     "text": [
      "{'Date_Forecast': datetime.date(2011, 4, 1), 'h1': 0.03932986, 'h2': 0.035469666, 'h3': 0.053621344, 'h4': 0.029972473}\n",
      "3/3 [==============================] - 0s 3ms/step\n"
     ]
    },
    {
     "name": "stderr",
     "output_type": "stream",
     "text": [
      " 42%|████▏     | 174/418 [19:27<22:56,  5.64s/it]"
     ]
    },
    {
     "name": "stdout",
     "output_type": "stream",
     "text": [
      "{'Date_Forecast': datetime.date(2011, 4, 8), 'h1': 0.028802048, 'h2': 0.02894335, 'h3': 0.02841114, 'h4': 0.03007566}\n",
      "3/3 [==============================] - 0s 5ms/step\n"
     ]
    },
    {
     "name": "stderr",
     "output_type": "stream",
     "text": [
      " 42%|████▏     | 175/418 [19:33<23:08,  5.72s/it]"
     ]
    },
    {
     "name": "stdout",
     "output_type": "stream",
     "text": [
      "{'Date_Forecast': datetime.date(2011, 4, 15), 'h1': 0.038448118, 'h2': 0.037700515, 'h3': 0.044130623, 'h4': 0.033491705}\n",
      "3/3 [==============================] - 1s 8ms/step\n"
     ]
    },
    {
     "name": "stderr",
     "output_type": "stream",
     "text": [
      " 42%|████▏     | 176/418 [19:41<25:59,  6.44s/it]"
     ]
    },
    {
     "name": "stdout",
     "output_type": "stream",
     "text": [
      "{'Date_Forecast': datetime.date(2011, 4, 22), 'h1': 0.041584253, 'h2': 0.026039453, 'h3': 0.0348418, 'h4': 0.027124148}\n",
      "3/3 [==============================] - 1s 3ms/step\n"
     ]
    },
    {
     "name": "stderr",
     "output_type": "stream",
     "text": [
      " 42%|████▏     | 177/418 [19:48<26:05,  6.50s/it]"
     ]
    },
    {
     "name": "stdout",
     "output_type": "stream",
     "text": [
      "{'Date_Forecast': datetime.date(2011, 4, 29), 'h1': 0.02850858, 'h2': 0.051572237, 'h3': 0.037301425, 'h4': 0.033568658}\n",
      "3/3 [==============================] - 1s 6ms/step\n"
     ]
    },
    {
     "name": "stderr",
     "output_type": "stream",
     "text": [
      " 43%|████▎     | 178/418 [19:54<25:00,  6.25s/it]"
     ]
    },
    {
     "name": "stdout",
     "output_type": "stream",
     "text": [
      "{'Date_Forecast': datetime.date(2011, 5, 6), 'h1': 0.08907045, 'h2': 0.073055275, 'h3': 0.05470483, 'h4': 0.054531973}\n",
      "3/3 [==============================] - 1s 4ms/step\n"
     ]
    },
    {
     "name": "stderr",
     "output_type": "stream",
     "text": [
      " 43%|████▎     | 179/418 [20:00<25:22,  6.37s/it]"
     ]
    },
    {
     "name": "stdout",
     "output_type": "stream",
     "text": [
      "{'Date_Forecast': datetime.date(2011, 5, 13), 'h1': 0.028627252, 'h2': 0.026905924, 'h3': 0.034024402, 'h4': 0.038298763}\n",
      "3/3 [==============================] - 1s 3ms/step\n"
     ]
    },
    {
     "name": "stderr",
     "output_type": "stream",
     "text": [
      " 43%|████▎     | 180/418 [20:08<26:25,  6.66s/it]"
     ]
    },
    {
     "name": "stdout",
     "output_type": "stream",
     "text": [
      "{'Date_Forecast': datetime.date(2011, 5, 20), 'h1': 0.020323927, 'h2': 0.025472285, 'h3': 0.026078431, 'h4': 0.031826846}\n",
      "3/3 [==============================] - 1s 8ms/step\n"
     ]
    },
    {
     "name": "stderr",
     "output_type": "stream",
     "text": [
      " 43%|████▎     | 181/418 [20:13<25:14,  6.39s/it]"
     ]
    },
    {
     "name": "stdout",
     "output_type": "stream",
     "text": [
      "{'Date_Forecast': datetime.date(2011, 5, 27), 'h1': 0.03825855, 'h2': 0.042624768, 'h3': 0.02423874, 'h4': 0.028235046}\n",
      "3/3 [==============================] - 1s 4ms/step\n"
     ]
    },
    {
     "name": "stderr",
     "output_type": "stream",
     "text": [
      " 44%|████▎     | 182/418 [20:20<25:52,  6.58s/it]"
     ]
    },
    {
     "name": "stdout",
     "output_type": "stream",
     "text": [
      "{'Date_Forecast': datetime.date(2011, 6, 3), 'h1': 0.028674737, 'h2': 0.03827711, 'h3': 0.036422122, 'h4': 0.037126794}\n",
      "3/3 [==============================] - 1s 11ms/step\n"
     ]
    },
    {
     "name": "stderr",
     "output_type": "stream",
     "text": [
      " 44%|████▍     | 183/418 [20:27<26:13,  6.70s/it]"
     ]
    },
    {
     "name": "stdout",
     "output_type": "stream",
     "text": [
      "{'Date_Forecast': datetime.date(2011, 6, 10), 'h1': 0.030241927, 'h2': 0.034731053, 'h3': 0.041647546, 'h4': 0.02428064}\n",
      "3/3 [==============================] - 1s 5ms/step\n"
     ]
    },
    {
     "name": "stderr",
     "output_type": "stream",
     "text": [
      " 44%|████▍     | 184/418 [20:35<27:27,  7.04s/it]"
     ]
    },
    {
     "name": "stdout",
     "output_type": "stream",
     "text": [
      "{'Date_Forecast': datetime.date(2011, 6, 17), 'h1': 0.030496202, 'h2': 0.052183807, 'h3': 0.051453713, 'h4': 0.052408297}\n",
      "3/3 [==============================] - 1s 6ms/step\n"
     ]
    },
    {
     "name": "stderr",
     "output_type": "stream",
     "text": [
      " 44%|████▍     | 185/418 [20:41<26:18,  6.77s/it]"
     ]
    },
    {
     "name": "stdout",
     "output_type": "stream",
     "text": [
      "{'Date_Forecast': datetime.date(2011, 6, 24), 'h1': 0.045516793, 'h2': 0.044722784, 'h3': 0.029402917, 'h4': 0.032919932}\n",
      "3/3 [==============================] - 1s 5ms/step\n"
     ]
    },
    {
     "name": "stderr",
     "output_type": "stream",
     "text": [
      " 44%|████▍     | 186/418 [20:48<25:52,  6.69s/it]"
     ]
    },
    {
     "name": "stdout",
     "output_type": "stream",
     "text": [
      "{'Date_Forecast': datetime.date(2011, 7, 1), 'h1': 0.03532091, 'h2': 0.03377734, 'h3': 0.03649362, 'h4': 0.031947453}\n",
      "3/3 [==============================] - 1s 3ms/step\n"
     ]
    },
    {
     "name": "stderr",
     "output_type": "stream",
     "text": [
      " 45%|████▍     | 187/418 [20:54<25:36,  6.65s/it]"
     ]
    },
    {
     "name": "stdout",
     "output_type": "stream",
     "text": [
      "{'Date_Forecast': datetime.date(2011, 7, 8), 'h1': 0.024577368, 'h2': 0.030057773, 'h3': 0.041990656, 'h4': 0.03704722}\n",
      "3/3 [==============================] - 1s 5ms/step\n"
     ]
    },
    {
     "name": "stderr",
     "output_type": "stream",
     "text": [
      " 45%|████▍     | 188/418 [21:01<25:54,  6.76s/it]"
     ]
    },
    {
     "name": "stdout",
     "output_type": "stream",
     "text": [
      "{'Date_Forecast': datetime.date(2011, 7, 15), 'h1': 0.029801276, 'h2': 0.024604218, 'h3': 0.03494431, 'h4': 0.03935605}\n",
      "3/3 [==============================] - 1s 4ms/step\n"
     ]
    },
    {
     "name": "stderr",
     "output_type": "stream",
     "text": [
      " 45%|████▌     | 189/418 [21:08<25:57,  6.80s/it]"
     ]
    },
    {
     "name": "stdout",
     "output_type": "stream",
     "text": [
      "{'Date_Forecast': datetime.date(2011, 7, 22), 'h1': 0.040185366, 'h2': 0.032411948, 'h3': 0.026872179, 'h4': 0.025956152}\n",
      "3/3 [==============================] - 1s 19ms/step\n"
     ]
    },
    {
     "name": "stderr",
     "output_type": "stream",
     "text": [
      " 45%|████▌     | 190/418 [21:17<27:30,  7.24s/it]"
     ]
    },
    {
     "name": "stdout",
     "output_type": "stream",
     "text": [
      "{'Date_Forecast': datetime.date(2011, 7, 29), 'h1': 0.02343902, 'h2': 0.019128066, 'h3': 0.024605306, 'h4': 0.03409208}\n",
      "3/3 [==============================] - 1s 5ms/step\n"
     ]
    },
    {
     "name": "stderr",
     "output_type": "stream",
     "text": [
      " 46%|████▌     | 191/418 [21:23<26:28,  7.00s/it]"
     ]
    },
    {
     "name": "stdout",
     "output_type": "stream",
     "text": [
      "{'Date_Forecast': datetime.date(2011, 8, 5), 'h1': 0.04777475, 'h2': 0.037478566, 'h3': 0.038460445, 'h4': 0.038508013}\n",
      "3/3 [==============================] - 0s 2ms/step\n"
     ]
    },
    {
     "name": "stderr",
     "output_type": "stream",
     "text": [
      " 46%|████▌     | 192/418 [21:31<27:41,  7.35s/it]"
     ]
    },
    {
     "name": "stdout",
     "output_type": "stream",
     "text": [
      "{'Date_Forecast': datetime.date(2011, 8, 12), 'h1': 0.04219508, 'h2': 0.022562265, 'h3': 0.029340893, 'h4': 0.054951552}\n",
      "3/3 [==============================] - 1s 3ms/step\n"
     ]
    },
    {
     "name": "stderr",
     "output_type": "stream",
     "text": [
      " 46%|████▌     | 193/418 [21:38<26:50,  7.16s/it]"
     ]
    },
    {
     "name": "stdout",
     "output_type": "stream",
     "text": [
      "{'Date_Forecast': datetime.date(2011, 8, 19), 'h1': 0.032806683, 'h2': 0.026667604, 'h3': 0.023712693, 'h4': 0.024744848}\n",
      "3/3 [==============================] - 0s 5ms/step\n"
     ]
    },
    {
     "name": "stderr",
     "output_type": "stream",
     "text": [
      " 46%|████▋     | 194/418 [21:45<26:37,  7.13s/it]"
     ]
    },
    {
     "name": "stdout",
     "output_type": "stream",
     "text": [
      "{'Date_Forecast': datetime.date(2011, 8, 26), 'h1': 0.023711791, 'h2': 0.02942794, 'h3': 0.031152984, 'h4': 0.022028498}\n",
      "3/3 [==============================] - 2s 3ms/step\n"
     ]
    },
    {
     "name": "stderr",
     "output_type": "stream",
     "text": [
      " 47%|████▋     | 195/418 [21:54<28:09,  7.58s/it]"
     ]
    },
    {
     "name": "stdout",
     "output_type": "stream",
     "text": [
      "{'Date_Forecast': datetime.date(2011, 9, 2), 'h1': 0.020158557, 'h2': 0.026048481, 'h3': 0.03686902, 'h4': 0.030307604}\n",
      "3/3 [==============================] - 1s 8ms/step\n"
     ]
    },
    {
     "name": "stderr",
     "output_type": "stream",
     "text": [
      " 47%|████▋     | 196/418 [22:01<27:30,  7.44s/it]"
     ]
    },
    {
     "name": "stdout",
     "output_type": "stream",
     "text": [
      "{'Date_Forecast': datetime.date(2011, 9, 9), 'h1': 0.023495907, 'h2': 0.03212822, 'h3': 0.035505973, 'h4': 0.030338632}\n",
      "3/3 [==============================] - 1s 6ms/step\n"
     ]
    },
    {
     "name": "stderr",
     "output_type": "stream",
     "text": [
      " 47%|████▋     | 197/418 [22:06<25:22,  6.89s/it]"
     ]
    },
    {
     "name": "stdout",
     "output_type": "stream",
     "text": [
      "{'Date_Forecast': datetime.date(2011, 9, 16), 'h1': 0.042812698, 'h2': 0.039807115, 'h3': 0.04122984, 'h4': 0.038854316}\n",
      "3/3 [==============================] - 1s 4ms/step\n"
     ]
    },
    {
     "name": "stderr",
     "output_type": "stream",
     "text": [
      " 47%|████▋     | 198/418 [22:12<24:15,  6.62s/it]"
     ]
    },
    {
     "name": "stdout",
     "output_type": "stream",
     "text": [
      "{'Date_Forecast': datetime.date(2011, 9, 23), 'h1': 0.027331475, 'h2': 0.03950483, 'h3': 0.03827898, 'h4': 0.0528258}\n",
      "3/3 [==============================] - 0s 2ms/step\n"
     ]
    },
    {
     "name": "stderr",
     "output_type": "stream",
     "text": [
      " 48%|████▊     | 199/418 [22:20<25:40,  7.03s/it]"
     ]
    },
    {
     "name": "stdout",
     "output_type": "stream",
     "text": [
      "{'Date_Forecast': datetime.date(2011, 9, 30), 'h1': 0.039483145, 'h2': 0.04757765, 'h3': 0.03815308, 'h4': 0.03354528}\n",
      "3/3 [==============================] - 1s 5ms/step\n"
     ]
    },
    {
     "name": "stderr",
     "output_type": "stream",
     "text": [
      " 48%|████▊     | 200/418 [22:26<23:37,  6.50s/it]"
     ]
    },
    {
     "name": "stdout",
     "output_type": "stream",
     "text": [
      "{'Date_Forecast': datetime.date(2011, 10, 7), 'h1': 0.02220963, 'h2': 0.038328122, 'h3': 0.04573292, 'h4': 0.033514317}\n",
      "3/3 [==============================] - 0s 2ms/step\n"
     ]
    },
    {
     "name": "stderr",
     "output_type": "stream",
     "text": [
      " 48%|████▊     | 201/418 [22:31<22:22,  6.19s/it]"
     ]
    },
    {
     "name": "stdout",
     "output_type": "stream",
     "text": [
      "{'Date_Forecast': datetime.date(2011, 10, 14), 'h1': 0.03191334, 'h2': 0.029066075, 'h3': 0.026712976, 'h4': 0.046555642}\n",
      "3/3 [==============================] - 1s 9ms/step\n"
     ]
    },
    {
     "name": "stderr",
     "output_type": "stream",
     "text": [
      " 48%|████▊     | 202/418 [22:37<21:51,  6.07s/it]"
     ]
    },
    {
     "name": "stdout",
     "output_type": "stream",
     "text": [
      "{'Date_Forecast': datetime.date(2011, 10, 21), 'h1': 0.044621043, 'h2': 0.025543835, 'h3': 0.034017235, 'h4': 0.023519458}\n",
      "3/3 [==============================] - 1s 5ms/step\n"
     ]
    },
    {
     "name": "stderr",
     "output_type": "stream",
     "text": [
      " 49%|████▊     | 203/418 [22:44<23:03,  6.44s/it]"
     ]
    },
    {
     "name": "stdout",
     "output_type": "stream",
     "text": [
      "{'Date_Forecast': datetime.date(2011, 10, 28), 'h1': 0.049873546, 'h2': 0.04397651, 'h3': 0.03893165, 'h4': 0.05414635}\n",
      "3/3 [==============================] - 1s 9ms/step\n"
     ]
    },
    {
     "name": "stderr",
     "output_type": "stream",
     "text": [
      " 49%|████▉     | 204/418 [22:51<23:30,  6.59s/it]"
     ]
    },
    {
     "name": "stdout",
     "output_type": "stream",
     "text": [
      "{'Date_Forecast': datetime.date(2011, 11, 4), 'h1': 0.023565311, 'h2': 0.032016855, 'h3': 0.030065095, 'h4': 0.029368507}\n",
      "3/3 [==============================] - 1s 5ms/step\n"
     ]
    },
    {
     "name": "stderr",
     "output_type": "stream",
     "text": [
      " 49%|████▉     | 205/418 [22:56<22:06,  6.23s/it]"
     ]
    },
    {
     "name": "stdout",
     "output_type": "stream",
     "text": [
      "{'Date_Forecast': datetime.date(2011, 11, 11), 'h1': 0.036934458, 'h2': 0.027731137, 'h3': 0.037991732, 'h4': 0.04313468}\n",
      "3/3 [==============================] - 1s 3ms/step\n"
     ]
    },
    {
     "name": "stderr",
     "output_type": "stream",
     "text": [
      " 49%|████▉     | 206/418 [23:03<22:01,  6.24s/it]"
     ]
    },
    {
     "name": "stdout",
     "output_type": "stream",
     "text": [
      "{'Date_Forecast': datetime.date(2011, 11, 18), 'h1': 0.03616627, 'h2': 0.032550134, 'h3': 0.02784658, 'h4': 0.037602164}\n",
      "3/3 [==============================] - 1s 3ms/step\n"
     ]
    },
    {
     "name": "stderr",
     "output_type": "stream",
     "text": [
      " 50%|████▉     | 207/418 [23:10<23:31,  6.69s/it]"
     ]
    },
    {
     "name": "stdout",
     "output_type": "stream",
     "text": [
      "{'Date_Forecast': datetime.date(2011, 11, 25), 'h1': 0.036779057, 'h2': 0.030546853, 'h3': 0.03485135, 'h4': 0.03488913}\n",
      "3/3 [==============================] - 1s 4ms/step\n"
     ]
    },
    {
     "name": "stderr",
     "output_type": "stream",
     "text": [
      " 50%|████▉     | 208/418 [23:16<22:30,  6.43s/it]"
     ]
    },
    {
     "name": "stdout",
     "output_type": "stream",
     "text": [
      "{'Date_Forecast': datetime.date(2011, 12, 2), 'h1': 0.025565384, 'h2': 0.033417284, 'h3': 0.03163632, 'h4': 0.024696404}\n",
      "3/3 [==============================] - 1s 3ms/step\n"
     ]
    },
    {
     "name": "stderr",
     "output_type": "stream",
     "text": [
      " 50%|█████     | 209/418 [23:23<22:39,  6.51s/it]"
     ]
    },
    {
     "name": "stdout",
     "output_type": "stream",
     "text": [
      "{'Date_Forecast': datetime.date(2011, 12, 9), 'h1': 0.033025302, 'h2': 0.034762893, 'h3': 0.04728845, 'h4': 0.03992477}\n",
      "3/3 [==============================] - 1s 3ms/step\n"
     ]
    },
    {
     "name": "stderr",
     "output_type": "stream",
     "text": [
      " 50%|█████     | 210/418 [23:31<23:43,  6.84s/it]"
     ]
    },
    {
     "name": "stdout",
     "output_type": "stream",
     "text": [
      "{'Date_Forecast': datetime.date(2011, 12, 16), 'h1': 0.043740388, 'h2': 0.046542697, 'h3': 0.036089074, 'h4': 0.03976801}\n",
      "3/3 [==============================] - 1s 7ms/step\n"
     ]
    },
    {
     "name": "stderr",
     "output_type": "stream",
     "text": [
      " 50%|█████     | 211/418 [23:40<26:20,  7.64s/it]"
     ]
    },
    {
     "name": "stdout",
     "output_type": "stream",
     "text": [
      "{'Date_Forecast': datetime.date(2011, 12, 23), 'h1': 0.05627394, 'h2': 0.0813639, 'h3': 0.08942292, 'h4': 0.04799783}\n",
      "3/3 [==============================] - 1s 11ms/step\n"
     ]
    },
    {
     "name": "stderr",
     "output_type": "stream",
     "text": [
      " 51%|█████     | 212/418 [23:46<24:18,  7.08s/it]"
     ]
    },
    {
     "name": "stdout",
     "output_type": "stream",
     "text": [
      "{'Date_Forecast': datetime.date(2011, 12, 30), 'h1': 0.048390664, 'h2': 0.044812843, 'h3': 0.02842996, 'h4': 0.040757783}\n",
      "3/3 [==============================] - 0s 3ms/step\n"
     ]
    },
    {
     "name": "stderr",
     "output_type": "stream",
     "text": [
      " 51%|█████     | 213/418 [23:51<21:57,  6.43s/it]"
     ]
    },
    {
     "name": "stdout",
     "output_type": "stream",
     "text": [
      "{'Date_Forecast': datetime.date(2012, 1, 6), 'h1': 0.030924752, 'h2': 0.034497984, 'h3': 0.039115947, 'h4': 0.047515117}\n",
      "3/3 [==============================] - 1s 3ms/step\n"
     ]
    },
    {
     "name": "stderr",
     "output_type": "stream",
     "text": [
      " 51%|█████     | 214/418 [23:56<20:45,  6.10s/it]"
     ]
    },
    {
     "name": "stdout",
     "output_type": "stream",
     "text": [
      "{'Date_Forecast': datetime.date(2012, 1, 13), 'h1': 0.03445121, 'h2': 0.03244693, 'h3': 0.037745558, 'h4': 0.039543953}\n",
      "3/3 [==============================] - 1s 13ms/step\n"
     ]
    },
    {
     "name": "stderr",
     "output_type": "stream",
     "text": [
      " 51%|█████▏    | 215/418 [24:04<22:54,  6.77s/it]"
     ]
    },
    {
     "name": "stdout",
     "output_type": "stream",
     "text": [
      "{'Date_Forecast': datetime.date(2012, 1, 20), 'h1': 0.032980755, 'h2': 0.03170246, 'h3': 0.029833883, 'h4': 0.03705435}\n",
      "3/3 [==============================] - 1s 6ms/step\n"
     ]
    },
    {
     "name": "stderr",
     "output_type": "stream",
     "text": [
      " 52%|█████▏    | 216/418 [24:11<22:17,  6.62s/it]"
     ]
    },
    {
     "name": "stdout",
     "output_type": "stream",
     "text": [
      "{'Date_Forecast': datetime.date(2012, 1, 27), 'h1': 0.03170751, 'h2': 0.044461414, 'h3': 0.028163597, 'h4': 0.030055935}\n",
      "3/3 [==============================] - 1s 3ms/step\n"
     ]
    },
    {
     "name": "stderr",
     "output_type": "stream",
     "text": [
      " 52%|█████▏    | 217/418 [24:16<20:46,  6.20s/it]"
     ]
    },
    {
     "name": "stdout",
     "output_type": "stream",
     "text": [
      "{'Date_Forecast': datetime.date(2012, 2, 3), 'h1': 0.040390935, 'h2': 0.03285551, 'h3': 0.031204982, 'h4': 0.039080977}\n",
      "3/3 [==============================] - 0s 2ms/step\n"
     ]
    },
    {
     "name": "stderr",
     "output_type": "stream",
     "text": [
      " 52%|█████▏    | 218/418 [24:21<19:49,  5.95s/it]"
     ]
    },
    {
     "name": "stdout",
     "output_type": "stream",
     "text": [
      "{'Date_Forecast': datetime.date(2012, 2, 10), 'h1': 0.06465012, 'h2': 0.052118257, 'h3': 0.042315092, 'h4': 0.040607806}\n",
      "3/3 [==============================] - 1s 6ms/step\n"
     ]
    },
    {
     "name": "stderr",
     "output_type": "stream",
     "text": [
      " 52%|█████▏    | 219/418 [24:30<22:28,  6.77s/it]"
     ]
    },
    {
     "name": "stdout",
     "output_type": "stream",
     "text": [
      "{'Date_Forecast': datetime.date(2012, 2, 17), 'h1': 0.028193109, 'h2': 0.031625383, 'h3': 0.030381504, 'h4': 0.031502035}\n",
      "3/3 [==============================] - 1s 3ms/step\n"
     ]
    },
    {
     "name": "stderr",
     "output_type": "stream",
     "text": [
      " 53%|█████▎    | 220/418 [24:37<22:29,  6.81s/it]"
     ]
    },
    {
     "name": "stdout",
     "output_type": "stream",
     "text": [
      "{'Date_Forecast': datetime.date(2012, 2, 24), 'h1': 0.038976315, 'h2': 0.033070225, 'h3': 0.03520427, 'h4': 0.027602717}\n",
      "3/3 [==============================] - 0s 3ms/step\n"
     ]
    },
    {
     "name": "stderr",
     "output_type": "stream",
     "text": [
      " 53%|█████▎    | 221/418 [24:43<21:51,  6.66s/it]"
     ]
    },
    {
     "name": "stdout",
     "output_type": "stream",
     "text": [
      "{'Date_Forecast': datetime.date(2012, 3, 2), 'h1': 0.03373882, 'h2': 0.045359146, 'h3': 0.031611145, 'h4': 0.036905896}\n",
      "3/3 [==============================] - 2s 2ms/step\n"
     ]
    },
    {
     "name": "stderr",
     "output_type": "stream",
     "text": [
      " 53%|█████▎    | 222/418 [24:53<24:26,  7.48s/it]"
     ]
    },
    {
     "name": "stdout",
     "output_type": "stream",
     "text": [
      "{'Date_Forecast': datetime.date(2012, 3, 9), 'h1': 0.043905508, 'h2': 0.040903565, 'h3': 0.029212538, 'h4': 0.035405207}\n",
      "3/3 [==============================] - 1s 14ms/step\n"
     ]
    },
    {
     "name": "stderr",
     "output_type": "stream",
     "text": [
      " 53%|█████▎    | 223/418 [24:59<23:24,  7.20s/it]"
     ]
    },
    {
     "name": "stdout",
     "output_type": "stream",
     "text": [
      "{'Date_Forecast': datetime.date(2012, 3, 16), 'h1': 0.03999264, 'h2': 0.040677067, 'h3': 0.036661536, 'h4': 0.04161482}\n",
      "3/3 [==============================] - 1s 3ms/step\n"
     ]
    },
    {
     "name": "stderr",
     "output_type": "stream",
     "text": [
      " 54%|█████▎    | 224/418 [25:05<21:34,  6.67s/it]"
     ]
    },
    {
     "name": "stdout",
     "output_type": "stream",
     "text": [
      "{'Date_Forecast': datetime.date(2012, 3, 23), 'h1': 0.066946894, 'h2': 0.053665835, 'h3': 0.058408827, 'h4': 0.04069013}\n",
      "3/3 [==============================] - 1s 4ms/step\n"
     ]
    },
    {
     "name": "stderr",
     "output_type": "stream",
     "text": [
      " 54%|█████▍    | 225/418 [25:12<22:32,  7.01s/it]"
     ]
    },
    {
     "name": "stdout",
     "output_type": "stream",
     "text": [
      "{'Date_Forecast': datetime.date(2012, 3, 30), 'h1': 0.033190817, 'h2': 0.036304392, 'h3': 0.038470894, 'h4': 0.040978774}\n",
      "3/3 [==============================] - 1s 8ms/step\n"
     ]
    },
    {
     "name": "stderr",
     "output_type": "stream",
     "text": [
      " 54%|█████▍    | 226/418 [25:20<23:04,  7.21s/it]"
     ]
    },
    {
     "name": "stdout",
     "output_type": "stream",
     "text": [
      "{'Date_Forecast': datetime.date(2012, 4, 6), 'h1': 0.02819145, 'h2': 0.039671127, 'h3': 0.036845677, 'h4': 0.034563363}\n",
      "3/3 [==============================] - 1s 5ms/step\n"
     ]
    },
    {
     "name": "stderr",
     "output_type": "stream",
     "text": [
      " 54%|█████▍    | 227/418 [25:26<21:54,  6.88s/it]"
     ]
    },
    {
     "name": "stdout",
     "output_type": "stream",
     "text": [
      "{'Date_Forecast': datetime.date(2012, 4, 13), 'h1': 0.049569014, 'h2': 0.037618894, 'h3': 0.041120123, 'h4': 0.0468438}\n",
      "3/3 [==============================] - 1s 2ms/step\n"
     ]
    },
    {
     "name": "stderr",
     "output_type": "stream",
     "text": [
      " 55%|█████▍    | 228/418 [25:32<21:05,  6.66s/it]"
     ]
    },
    {
     "name": "stdout",
     "output_type": "stream",
     "text": [
      "{'Date_Forecast': datetime.date(2012, 4, 20), 'h1': 0.02585581, 'h2': 0.027042333, 'h3': 0.024888474, 'h4': 0.036911357}\n",
      "3/3 [==============================] - 1s 5ms/step\n"
     ]
    },
    {
     "name": "stderr",
     "output_type": "stream",
     "text": [
      " 55%|█████▍    | 229/418 [25:39<20:49,  6.61s/it]"
     ]
    },
    {
     "name": "stdout",
     "output_type": "stream",
     "text": [
      "{'Date_Forecast': datetime.date(2012, 4, 27), 'h1': 0.04655287, 'h2': 0.041748583, 'h3': 0.046314135, 'h4': 0.04884017}\n",
      "3/3 [==============================] - 0s 4ms/step\n"
     ]
    },
    {
     "name": "stderr",
     "output_type": "stream",
     "text": [
      " 55%|█████▌    | 230/418 [25:47<21:48,  6.96s/it]"
     ]
    },
    {
     "name": "stdout",
     "output_type": "stream",
     "text": [
      "{'Date_Forecast': datetime.date(2012, 5, 4), 'h1': 0.034318853, 'h2': 0.033602, 'h3': 0.04107214, 'h4': 0.04546284}\n",
      "3/3 [==============================] - 1s 4ms/step\n"
     ]
    },
    {
     "name": "stderr",
     "output_type": "stream",
     "text": [
      " 55%|█████▌    | 231/418 [25:52<19:54,  6.39s/it]"
     ]
    },
    {
     "name": "stdout",
     "output_type": "stream",
     "text": [
      "{'Date_Forecast': datetime.date(2012, 5, 11), 'h1': 0.023508709, 'h2': 0.028095877, 'h3': 0.029870281, 'h4': 0.022829652}\n",
      "3/3 [==============================] - 1s 7ms/step\n"
     ]
    },
    {
     "name": "stderr",
     "output_type": "stream",
     "text": [
      " 56%|█████▌    | 232/418 [25:57<18:55,  6.10s/it]"
     ]
    },
    {
     "name": "stdout",
     "output_type": "stream",
     "text": [
      "{'Date_Forecast': datetime.date(2012, 5, 18), 'h1': 0.03511144, 'h2': 0.026146803, 'h3': 0.02274406, 'h4': 0.03694936}\n",
      "3/3 [==============================] - 1s 9ms/step\n"
     ]
    },
    {
     "name": "stderr",
     "output_type": "stream",
     "text": [
      " 56%|█████▌    | 233/418 [26:02<18:09,  5.89s/it]"
     ]
    },
    {
     "name": "stdout",
     "output_type": "stream",
     "text": [
      "{'Date_Forecast': datetime.date(2012, 5, 25), 'h1': 0.054873332, 'h2': 0.05564759, 'h3': 0.0453589, 'h4': 0.04494706}\n",
      "3/3 [==============================] - 1s 7ms/step\n"
     ]
    },
    {
     "name": "stderr",
     "output_type": "stream",
     "text": [
      " 56%|█████▌    | 234/418 [26:11<20:18,  6.62s/it]"
     ]
    },
    {
     "name": "stdout",
     "output_type": "stream",
     "text": [
      "{'Date_Forecast': datetime.date(2012, 6, 1), 'h1': 0.04816749, 'h2': 0.035832047, 'h3': 0.029015122, 'h4': 0.027298454}\n",
      "3/3 [==============================] - 1s 6ms/step\n"
     ]
    },
    {
     "name": "stderr",
     "output_type": "stream",
     "text": [
      " 56%|█████▌    | 235/418 [26:16<19:10,  6.29s/it]"
     ]
    },
    {
     "name": "stdout",
     "output_type": "stream",
     "text": [
      "{'Date_Forecast': datetime.date(2012, 6, 8), 'h1': 0.039431717, 'h2': 0.027630944, 'h3': 0.040211886, 'h4': 0.03168823}\n",
      "3/3 [==============================] - 1s 3ms/step\n"
     ]
    },
    {
     "name": "stderr",
     "output_type": "stream",
     "text": [
      " 56%|█████▋    | 236/418 [26:23<19:12,  6.33s/it]"
     ]
    },
    {
     "name": "stdout",
     "output_type": "stream",
     "text": [
      "{'Date_Forecast': datetime.date(2012, 6, 15), 'h1': 0.03682435, 'h2': 0.02785033, 'h3': 0.032019965, 'h4': 0.034370616}\n",
      "3/3 [==============================] - 1s 13ms/step\n"
     ]
    },
    {
     "name": "stderr",
     "output_type": "stream",
     "text": [
      " 57%|█████▋    | 237/418 [26:30<19:30,  6.47s/it]"
     ]
    },
    {
     "name": "stdout",
     "output_type": "stream",
     "text": [
      "{'Date_Forecast': datetime.date(2012, 6, 22), 'h1': 0.027989717, 'h2': 0.022115758, 'h3': 0.025086137, 'h4': 0.030030908}\n",
      "3/3 [==============================] - 0s 3ms/step\n"
     ]
    },
    {
     "name": "stderr",
     "output_type": "stream",
     "text": [
      " 57%|█████▋    | 238/418 [26:37<20:05,  6.70s/it]"
     ]
    },
    {
     "name": "stdout",
     "output_type": "stream",
     "text": [
      "{'Date_Forecast': datetime.date(2012, 6, 29), 'h1': 0.04936404, 'h2': 0.031410404, 'h3': 0.03157162, 'h4': 0.030678071}\n",
      "3/3 [==============================] - 0s 2ms/step\n"
     ]
    },
    {
     "name": "stderr",
     "output_type": "stream",
     "text": [
      " 57%|█████▋    | 239/418 [26:42<18:48,  6.30s/it]"
     ]
    },
    {
     "name": "stdout",
     "output_type": "stream",
     "text": [
      "{'Date_Forecast': datetime.date(2012, 7, 6), 'h1': 0.025289798, 'h2': 0.02996782, 'h3': 0.03256021, 'h4': 0.033785995}\n",
      "3/3 [==============================] - 1s 6ms/step\n"
     ]
    },
    {
     "name": "stderr",
     "output_type": "stream",
     "text": [
      " 57%|█████▋    | 240/418 [26:47<17:20,  5.85s/it]"
     ]
    },
    {
     "name": "stdout",
     "output_type": "stream",
     "text": [
      "{'Date_Forecast': datetime.date(2012, 7, 13), 'h1': 0.025670493, 'h2': 0.054498784, 'h3': 0.037278716, 'h4': 0.0306474}\n",
      "3/3 [==============================] - 1s 4ms/step\n"
     ]
    },
    {
     "name": "stderr",
     "output_type": "stream",
     "text": [
      " 58%|█████▊    | 241/418 [26:54<18:04,  6.13s/it]"
     ]
    },
    {
     "name": "stdout",
     "output_type": "stream",
     "text": [
      "{'Date_Forecast': datetime.date(2012, 7, 20), 'h1': 0.059718844, 'h2': 0.049345054, 'h3': 0.05923299, 'h4': 0.057769522}\n",
      "3/3 [==============================] - 1s 7ms/step\n"
     ]
    },
    {
     "name": "stderr",
     "output_type": "stream",
     "text": [
      " 58%|█████▊    | 242/418 [27:02<19:37,  6.69s/it]"
     ]
    },
    {
     "name": "stdout",
     "output_type": "stream",
     "text": [
      "{'Date_Forecast': datetime.date(2012, 7, 27), 'h1': 0.032360796, 'h2': 0.030930819, 'h3': 0.028592654, 'h4': 0.022037035}\n",
      "3/3 [==============================] - 1s 7ms/step\n"
     ]
    },
    {
     "name": "stderr",
     "output_type": "stream",
     "text": [
      " 58%|█████▊    | 243/418 [27:08<18:47,  6.44s/it]"
     ]
    },
    {
     "name": "stdout",
     "output_type": "stream",
     "text": [
      "{'Date_Forecast': datetime.date(2012, 8, 3), 'h1': 0.03608071, 'h2': 0.037907474, 'h3': 0.04120869, 'h4': 0.022537777}\n",
      "3/3 [==============================] - 1s 4ms/step\n"
     ]
    },
    {
     "name": "stderr",
     "output_type": "stream",
     "text": [
      " 58%|█████▊    | 244/418 [27:13<18:08,  6.25s/it]"
     ]
    },
    {
     "name": "stdout",
     "output_type": "stream",
     "text": [
      "{'Date_Forecast': datetime.date(2012, 8, 10), 'h1': 0.023757042, 'h2': 0.019881964, 'h3': 0.0346662, 'h4': 0.03224162}\n",
      "3/3 [==============================] - 1s 4ms/step\n"
     ]
    },
    {
     "name": "stderr",
     "output_type": "stream",
     "text": [
      " 59%|█████▊    | 245/418 [27:20<18:31,  6.43s/it]"
     ]
    },
    {
     "name": "stdout",
     "output_type": "stream",
     "text": [
      "{'Date_Forecast': datetime.date(2012, 8, 17), 'h1': 0.022971261, 'h2': 0.039218627, 'h3': 0.024950085, 'h4': 0.027944341}\n",
      "3/3 [==============================] - 1s 4ms/step\n"
     ]
    },
    {
     "name": "stderr",
     "output_type": "stream",
     "text": [
      " 59%|█████▉    | 246/418 [27:29<20:18,  7.08s/it]"
     ]
    },
    {
     "name": "stdout",
     "output_type": "stream",
     "text": [
      "{'Date_Forecast': datetime.date(2012, 8, 24), 'h1': 0.028482733, 'h2': 0.02818719, 'h3': 0.037328154, 'h4': 0.02850616}\n",
      "3/3 [==============================] - 1s 4ms/step\n"
     ]
    },
    {
     "name": "stderr",
     "output_type": "stream",
     "text": [
      " 59%|█████▉    | 247/418 [27:34<18:25,  6.47s/it]"
     ]
    },
    {
     "name": "stdout",
     "output_type": "stream",
     "text": [
      "{'Date_Forecast': datetime.date(2012, 8, 31), 'h1': 0.055422626, 'h2': 0.022496505, 'h3': 0.037321627, 'h4': 0.036105983}\n",
      "3/3 [==============================] - 0s 3ms/step\n"
     ]
    },
    {
     "name": "stderr",
     "output_type": "stream",
     "text": [
      " 59%|█████▉    | 248/418 [27:39<17:29,  6.17s/it]"
     ]
    },
    {
     "name": "stdout",
     "output_type": "stream",
     "text": [
      "{'Date_Forecast': datetime.date(2012, 9, 7), 'h1': 0.029773498, 'h2': 0.024304774, 'h3': 0.026464492, 'h4': 0.028891638}\n",
      "3/3 [==============================] - 0s 2ms/step\n"
     ]
    },
    {
     "name": "stderr",
     "output_type": "stream",
     "text": [
      " 60%|█████▉    | 249/418 [27:44<15:46,  5.60s/it]"
     ]
    },
    {
     "name": "stdout",
     "output_type": "stream",
     "text": [
      "{'Date_Forecast': datetime.date(2012, 9, 14), 'h1': 0.04264283, 'h2': 0.044428676, 'h3': 0.03874427, 'h4': 0.032241516}\n",
      "3/3 [==============================] - 0s 4ms/step\n"
     ]
    },
    {
     "name": "stderr",
     "output_type": "stream",
     "text": [
      " 60%|█████▉    | 250/418 [27:49<15:42,  5.61s/it]"
     ]
    },
    {
     "name": "stdout",
     "output_type": "stream",
     "text": [
      "{'Date_Forecast': datetime.date(2012, 9, 21), 'h1': 0.028305804, 'h2': 0.031136729, 'h3': 0.039317273, 'h4': 0.046226546}\n",
      "3/3 [==============================] - 0s 3ms/step\n"
     ]
    },
    {
     "name": "stderr",
     "output_type": "stream",
     "text": [
      " 60%|██████    | 251/418 [27:54<14:47,  5.31s/it]"
     ]
    },
    {
     "name": "stdout",
     "output_type": "stream",
     "text": [
      "{'Date_Forecast': datetime.date(2012, 9, 28), 'h1': 0.034015656, 'h2': 0.031158287, 'h3': 0.036288377, 'h4': 0.040339258}\n",
      "3/3 [==============================] - 0s 2ms/step\n"
     ]
    },
    {
     "name": "stderr",
     "output_type": "stream",
     "text": [
      " 60%|██████    | 252/418 [27:58<13:58,  5.05s/it]"
     ]
    },
    {
     "name": "stdout",
     "output_type": "stream",
     "text": [
      "{'Date_Forecast': datetime.date(2012, 10, 5), 'h1': 0.030070484, 'h2': 0.033647396, 'h3': 0.03147687, 'h4': 0.02864362}\n",
      "3/3 [==============================] - 0s 2ms/step\n"
     ]
    },
    {
     "name": "stderr",
     "output_type": "stream",
     "text": [
      " 61%|██████    | 253/418 [28:02<12:55,  4.70s/it]"
     ]
    },
    {
     "name": "stdout",
     "output_type": "stream",
     "text": [
      "{'Date_Forecast': datetime.date(2012, 10, 12), 'h1': 0.034804925, 'h2': 0.027821554, 'h3': 0.0331785, 'h4': 0.028555136}\n",
      "3/3 [==============================] - 1s 3ms/step\n"
     ]
    },
    {
     "name": "stderr",
     "output_type": "stream",
     "text": [
      " 61%|██████    | 254/418 [28:07<13:12,  4.83s/it]"
     ]
    },
    {
     "name": "stdout",
     "output_type": "stream",
     "text": [
      "{'Date_Forecast': datetime.date(2012, 10, 19), 'h1': 0.02607232, 'h2': 0.030308118, 'h3': 0.025201844, 'h4': 0.029509464}\n",
      "3/3 [==============================] - 1s 3ms/step\n"
     ]
    },
    {
     "name": "stderr",
     "output_type": "stream",
     "text": [
      " 61%|██████    | 255/418 [28:12<12:59,  4.78s/it]"
     ]
    },
    {
     "name": "stdout",
     "output_type": "stream",
     "text": [
      "{'Date_Forecast': datetime.date(2012, 10, 26), 'h1': 0.038967066, 'h2': 0.03838073, 'h3': 0.034822058, 'h4': 0.048411254}\n",
      "3/3 [==============================] - 1s 3ms/step\n"
     ]
    },
    {
     "name": "stderr",
     "output_type": "stream",
     "text": [
      " 61%|██████    | 256/418 [28:17<12:57,  4.80s/it]"
     ]
    },
    {
     "name": "stdout",
     "output_type": "stream",
     "text": [
      "{'Date_Forecast': datetime.date(2012, 11, 2), 'h1': 0.034283854, 'h2': 0.035315532, 'h3': 0.029365694, 'h4': 0.023090694}\n",
      "3/3 [==============================] - 1s 4ms/step\n"
     ]
    },
    {
     "name": "stderr",
     "output_type": "stream",
     "text": [
      " 61%|██████▏   | 257/418 [28:23<13:46,  5.13s/it]"
     ]
    },
    {
     "name": "stdout",
     "output_type": "stream",
     "text": [
      "{'Date_Forecast': datetime.date(2012, 11, 9), 'h1': 0.022523442, 'h2': 0.028247828, 'h3': 0.036765564, 'h4': 0.035352606}\n",
      "3/3 [==============================] - 1s 6ms/step\n"
     ]
    },
    {
     "name": "stderr",
     "output_type": "stream",
     "text": [
      " 62%|██████▏   | 258/418 [28:28<13:44,  5.15s/it]"
     ]
    },
    {
     "name": "stdout",
     "output_type": "stream",
     "text": [
      "{'Date_Forecast': datetime.date(2012, 11, 16), 'h1': 0.031949706, 'h2': 0.035348162, 'h3': 0.027233299, 'h4': 0.032511722}\n",
      "3/3 [==============================] - 0s 2ms/step\n"
     ]
    },
    {
     "name": "stderr",
     "output_type": "stream",
     "text": [
      " 62%|██████▏   | 259/418 [28:32<12:49,  4.84s/it]"
     ]
    },
    {
     "name": "stdout",
     "output_type": "stream",
     "text": [
      "{'Date_Forecast': datetime.date(2012, 11, 23), 'h1': 0.027949685, 'h2': 0.029269585, 'h3': 0.033902258, 'h4': 0.026526133}\n",
      "3/3 [==============================] - 0s 3ms/step\n"
     ]
    },
    {
     "name": "stderr",
     "output_type": "stream",
     "text": [
      " 62%|██████▏   | 260/418 [28:36<12:09,  4.62s/it]"
     ]
    },
    {
     "name": "stdout",
     "output_type": "stream",
     "text": [
      "{'Date_Forecast': datetime.date(2012, 11, 30), 'h1': 0.052387603, 'h2': 0.043123666, 'h3': 0.051549155, 'h4': 0.049237724}\n",
      "3/3 [==============================] - 1s 4ms/step\n"
     ]
    },
    {
     "name": "stderr",
     "output_type": "stream",
     "text": [
      " 62%|██████▏   | 261/418 [28:42<13:00,  4.97s/it]"
     ]
    },
    {
     "name": "stdout",
     "output_type": "stream",
     "text": [
      "{'Date_Forecast': datetime.date(2012, 12, 7), 'h1': 0.04547621, 'h2': 0.035383314, 'h3': 0.05327246, 'h4': 0.044369183}\n",
      "3/3 [==============================] - 0s 3ms/step\n"
     ]
    },
    {
     "name": "stderr",
     "output_type": "stream",
     "text": [
      " 63%|██████▎   | 262/418 [28:47<13:15,  5.10s/it]"
     ]
    },
    {
     "name": "stdout",
     "output_type": "stream",
     "text": [
      "{'Date_Forecast': datetime.date(2012, 12, 14), 'h1': 0.02677396, 'h2': 0.027776277, 'h3': 0.028368542, 'h4': 0.04346192}\n",
      "3/3 [==============================] - 0s 2ms/step\n"
     ]
    },
    {
     "name": "stderr",
     "output_type": "stream",
     "text": [
      " 63%|██████▎   | 263/418 [28:52<12:37,  4.88s/it]"
     ]
    },
    {
     "name": "stdout",
     "output_type": "stream",
     "text": [
      "{'Date_Forecast': datetime.date(2012, 12, 21), 'h1': 0.035485767, 'h2': 0.024956802, 'h3': 0.03553943, 'h4': 0.026973497}\n",
      "3/3 [==============================] - 1s 2ms/step\n"
     ]
    },
    {
     "name": "stderr",
     "output_type": "stream",
     "text": [
      " 63%|██████▎   | 264/418 [28:56<11:51,  4.62s/it]"
     ]
    },
    {
     "name": "stdout",
     "output_type": "stream",
     "text": [
      "{'Date_Forecast': datetime.date(2012, 12, 28), 'h1': 0.053299345, 'h2': 0.028590705, 'h3': 0.03265563, 'h4': 0.040280696}\n",
      "3/3 [==============================] - 0s 2ms/step\n"
     ]
    },
    {
     "name": "stderr",
     "output_type": "stream",
     "text": [
      " 63%|██████▎   | 265/418 [29:01<12:00,  4.71s/it]"
     ]
    },
    {
     "name": "stdout",
     "output_type": "stream",
     "text": [
      "{'Date_Forecast': datetime.date(2013, 1, 4), 'h1': 0.03138525, 'h2': 0.031626888, 'h3': 0.03429472, 'h4': 0.03730924}\n",
      "3/3 [==============================] - 0s 2ms/step\n"
     ]
    },
    {
     "name": "stderr",
     "output_type": "stream",
     "text": [
      " 64%|██████▎   | 266/418 [29:05<11:43,  4.63s/it]"
     ]
    },
    {
     "name": "stdout",
     "output_type": "stream",
     "text": [
      "{'Date_Forecast': datetime.date(2013, 1, 11), 'h1': 0.028340483, 'h2': 0.036320087, 'h3': 0.034214593, 'h4': 0.032463565}\n",
      "3/3 [==============================] - 1s 2ms/step\n"
     ]
    },
    {
     "name": "stderr",
     "output_type": "stream",
     "text": [
      " 64%|██████▍   | 267/418 [29:10<11:51,  4.71s/it]"
     ]
    },
    {
     "name": "stdout",
     "output_type": "stream",
     "text": [
      "{'Date_Forecast': datetime.date(2013, 1, 18), 'h1': 0.029243711, 'h2': 0.03490229, 'h3': 0.031211553, 'h4': 0.032415934}\n",
      "3/3 [==============================] - 0s 3ms/step\n"
     ]
    },
    {
     "name": "stderr",
     "output_type": "stream",
     "text": [
      " 64%|██████▍   | 268/418 [29:15<11:55,  4.77s/it]"
     ]
    },
    {
     "name": "stdout",
     "output_type": "stream",
     "text": [
      "{'Date_Forecast': datetime.date(2013, 1, 25), 'h1': 0.02916979, 'h2': 0.031687696, 'h3': 0.029712508, 'h4': 0.026110146}\n",
      "3/3 [==============================] - 0s 2ms/step\n"
     ]
    },
    {
     "name": "stderr",
     "output_type": "stream",
     "text": [
      " 64%|██████▍   | 269/418 [29:20<12:16,  4.94s/it]"
     ]
    },
    {
     "name": "stdout",
     "output_type": "stream",
     "text": [
      "{'Date_Forecast': datetime.date(2013, 2, 1), 'h1': 0.03457895, 'h2': 0.03421813, 'h3': 0.0375031, 'h4': 0.02966597}\n",
      "3/3 [==============================] - 1s 4ms/step\n"
     ]
    },
    {
     "name": "stderr",
     "output_type": "stream",
     "text": [
      " 65%|██████▍   | 270/418 [29:25<11:55,  4.83s/it]"
     ]
    },
    {
     "name": "stdout",
     "output_type": "stream",
     "text": [
      "{'Date_Forecast': datetime.date(2013, 2, 8), 'h1': 0.034423843, 'h2': 0.029664258, 'h3': 0.033781078, 'h4': 0.03910153}\n",
      "3/3 [==============================] - 0s 3ms/step\n"
     ]
    },
    {
     "name": "stderr",
     "output_type": "stream",
     "text": [
      " 65%|██████▍   | 271/418 [29:30<11:53,  4.85s/it]"
     ]
    },
    {
     "name": "stdout",
     "output_type": "stream",
     "text": [
      "{'Date_Forecast': datetime.date(2013, 2, 15), 'h1': 0.053688873, 'h2': 0.041014593, 'h3': 0.036876604, 'h4': 0.046973765}\n",
      "3/3 [==============================] - 0s 4ms/step\n"
     ]
    },
    {
     "name": "stderr",
     "output_type": "stream",
     "text": [
      " 65%|██████▌   | 272/418 [29:34<11:37,  4.77s/it]"
     ]
    },
    {
     "name": "stdout",
     "output_type": "stream",
     "text": [
      "{'Date_Forecast': datetime.date(2013, 2, 22), 'h1': 0.022574903, 'h2': 0.0350893, 'h3': 0.034342825, 'h4': 0.03674292}\n",
      "3/3 [==============================] - 1s 3ms/step\n"
     ]
    },
    {
     "name": "stderr",
     "output_type": "stream",
     "text": [
      " 65%|██████▌   | 273/418 [29:40<12:12,  5.05s/it]"
     ]
    },
    {
     "name": "stdout",
     "output_type": "stream",
     "text": [
      "{'Date_Forecast': datetime.date(2013, 3, 1), 'h1': 0.037959814, 'h2': 0.04692386, 'h3': 0.036982838, 'h4': 0.047760993}\n",
      "3/3 [==============================] - 1s 4ms/step\n"
     ]
    },
    {
     "name": "stderr",
     "output_type": "stream",
     "text": [
      " 66%|██████▌   | 274/418 [29:45<11:56,  4.97s/it]"
     ]
    },
    {
     "name": "stdout",
     "output_type": "stream",
     "text": [
      "{'Date_Forecast': datetime.date(2013, 3, 8), 'h1': 0.025381878, 'h2': 0.03512674, 'h3': 0.027060928, 'h4': 0.034815118}\n",
      "3/3 [==============================] - 0s 2ms/step\n"
     ]
    },
    {
     "name": "stderr",
     "output_type": "stream",
     "text": [
      " 66%|██████▌   | 275/418 [29:49<11:32,  4.84s/it]"
     ]
    },
    {
     "name": "stdout",
     "output_type": "stream",
     "text": [
      "{'Date_Forecast': datetime.date(2013, 3, 15), 'h1': 0.041433856, 'h2': 0.047964744, 'h3': 0.033930473, 'h4': 0.03129814}\n",
      "3/3 [==============================] - 0s 3ms/step\n"
     ]
    },
    {
     "name": "stderr",
     "output_type": "stream",
     "text": [
      " 66%|██████▌   | 276/418 [29:54<11:39,  4.93s/it]"
     ]
    },
    {
     "name": "stdout",
     "output_type": "stream",
     "text": [
      "{'Date_Forecast': datetime.date(2013, 3, 22), 'h1': 0.036222696, 'h2': 0.037306555, 'h3': 0.038447943, 'h4': 0.025974171}\n",
      "3/3 [==============================] - 0s 2ms/step\n"
     ]
    },
    {
     "name": "stderr",
     "output_type": "stream",
     "text": [
      " 66%|██████▋   | 277/418 [30:00<12:14,  5.21s/it]"
     ]
    },
    {
     "name": "stdout",
     "output_type": "stream",
     "text": [
      "{'Date_Forecast': datetime.date(2013, 3, 29), 'h1': 0.023069046, 'h2': 0.04850891, 'h3': 0.039509114, 'h4': 0.034478303}\n",
      "3/3 [==============================] - 0s 2ms/step\n"
     ]
    },
    {
     "name": "stderr",
     "output_type": "stream",
     "text": [
      " 67%|██████▋   | 278/418 [30:05<11:28,  4.91s/it]"
     ]
    },
    {
     "name": "stdout",
     "output_type": "stream",
     "text": [
      "{'Date_Forecast': datetime.date(2013, 4, 5), 'h1': 0.032297283, 'h2': 0.03195452, 'h3': 0.028435895, 'h4': 0.052744128}\n",
      "3/3 [==============================] - 0s 2ms/step\n"
     ]
    },
    {
     "name": "stderr",
     "output_type": "stream",
     "text": [
      " 67%|██████▋   | 279/418 [30:09<10:52,  4.70s/it]"
     ]
    },
    {
     "name": "stdout",
     "output_type": "stream",
     "text": [
      "{'Date_Forecast': datetime.date(2013, 4, 12), 'h1': 0.03064963, 'h2': 0.033251863, 'h3': 0.040441766, 'h4': 0.03298958}\n",
      "3/3 [==============================] - 0s 2ms/step\n"
     ]
    },
    {
     "name": "stderr",
     "output_type": "stream",
     "text": [
      " 67%|██████▋   | 280/418 [30:13<10:18,  4.48s/it]"
     ]
    },
    {
     "name": "stdout",
     "output_type": "stream",
     "text": [
      "{'Date_Forecast': datetime.date(2013, 4, 19), 'h1': 0.04874255, 'h2': 0.040493034, 'h3': 0.028247984, 'h4': 0.040580764}\n",
      "3/3 [==============================] - 0s 2ms/step\n"
     ]
    },
    {
     "name": "stderr",
     "output_type": "stream",
     "text": [
      " 67%|██████▋   | 281/418 [30:18<10:37,  4.65s/it]"
     ]
    },
    {
     "name": "stdout",
     "output_type": "stream",
     "text": [
      "{'Date_Forecast': datetime.date(2013, 4, 26), 'h1': 0.041678328, 'h2': 0.022511115, 'h3': 0.035045046, 'h4': 0.03354528}\n",
      "3/3 [==============================] - 0s 2ms/step\n"
     ]
    },
    {
     "name": "stderr",
     "output_type": "stream",
     "text": [
      " 67%|██████▋   | 282/418 [30:22<10:15,  4.52s/it]"
     ]
    },
    {
     "name": "stdout",
     "output_type": "stream",
     "text": [
      "{'Date_Forecast': datetime.date(2013, 5, 3), 'h1': 0.051470246, 'h2': 0.03134966, 'h3': 0.031479478, 'h4': 0.046277486}\n",
      "3/3 [==============================] - 1s 4ms/step\n"
     ]
    },
    {
     "name": "stderr",
     "output_type": "stream",
     "text": [
      " 68%|██████▊   | 283/418 [30:26<10:08,  4.51s/it]"
     ]
    },
    {
     "name": "stdout",
     "output_type": "stream",
     "text": [
      "{'Date_Forecast': datetime.date(2013, 5, 10), 'h1': 0.032627676, 'h2': 0.04125285, 'h3': 0.039299563, 'h4': 0.03165272}\n",
      "3/3 [==============================] - 1s 3ms/step\n"
     ]
    },
    {
     "name": "stderr",
     "output_type": "stream",
     "text": [
      " 68%|██████▊   | 284/418 [30:31<09:54,  4.44s/it]"
     ]
    },
    {
     "name": "stdout",
     "output_type": "stream",
     "text": [
      "{'Date_Forecast': datetime.date(2013, 5, 17), 'h1': 0.040986825, 'h2': 0.026826542, 'h3': 0.063129365, 'h4': 0.046027675}\n",
      "3/3 [==============================] - 1s 11ms/step\n"
     ]
    },
    {
     "name": "stderr",
     "output_type": "stream",
     "text": [
      " 68%|██████▊   | 285/418 [30:36<10:26,  4.71s/it]"
     ]
    },
    {
     "name": "stdout",
     "output_type": "stream",
     "text": [
      "{'Date_Forecast': datetime.date(2013, 5, 24), 'h1': 0.032881282, 'h2': 0.04669109, 'h3': 0.041182198, 'h4': 0.034286983}\n",
      "3/3 [==============================] - 1s 3ms/step\n"
     ]
    },
    {
     "name": "stderr",
     "output_type": "stream",
     "text": [
      " 68%|██████▊   | 286/418 [30:41<10:16,  4.67s/it]"
     ]
    },
    {
     "name": "stdout",
     "output_type": "stream",
     "text": [
      "{'Date_Forecast': datetime.date(2013, 5, 31), 'h1': 0.041255973, 'h2': 0.051957816, 'h3': 0.031430103, 'h4': 0.04719344}\n",
      "3/3 [==============================] - 1s 3ms/step\n"
     ]
    },
    {
     "name": "stderr",
     "output_type": "stream",
     "text": [
      " 69%|██████▊   | 287/418 [30:45<10:03,  4.61s/it]"
     ]
    },
    {
     "name": "stdout",
     "output_type": "stream",
     "text": [
      "{'Date_Forecast': datetime.date(2013, 6, 7), 'h1': 0.046787262, 'h2': 0.03327543, 'h3': 0.033730954, 'h4': 0.022588369}\n",
      "3/3 [==============================] - 0s 2ms/step\n"
     ]
    },
    {
     "name": "stderr",
     "output_type": "stream",
     "text": [
      " 69%|██████▉   | 288/418 [30:49<09:48,  4.53s/it]"
     ]
    },
    {
     "name": "stdout",
     "output_type": "stream",
     "text": [
      "{'Date_Forecast': datetime.date(2013, 6, 14), 'h1': 0.029774988, 'h2': 0.027759727, 'h3': 0.036945663, 'h4': 0.027203817}\n",
      "3/3 [==============================] - 1s 7ms/step\n"
     ]
    },
    {
     "name": "stderr",
     "output_type": "stream",
     "text": [
      " 69%|██████▉   | 289/418 [30:55<10:29,  4.88s/it]"
     ]
    },
    {
     "name": "stdout",
     "output_type": "stream",
     "text": [
      "{'Date_Forecast': datetime.date(2013, 6, 21), 'h1': 0.018773438, 'h2': 0.027295075, 'h3': 0.025082264, 'h4': 0.025879202}\n",
      "3/3 [==============================] - 2s 18ms/step\n"
     ]
    },
    {
     "name": "stderr",
     "output_type": "stream",
     "text": [
      " 69%|██████▉   | 290/418 [31:04<13:03,  6.12s/it]"
     ]
    },
    {
     "name": "stdout",
     "output_type": "stream",
     "text": [
      "{'Date_Forecast': datetime.date(2013, 6, 28), 'h1': 0.02309968, 'h2': 0.03365218, 'h3': 0.034849614, 'h4': 0.02750329}\n",
      "3/3 [==============================] - 1s 5ms/step\n"
     ]
    },
    {
     "name": "stderr",
     "output_type": "stream",
     "text": [
      " 70%|██████▉   | 291/418 [31:11<13:36,  6.43s/it]"
     ]
    },
    {
     "name": "stdout",
     "output_type": "stream",
     "text": [
      "{'Date_Forecast': datetime.date(2013, 7, 5), 'h1': 0.04401953, 'h2': 0.086118855, 'h3': 0.07280563, 'h4': 0.059449017}\n",
      "3/3 [==============================] - 1s 19ms/step\n"
     ]
    },
    {
     "name": "stderr",
     "output_type": "stream",
     "text": [
      " 70%|██████▉   | 292/418 [31:19<14:08,  6.74s/it]"
     ]
    },
    {
     "name": "stdout",
     "output_type": "stream",
     "text": [
      "{'Date_Forecast': datetime.date(2013, 7, 12), 'h1': 0.018494135, 'h2': 0.035772964, 'h3': 0.016976094, 'h4': 0.025905496}\n",
      "3/3 [==============================] - 1s 5ms/step\n"
     ]
    },
    {
     "name": "stderr",
     "output_type": "stream",
     "text": [
      " 70%|███████   | 293/418 [31:26<14:18,  6.86s/it]"
     ]
    },
    {
     "name": "stdout",
     "output_type": "stream",
     "text": [
      "{'Date_Forecast': datetime.date(2013, 7, 19), 'h1': 0.03771248, 'h2': 0.019863443, 'h3': 0.03287127, 'h4': 0.024642227}\n",
      "3/3 [==============================] - 1s 4ms/step\n"
     ]
    },
    {
     "name": "stderr",
     "output_type": "stream",
     "text": [
      " 70%|███████   | 294/418 [31:33<14:19,  6.93s/it]"
     ]
    },
    {
     "name": "stdout",
     "output_type": "stream",
     "text": [
      "{'Date_Forecast': datetime.date(2013, 7, 26), 'h1': 0.037824377, 'h2': 0.02016551, 'h3': 0.02643843, 'h4': 0.03978645}\n",
      "3/3 [==============================] - 0s 2ms/step\n"
     ]
    },
    {
     "name": "stderr",
     "output_type": "stream",
     "text": [
      " 71%|███████   | 295/418 [31:38<12:49,  6.26s/it]"
     ]
    },
    {
     "name": "stdout",
     "output_type": "stream",
     "text": [
      "{'Date_Forecast': datetime.date(2013, 8, 2), 'h1': 0.04216192, 'h2': 0.036100525, 'h3': 0.033005502, 'h4': 0.032194957}\n",
      "3/3 [==============================] - 0s 3ms/step\n"
     ]
    },
    {
     "name": "stderr",
     "output_type": "stream",
     "text": [
      " 71%|███████   | 296/418 [31:44<12:48,  6.30s/it]"
     ]
    },
    {
     "name": "stdout",
     "output_type": "stream",
     "text": [
      "{'Date_Forecast': datetime.date(2013, 8, 9), 'h1': 0.022102237, 'h2': 0.019847525, 'h3': 0.034646843, 'h4': 0.02647294}\n",
      "3/3 [==============================] - 1s 2ms/step\n"
     ]
    },
    {
     "name": "stderr",
     "output_type": "stream",
     "text": [
      " 71%|███████   | 297/418 [31:49<11:48,  5.86s/it]"
     ]
    },
    {
     "name": "stdout",
     "output_type": "stream",
     "text": [
      "{'Date_Forecast': datetime.date(2013, 8, 16), 'h1': 0.026767867, 'h2': 0.037989058, 'h3': 0.032493412, 'h4': 0.035721984}\n",
      "3/3 [==============================] - 1s 4ms/step\n"
     ]
    },
    {
     "name": "stderr",
     "output_type": "stream",
     "text": [
      " 71%|███████▏  | 298/418 [31:54<11:16,  5.64s/it]"
     ]
    },
    {
     "name": "stdout",
     "output_type": "stream",
     "text": [
      "{'Date_Forecast': datetime.date(2013, 8, 23), 'h1': 0.020871555, 'h2': 0.030740293, 'h3': 0.02197104, 'h4': 0.03209864}\n",
      "3/3 [==============================] - 1s 35ms/step\n"
     ]
    },
    {
     "name": "stderr",
     "output_type": "stream",
     "text": [
      " 72%|███████▏  | 299/418 [32:01<11:59,  6.04s/it]"
     ]
    },
    {
     "name": "stdout",
     "output_type": "stream",
     "text": [
      "{'Date_Forecast': datetime.date(2013, 8, 30), 'h1': 0.022814965, 'h2': 0.030740293, 'h3': 0.029703027, 'h4': 0.01934331}\n",
      "3/3 [==============================] - 1s 4ms/step\n"
     ]
    },
    {
     "name": "stderr",
     "output_type": "stream",
     "text": [
      " 72%|███████▏  | 300/418 [32:11<13:56,  7.08s/it]"
     ]
    },
    {
     "name": "stdout",
     "output_type": "stream",
     "text": [
      "{'Date_Forecast': datetime.date(2013, 9, 6), 'h1': 0.027131842, 'h2': 0.022265421, 'h3': 0.0317805, 'h4': 0.02323052}\n",
      "3/3 [==============================] - 1s 3ms/step\n"
     ]
    },
    {
     "name": "stderr",
     "output_type": "stream",
     "text": [
      " 72%|███████▏  | 301/418 [32:17<13:10,  6.76s/it]"
     ]
    },
    {
     "name": "stdout",
     "output_type": "stream",
     "text": [
      "{'Date_Forecast': datetime.date(2013, 9, 13), 'h1': 0.04531605, 'h2': 0.033845156, 'h3': 0.021554122, 'h4': 0.02805598}\n",
      "3/3 [==============================] - 1s 5ms/step\n"
     ]
    },
    {
     "name": "stderr",
     "output_type": "stream",
     "text": [
      " 72%|███████▏  | 302/418 [32:22<12:26,  6.44s/it]"
     ]
    },
    {
     "name": "stdout",
     "output_type": "stream",
     "text": [
      "{'Date_Forecast': datetime.date(2013, 9, 20), 'h1': 0.023253066, 'h2': 0.021476207, 'h3': 0.020607604, 'h4': 0.022354815}\n",
      "3/3 [==============================] - 1s 4ms/step\n"
     ]
    },
    {
     "name": "stderr",
     "output_type": "stream",
     "text": [
      " 72%|███████▏  | 303/418 [32:27<11:32,  6.02s/it]"
     ]
    },
    {
     "name": "stdout",
     "output_type": "stream",
     "text": [
      "{'Date_Forecast': datetime.date(2013, 9, 27), 'h1': 0.022132255, 'h2': 0.029725589, 'h3': 0.029766973, 'h4': 0.031631835}\n",
      "3/3 [==============================] - 1s 5ms/step\n"
     ]
    },
    {
     "name": "stderr",
     "output_type": "stream",
     "text": [
      " 73%|███████▎  | 304/418 [32:35<12:21,  6.51s/it]"
     ]
    },
    {
     "name": "stdout",
     "output_type": "stream",
     "text": [
      "{'Date_Forecast': datetime.date(2013, 10, 4), 'h1': 0.02116958, 'h2': 0.02109218, 'h3': 0.02607824, 'h4': 0.020161401}\n",
      "3/3 [==============================] - 1s 7ms/step\n",
      "{'Date_Forecast': datetime.date(2013, 10, 11), 'h1': 0.03694787, 'h2': 0.019819487, 'h3': 0.03292756, 'h4': 0.02576192}\n"
     ]
    },
    {
     "name": "stderr",
     "output_type": "stream",
     "text": [
      " 73%|███████▎  | 305/418 [32:42<12:48,  6.80s/it]"
     ]
    },
    {
     "name": "stdout",
     "output_type": "stream",
     "text": [
      "3/3 [==============================] - 1s 3ms/step\n"
     ]
    },
    {
     "name": "stderr",
     "output_type": "stream",
     "text": [
      " 73%|███████▎  | 306/418 [32:50<13:14,  7.09s/it]"
     ]
    },
    {
     "name": "stdout",
     "output_type": "stream",
     "text": [
      "{'Date_Forecast': datetime.date(2013, 10, 18), 'h1': 0.031348422, 'h2': 0.020191511, 'h3': 0.031411447, 'h4': 0.03500317}\n",
      "3/3 [==============================] - 1s 4ms/step\n"
     ]
    },
    {
     "name": "stderr",
     "output_type": "stream",
     "text": [
      " 73%|███████▎  | 307/418 [32:57<12:59,  7.02s/it]"
     ]
    },
    {
     "name": "stdout",
     "output_type": "stream",
     "text": [
      "{'Date_Forecast': datetime.date(2013, 10, 25), 'h1': 0.032682322, 'h2': 0.032404974, 'h3': 0.03230035, 'h4': 0.035233602}\n",
      "3/3 [==============================] - 1s 6ms/step\n"
     ]
    },
    {
     "name": "stderr",
     "output_type": "stream",
     "text": [
      " 74%|███████▎  | 308/418 [33:05<13:24,  7.31s/it]"
     ]
    },
    {
     "name": "stdout",
     "output_type": "stream",
     "text": [
      "{'Date_Forecast': datetime.date(2013, 11, 1), 'h1': 0.025932739, 'h2': 0.029446699, 'h3': 0.026467519, 'h4': 0.03227077}\n",
      "3/3 [==============================] - 1s 8ms/step\n"
     ]
    },
    {
     "name": "stderr",
     "output_type": "stream",
     "text": [
      " 74%|███████▍  | 309/418 [33:11<12:39,  6.96s/it]"
     ]
    },
    {
     "name": "stdout",
     "output_type": "stream",
     "text": [
      "{'Date_Forecast': datetime.date(2013, 11, 8), 'h1': 0.032859467, 'h2': 0.018629903, 'h3': 0.02782138, 'h4': 0.02307682}\n",
      "3/3 [==============================] - 1s 3ms/step\n"
     ]
    },
    {
     "name": "stderr",
     "output_type": "stream",
     "text": [
      " 74%|███████▍  | 310/418 [33:17<12:05,  6.72s/it]"
     ]
    },
    {
     "name": "stdout",
     "output_type": "stream",
     "text": [
      "{'Date_Forecast': datetime.date(2013, 11, 15), 'h1': 0.026865285, 'h2': 0.018747428, 'h3': 0.034558993, 'h4': 0.023853142}\n",
      "3/3 [==============================] - 1s 7ms/step\n"
     ]
    },
    {
     "name": "stderr",
     "output_type": "stream",
     "text": [
      " 74%|███████▍  | 311/418 [33:24<11:58,  6.71s/it]"
     ]
    },
    {
     "name": "stdout",
     "output_type": "stream",
     "text": [
      "{'Date_Forecast': datetime.date(2013, 11, 22), 'h1': 0.02132663, 'h2': 0.03144045, 'h3': 0.032108802, 'h4': 0.03133862}\n",
      "3/3 [==============================] - 1s 2ms/step\n"
     ]
    },
    {
     "name": "stderr",
     "output_type": "stream",
     "text": [
      " 75%|███████▍  | 312/418 [33:32<12:14,  6.93s/it]"
     ]
    },
    {
     "name": "stdout",
     "output_type": "stream",
     "text": [
      "{'Date_Forecast': datetime.date(2013, 11, 29), 'h1': 0.026618738, 'h2': 0.025943834, 'h3': 0.026700832, 'h4': 0.04686782}\n",
      "3/3 [==============================] - 1s 5ms/step\n"
     ]
    },
    {
     "name": "stderr",
     "output_type": "stream",
     "text": [
      " 75%|███████▍  | 313/418 [33:37<11:18,  6.46s/it]"
     ]
    },
    {
     "name": "stdout",
     "output_type": "stream",
     "text": [
      "{'Date_Forecast': datetime.date(2013, 12, 6), 'h1': 0.03512835, 'h2': 0.055405106, 'h3': 0.03350656, 'h4': 0.03242989}\n",
      "3/3 [==============================] - 1s 5ms/step\n"
     ]
    },
    {
     "name": "stderr",
     "output_type": "stream",
     "text": [
      " 75%|███████▌  | 314/418 [33:43<10:53,  6.29s/it]"
     ]
    },
    {
     "name": "stdout",
     "output_type": "stream",
     "text": [
      "{'Date_Forecast': datetime.date(2013, 12, 13), 'h1': 0.030950056, 'h2': 0.0458732, 'h3': 0.022802262, 'h4': 0.03424516}\n",
      "3/3 [==============================] - 0s 6ms/step\n"
     ]
    },
    {
     "name": "stderr",
     "output_type": "stream",
     "text": [
      " 75%|███████▌  | 315/418 [33:48<10:30,  6.12s/it]"
     ]
    },
    {
     "name": "stdout",
     "output_type": "stream",
     "text": [
      "{'Date_Forecast': datetime.date(2013, 12, 20), 'h1': 0.023546413, 'h2': 0.015539547, 'h3': 0.037399836, 'h4': 0.033545274}\n",
      "3/3 [==============================] - 1s 7ms/step\n"
     ]
    },
    {
     "name": "stderr",
     "output_type": "stream",
     "text": [
      " 76%|███████▌  | 316/418 [33:55<10:35,  6.23s/it]"
     ]
    },
    {
     "name": "stdout",
     "output_type": "stream",
     "text": [
      "{'Date_Forecast': datetime.date(2013, 12, 27), 'h1': 0.020545678, 'h2': 0.035952967, 'h3': 0.03195892, 'h4': 0.022646168}\n",
      "3/3 [==============================] - 0s 3ms/step\n"
     ]
    },
    {
     "name": "stderr",
     "output_type": "stream",
     "text": [
      " 76%|███████▌  | 317/418 [34:01<10:07,  6.02s/it]"
     ]
    },
    {
     "name": "stdout",
     "output_type": "stream",
     "text": [
      "{'Date_Forecast': datetime.date(2014, 1, 3), 'h1': 0.024634525, 'h2': 0.029293522, 'h3': 0.025799295, 'h4': 0.01625669}\n",
      "3/3 [==============================] - 1s 3ms/step\n"
     ]
    },
    {
     "name": "stderr",
     "output_type": "stream",
     "text": [
      " 76%|███████▌  | 318/418 [34:06<09:35,  5.76s/it]"
     ]
    },
    {
     "name": "stdout",
     "output_type": "stream",
     "text": [
      "{'Date_Forecast': datetime.date(2014, 1, 10), 'h1': 0.033696458, 'h2': 0.03075113, 'h3': 0.023321683, 'h4': 0.0313185}\n",
      "3/3 [==============================] - 1s 5ms/step\n"
     ]
    },
    {
     "name": "stderr",
     "output_type": "stream",
     "text": [
      " 76%|███████▋  | 319/418 [34:11<09:26,  5.72s/it]"
     ]
    },
    {
     "name": "stdout",
     "output_type": "stream",
     "text": [
      "{'Date_Forecast': datetime.date(2014, 1, 17), 'h1': 0.041605867, 'h2': 0.05088772, 'h3': 0.042971876, 'h4': 0.026048645}\n",
      "3/3 [==============================] - 0s 3ms/step\n"
     ]
    },
    {
     "name": "stderr",
     "output_type": "stream",
     "text": [
      " 77%|███████▋  | 320/418 [34:18<09:40,  5.92s/it]"
     ]
    },
    {
     "name": "stdout",
     "output_type": "stream",
     "text": [
      "{'Date_Forecast': datetime.date(2014, 1, 24), 'h1': 0.034458615, 'h2': 0.03880935, 'h3': 0.028061917, 'h4': 0.026261829}\n",
      "3/3 [==============================] - 1s 14ms/step\n"
     ]
    },
    {
     "name": "stderr",
     "output_type": "stream",
     "text": [
      " 77%|███████▋  | 321/418 [34:23<09:13,  5.70s/it]"
     ]
    },
    {
     "name": "stdout",
     "output_type": "stream",
     "text": [
      "{'Date_Forecast': datetime.date(2014, 1, 31), 'h1': 0.0356149, 'h2': 0.021685924, 'h3': 0.05476898, 'h4': 0.028627014}\n",
      "3/3 [==============================] - 0s 4ms/step\n"
     ]
    },
    {
     "name": "stderr",
     "output_type": "stream",
     "text": [
      " 77%|███████▋  | 322/418 [34:28<08:59,  5.62s/it]"
     ]
    },
    {
     "name": "stdout",
     "output_type": "stream",
     "text": [
      "{'Date_Forecast': datetime.date(2014, 2, 7), 'h1': 0.034326233, 'h2': 0.02093863, 'h3': 0.018624783, 'h4': 0.030131606}\n",
      "3/3 [==============================] - 1s 4ms/step\n"
     ]
    },
    {
     "name": "stderr",
     "output_type": "stream",
     "text": [
      " 77%|███████▋  | 323/418 [34:34<08:47,  5.56s/it]"
     ]
    },
    {
     "name": "stdout",
     "output_type": "stream",
     "text": [
      "{'Date_Forecast': datetime.date(2014, 2, 14), 'h1': 0.040297855, 'h2': 0.033711642, 'h3': 0.02950306, 'h4': 0.042172734}\n",
      "3/3 [==============================] - 1s 4ms/step\n"
     ]
    },
    {
     "name": "stderr",
     "output_type": "stream",
     "text": [
      " 78%|███████▊  | 324/418 [34:41<09:39,  6.17s/it]"
     ]
    },
    {
     "name": "stdout",
     "output_type": "stream",
     "text": [
      "{'Date_Forecast': datetime.date(2014, 2, 21), 'h1': 0.019520247, 'h2': 0.030594492, 'h3': 0.04736015, 'h4': 0.04464715}\n",
      "3/3 [==============================] - 1s 8ms/step\n"
     ]
    },
    {
     "name": "stderr",
     "output_type": "stream",
     "text": [
      " 78%|███████▊  | 325/418 [34:46<09:05,  5.87s/it]"
     ]
    },
    {
     "name": "stdout",
     "output_type": "stream",
     "text": [
      "{'Date_Forecast': datetime.date(2014, 2, 28), 'h1': 0.029285196, 'h2': 0.041669276, 'h3': 0.022258746, 'h4': 0.03300789}\n",
      "3/3 [==============================] - 1s 3ms/step\n"
     ]
    },
    {
     "name": "stderr",
     "output_type": "stream",
     "text": [
      " 78%|███████▊  | 326/418 [34:52<09:02,  5.90s/it]"
     ]
    },
    {
     "name": "stdout",
     "output_type": "stream",
     "text": [
      "{'Date_Forecast': datetime.date(2014, 3, 7), 'h1': 0.029604472, 'h2': 0.0155698955, 'h3': 0.021880105, 'h4': 0.014375045}\n",
      "3/3 [==============================] - 1s 3ms/step\n"
     ]
    },
    {
     "name": "stderr",
     "output_type": "stream",
     "text": [
      " 78%|███████▊  | 327/418 [34:59<09:27,  6.23s/it]"
     ]
    },
    {
     "name": "stdout",
     "output_type": "stream",
     "text": [
      "{'Date_Forecast': datetime.date(2014, 3, 14), 'h1': 0.028120233, 'h2': 0.02396634, 'h3': 0.023376778, 'h4': 0.038763203}\n",
      "3/3 [==============================] - 0s 2ms/step\n"
     ]
    },
    {
     "name": "stderr",
     "output_type": "stream",
     "text": [
      " 78%|███████▊  | 328/418 [35:06<09:37,  6.42s/it]"
     ]
    },
    {
     "name": "stdout",
     "output_type": "stream",
     "text": [
      "{'Date_Forecast': datetime.date(2014, 3, 21), 'h1': 0.03385161, 'h2': 0.03953234, 'h3': 0.041961413, 'h4': 0.05886014}\n",
      "3/3 [==============================] - 1s 3ms/step\n"
     ]
    },
    {
     "name": "stderr",
     "output_type": "stream",
     "text": [
      " 79%|███████▊  | 329/418 [35:14<09:56,  6.70s/it]"
     ]
    },
    {
     "name": "stdout",
     "output_type": "stream",
     "text": [
      "{'Date_Forecast': datetime.date(2014, 3, 28), 'h1': 0.022201732, 'h2': 0.018953731, 'h3': 0.02844008, 'h4': 0.016181218}\n",
      "3/3 [==============================] - 2s 12ms/step\n"
     ]
    },
    {
     "name": "stderr",
     "output_type": "stream",
     "text": [
      " 79%|███████▉  | 330/418 [35:26<12:16,  8.37s/it]"
     ]
    },
    {
     "name": "stdout",
     "output_type": "stream",
     "text": [
      "{'Date_Forecast': datetime.date(2014, 4, 4), 'h1': 0.055835184, 'h2': 0.0355421, 'h3': 0.03132315, 'h4': 0.04278955}\n",
      "3/3 [==============================] - 1s 7ms/step\n"
     ]
    },
    {
     "name": "stderr",
     "output_type": "stream",
     "text": [
      " 79%|███████▉  | 331/418 [35:33<11:21,  7.83s/it]"
     ]
    },
    {
     "name": "stdout",
     "output_type": "stream",
     "text": [
      "{'Date_Forecast': datetime.date(2014, 4, 11), 'h1': 0.04255356, 'h2': 0.033284, 'h3': 0.036694597, 'h4': 0.037634887}\n",
      "3/3 [==============================] - 1s 3ms/step\n"
     ]
    },
    {
     "name": "stderr",
     "output_type": "stream",
     "text": [
      " 79%|███████▉  | 332/418 [35:42<11:44,  8.19s/it]"
     ]
    },
    {
     "name": "stdout",
     "output_type": "stream",
     "text": [
      "{'Date_Forecast': datetime.date(2014, 4, 18), 'h1': 0.028319087, 'h2': 0.032555737, 'h3': 0.029364524, 'h4': 0.01795384}\n",
      "3/3 [==============================] - 1s 3ms/step\n"
     ]
    },
    {
     "name": "stderr",
     "output_type": "stream",
     "text": [
      " 80%|███████▉  | 333/418 [35:48<10:44,  7.59s/it]"
     ]
    },
    {
     "name": "stdout",
     "output_type": "stream",
     "text": [
      "{'Date_Forecast': datetime.date(2014, 4, 25), 'h1': 0.043102223, 'h2': 0.0414811, 'h3': 0.02530487, 'h4': 0.019415239}\n",
      "3/3 [==============================] - 1s 3ms/step\n"
     ]
    },
    {
     "name": "stderr",
     "output_type": "stream",
     "text": [
      " 80%|███████▉  | 334/418 [35:54<10:03,  7.18s/it]"
     ]
    },
    {
     "name": "stdout",
     "output_type": "stream",
     "text": [
      "{'Date_Forecast': datetime.date(2014, 5, 2), 'h1': 0.05520875, 'h2': 0.053644564, 'h3': 0.035108548, 'h4': 0.03618981}\n"
     ]
    },
    {
     "name": "stderr",
     "output_type": "stream",
     "text": [
      "/opt/homebrew/Caskroom/miniforge/base/envs/thesis_2/lib/python3.10/site-packages/tensorflow/python/framework/constant_op.py:98: RuntimeWarning: overflow encountered in cast\n",
      "  return ops.EagerTensor(value, ctx.device_name, dtype)\n"
     ]
    },
    {
     "name": "stdout",
     "output_type": "stream",
     "text": [
      "3/3 [==============================] - 1s 5ms/step\n"
     ]
    },
    {
     "name": "stderr",
     "output_type": "stream",
     "text": [
      " 80%|████████  | 335/418 [36:01<09:41,  7.01s/it]"
     ]
    },
    {
     "name": "stdout",
     "output_type": "stream",
     "text": [
      "{'Date_Forecast': datetime.date(2014, 5, 9), 'h1': 0.036845453, 'h2': 0.020569824, 'h3': 0.029452382, 'h4': 0.034855798}\n"
     ]
    },
    {
     "name": "stderr",
     "output_type": "stream",
     "text": [
      "/opt/homebrew/Caskroom/miniforge/base/envs/thesis_2/lib/python3.10/site-packages/arch/univariate/base.py:766: ConvergenceWarning: The optimizer returned code 9. The message is:\n",
      "Iteration limit reached\n",
      "See scipy.optimize.fmin_slsqp for code meaning.\n",
      "\n",
      "  warnings.warn(\n"
     ]
    },
    {
     "name": "stdout",
     "output_type": "stream",
     "text": [
      "3/3 [==============================] - 1s 7ms/step\n"
     ]
    },
    {
     "name": "stderr",
     "output_type": "stream",
     "text": [
      " 80%|████████  | 336/418 [36:10<10:40,  7.81s/it]"
     ]
    },
    {
     "name": "stdout",
     "output_type": "stream",
     "text": [
      "{'Date_Forecast': datetime.date(2014, 5, 16), 'h1': 0.026701206, 'h2': 0.029331136, 'h3': 0.04269716, 'h4': 0.02336862}\n",
      "3/3 [==============================] - 0s 3ms/step\n"
     ]
    },
    {
     "name": "stderr",
     "output_type": "stream",
     "text": [
      " 81%|████████  | 337/418 [36:16<09:31,  7.06s/it]"
     ]
    },
    {
     "name": "stdout",
     "output_type": "stream",
     "text": [
      "{'Date_Forecast': datetime.date(2014, 5, 23), 'h1': 0.038058322, 'h2': 0.029501593, 'h3': 0.037384175, 'h4': 0.031706247}\n",
      "3/3 [==============================] - 0s 2ms/step\n"
     ]
    },
    {
     "name": "stderr",
     "output_type": "stream",
     "text": [
      " 81%|████████  | 338/418 [36:21<08:39,  6.49s/it]"
     ]
    },
    {
     "name": "stdout",
     "output_type": "stream",
     "text": [
      "{'Date_Forecast': datetime.date(2014, 5, 30), 'h1': 0.029580353, 'h2': 0.032240756, 'h3': 0.04453069, 'h4': 0.030167531}\n"
     ]
    },
    {
     "name": "stderr",
     "output_type": "stream",
     "text": [
      "/opt/homebrew/Caskroom/miniforge/base/envs/thesis_2/lib/python3.10/site-packages/arch/univariate/base.py:766: ConvergenceWarning: The optimizer returned code 9. The message is:\n",
      "Iteration limit reached\n",
      "See scipy.optimize.fmin_slsqp for code meaning.\n",
      "\n",
      "  warnings.warn(\n"
     ]
    },
    {
     "name": "stdout",
     "output_type": "stream",
     "text": [
      "3/3 [==============================] - 1s 3ms/step\n"
     ]
    },
    {
     "name": "stderr",
     "output_type": "stream",
     "text": [
      " 81%|████████  | 339/418 [36:26<07:59,  6.07s/it]"
     ]
    },
    {
     "name": "stdout",
     "output_type": "stream",
     "text": [
      "{'Date_Forecast': datetime.date(2014, 6, 6), 'h1': 0.024085093, 'h2': 0.020343276, 'h3': 0.02270473, 'h4': 0.0301433}\n",
      "3/3 [==============================] - 0s 2ms/step\n"
     ]
    },
    {
     "name": "stderr",
     "output_type": "stream",
     "text": [
      " 81%|████████▏ | 340/418 [36:32<07:58,  6.14s/it]"
     ]
    },
    {
     "name": "stdout",
     "output_type": "stream",
     "text": [
      "{'Date_Forecast': datetime.date(2014, 6, 13), 'h1': 0.017373288, 'h2': 0.022494443, 'h3': 0.019588254, 'h4': 0.020759266}\n",
      "3/3 [==============================] - 1s 3ms/step\n"
     ]
    },
    {
     "name": "stderr",
     "output_type": "stream",
     "text": [
      " 82%|████████▏ | 341/418 [36:37<07:31,  5.86s/it]"
     ]
    },
    {
     "name": "stdout",
     "output_type": "stream",
     "text": [
      "{'Date_Forecast': datetime.date(2014, 6, 20), 'h1': 0.023373585, 'h2': 0.035335504, 'h3': 0.033920605, 'h4': 0.031088598}\n"
     ]
    },
    {
     "name": "stderr",
     "output_type": "stream",
     "text": [
      "/opt/homebrew/Caskroom/miniforge/base/envs/thesis_2/lib/python3.10/site-packages/arch/univariate/volatility.py:2774: RuntimeWarning: overflow encountered in exp\n",
      "  paths[loc, :, :] = np.exp(_lnsigma2[:, m:])\n",
      " 82%|████████▏ | 341/418 [36:42<08:17,  6.46s/it]\n"
     ]
    },
    {
     "ename": "IndexError",
     "evalue": "list index out of range",
     "output_type": "error",
     "traceback": [
      "\u001b[0;31m---------------------------------------------------------------------------\u001b[0m",
      "\u001b[0;31mIndexError\u001b[0m                                Traceback (most recent call last)",
      "Cell \u001b[0;32mIn[50], line 19\u001b[0m\n\u001b[1;32m     17\u001b[0m Data \u001b[39m=\u001b[39m DatabaseGeneration(Database, Lag, LagSD)\n\u001b[1;32m     18\u001b[0m \u001b[39m#Fitting of Transformed ANN-ARCH model, ARCH models and forecasting of the next volatility value\u001b[39;00m\n\u001b[0;32m---> 19\u001b[0m T_ANN_ARCH_Model \u001b[39m=\u001b[39m T_ANN_ARCH_Fit (Data,Database, Lag, LagSD, Timestep, Dropout, LearningRate, Epochs)\n\u001b[1;32m     22\u001b[0m IterResults\u001b[39m=\u001b[39m{\u001b[39m'\u001b[39m\u001b[39mDate_Forecast\u001b[39m\u001b[39m'\u001b[39m: T_ANN_ARCH_Model[\u001b[39m'\u001b[39m\u001b[39mDate_Forecast\u001b[39m\u001b[39m'\u001b[39m]\u001b[39m.\u001b[39mdate(), \u001b[39m'\u001b[39m\u001b[39mh1\u001b[39m\u001b[39m'\u001b[39m: T_ANN_ARCH_Model[\u001b[39m'\u001b[39m\u001b[39mForecast_T_ANN_ARCH\u001b[39m\u001b[39m'\u001b[39m][\u001b[39m0\u001b[39m], \u001b[39m'\u001b[39m\u001b[39mh2\u001b[39m\u001b[39m'\u001b[39m: T_ANN_ARCH_Model[\u001b[39m'\u001b[39m\u001b[39mForecast_T_ANN_ARCH\u001b[39m\u001b[39m'\u001b[39m][\u001b[39m1\u001b[39m],\n\u001b[1;32m     23\u001b[0m              \u001b[39m'\u001b[39m\u001b[39mh3\u001b[39m\u001b[39m'\u001b[39m: T_ANN_ARCH_Model[\u001b[39m'\u001b[39m\u001b[39mForecast_T_ANN_ARCH\u001b[39m\u001b[39m'\u001b[39m][\u001b[39m2\u001b[39m], \u001b[39m'\u001b[39m\u001b[39mh4\u001b[39m\u001b[39m'\u001b[39m: T_ANN_ARCH_Model[\u001b[39m'\u001b[39m\u001b[39mForecast_T_ANN_ARCH\u001b[39m\u001b[39m'\u001b[39m][\u001b[39m3\u001b[39m]}\n\u001b[1;32m     25\u001b[0m IterResults_df \u001b[39m=\u001b[39m pd\u001b[39m.\u001b[39mDataFrame(IterResults,index \u001b[39m=\u001b[39m[\u001b[39m0\u001b[39m])\n",
      "Cell \u001b[0;32mIn[6], line 21\u001b[0m, in \u001b[0;36mT_ANN_ARCH_Fit\u001b[0;34m(Data, Database, Lag, LagSD, Timestep, Dropout, LearningRate, Epochs, BatchSize)\u001b[0m\n\u001b[1;32m     19\u001b[0m model \u001b[39m=\u001b[39m Transformer_Model(XData_AR_Norm_T\u001b[39m.\u001b[39mshape[\u001b[39m1\u001b[39m], XData_AR_Norm_T\u001b[39m.\u001b[39mshape[\u001b[39m2\u001b[39m], HeadsAttention\u001b[39m=\u001b[39m\u001b[39m4\u001b[39m, Dropout\u001b[39m=\u001b[39mDropout, LearningRate\u001b[39m=\u001b[39mLearningRate)\n\u001b[1;32m     20\u001b[0m model\u001b[39m.\u001b[39mfit(XData_AR_Norm_T, YData_AR_Norm_T, epochs\u001b[39m=\u001b[39mEpochs, verbose\u001b[39m=\u001b[39m\u001b[39m0\u001b[39m, batch_size\u001b[39m=\u001b[39mBatchSize); tf\u001b[39m.\u001b[39mkeras\u001b[39m.\u001b[39mbackend\u001b[39m.\u001b[39mclear_session()\n\u001b[0;32m---> 21\u001b[0m Forecast, Date_Forecast, TrainPrediction, ReturnForecast \u001b[39m=\u001b[39m T_ANN_ARCH_Forecast (Database,Timestep, Lag, LagSD, For_CV_GARCH, For_CV_GJR_GARCH, For_CV_TARCH, For_CV_EGARCH, For_CV_AVGARCH, For_CV_FIGARCH,Scaled_Norm, XData_AR, model)\n\u001b[1;32m     22\u001b[0m \u001b[39mreturn\u001b[39;00m {\u001b[39m'\u001b[39m\u001b[39mDate_Forecast\u001b[39m\u001b[39m'\u001b[39m:Date_Forecast,\u001b[39m'\u001b[39m\u001b[39mForecast_T_ANN_ARCH\u001b[39m\u001b[39m'\u001b[39m:Forecast}\n",
      "Cell \u001b[0;32mIn[48], line 229\u001b[0m, in \u001b[0;36mT_ANN_ARCH_Forecast\u001b[0;34m(Database, Timestep, Lag, LagSD, For_CV_GARCH, For_CV_GJR_GARCH, For_CV_TARCH, For_CV_EGARCH, For_CV_AVGARCH, For_CV_FIGARCH, Scaled_Norm, XData_AR, model)\u001b[0m\n\u001b[1;32m    228\u001b[0m \u001b[39mdef\u001b[39;00m \u001b[39mT_ANN_ARCH_Forecast\u001b[39m (Database,Timestep, Lag, LagSD, For_CV_GARCH, For_CV_GJR_GARCH, For_CV_TARCH, For_CV_EGARCH, For_CV_AVGARCH, For_CV_FIGARCH,Scaled_Norm, XData_AR, model):\n\u001b[0;32m--> 229\u001b[0m     XDataForecast, ReturnForecast \u001b[39m=\u001b[39m DatabaseGenerationForecast_AR (Database, Lag, LagSD, For_CV_GARCH, For_CV_GJR_GARCH, For_CV_TARCH, For_CV_EGARCH, For_CV_AVGARCH, For_CV_FIGARCH)\n\u001b[1;32m    230\u001b[0m     XDataForecast \u001b[39m=\u001b[39m pd\u001b[39m.\u001b[39mconcat([XData_AR,XDataForecast])\n\u001b[1;32m    231\u001b[0m     XDataForecastTotalScaled \u001b[39m=\u001b[39m Scaled_Norm\u001b[39m.\u001b[39mtransform(XDataForecast)\n",
      "Cell \u001b[0;32mIn[48], line 223\u001b[0m, in \u001b[0;36mDatabaseGenerationForecast_AR\u001b[0;34m(Database, Lag, LagSD, For_CV_GARCH, For_CV_GJR_GARCH, For_CV_TARCH, For_CV_EGARCH, For_CV_AVGARCH, For_CV_FIGARCH)\u001b[0m\n\u001b[1;32m    219\u001b[0m For_CV_FIGARCH \u001b[39m=\u001b[39m [item \u001b[39mfor\u001b[39;00m sublist \u001b[39min\u001b[39;00m For_CV_FIGARCH \u001b[39mfor\u001b[39;00m item \u001b[39min\u001b[39;00m sublist]\n\u001b[1;32m    220\u001b[0m \u001b[39mfor\u001b[39;00m i \u001b[39min\u001b[39;00m \u001b[39mrange\u001b[39m(\u001b[39mlen\u001b[39m(For_CV_AVGARCH)):\n\u001b[1;32m    221\u001b[0m     forecast\u001b[39m=\u001b[39m{\u001b[39m'\u001b[39m\u001b[39mSD\u001b[39m\u001b[39m'\u001b[39m: Data_Forecast[\u001b[39m'\u001b[39m\u001b[39mSD\u001b[39m\u001b[39m'\u001b[39m], \u001b[39m'\u001b[39m\u001b[39mDailyReturnsOld\u001b[39m\u001b[39m'\u001b[39m: Data_Forecast[\u001b[39m'\u001b[39m\u001b[39mDailyReturnsOld\u001b[39m\u001b[39m'\u001b[39m], \n\u001b[1;32m    222\u001b[0m            \u001b[39m'\u001b[39m\u001b[39mCV_GARCH\u001b[39m\u001b[39m'\u001b[39m : For_CV_GARCH[i]\u001b[39m/\u001b[39m\u001b[39m100\u001b[39m, \u001b[39m'\u001b[39m\u001b[39mCV_GJR_GARCH\u001b[39m\u001b[39m'\u001b[39m : For_CV_GJR_GARCH[i]\u001b[39m/\u001b[39m\u001b[39m100\u001b[39m, \u001b[39m'\u001b[39m\u001b[39mCV_TARCH\u001b[39m\u001b[39m'\u001b[39m : For_CV_TARCH[i]\u001b[39m/\u001b[39m\u001b[39m100\u001b[39m, \n\u001b[0;32m--> 223\u001b[0m            \u001b[39m'\u001b[39m\u001b[39mCV_EGARCH\u001b[39m\u001b[39m'\u001b[39m : For_CV_EGARCH[i]\u001b[39m/\u001b[39m\u001b[39m100\u001b[39m, \u001b[39m'\u001b[39m\u001b[39mCV_AVGARCH\u001b[39m\u001b[39m'\u001b[39m : For_CV_AVGARCH[i]\u001b[39m/\u001b[39m\u001b[39m100\u001b[39m, \u001b[39m'\u001b[39m\u001b[39mCV_FIGARCH\u001b[39m\u001b[39m'\u001b[39m : For_CV_FIGARCH[i]\u001b[39m/\u001b[39m\u001b[39m100\u001b[39m}\n\u001b[1;32m    224\u001b[0m     XDataForecast\u001b[39m.\u001b[39mappend(pd\u001b[39m.\u001b[39mDataFrame([forecast], index\u001b[39m=\u001b[39m[Index_Forecast]))\n\u001b[1;32m    225\u001b[0m XDataForecast \u001b[39m=\u001b[39m pd\u001b[39m.\u001b[39mconcat(XDataForecast)\n",
      "\u001b[0;31mIndexError\u001b[0m: list index out of range"
     ]
    }
   ],
   "source": [
    "#Index of end dates, database for validation and dataframe to collect the results are created. Model variables are defined.\n",
    "Start='2008-01-01'; End='2015-12-31'; \n",
    "asset = \"^GSPC\"\n",
    "# asset_name = re.sub('[\\W\\d_]+', '', asset)\n",
    "IndexEndDays=yf.download(asset,start=Start,  end=End, progress=False).resample('W-FRI').last().index\n",
    "\n",
    "Lag=1; LagSD=5; Timestep=10; Dropout=0; LearningRate=0.01; Epochs=100\n",
    "\n",
    "DataValidation = DatabaseGeneration(yf.download(asset,start='2000-01-01', end=date.today()+timedelta(days=1), progress=False).resample('W-FRI').last(), Lag, LagSD)\n",
    "\n",
    "ResultsCollection=pd.DataFrame({'Date_Forecast': [], 'h1': [], 'h2': [], 'h3':[], 'h4': []})\n",
    "#Loop for generating the results\n",
    "for i in tqdm(range(IndexEndDays.shape[0])):\n",
    "    #Database is downloaded from yahoo finance and lag of returns defined\n",
    "    Database=yf.download(asset,start=IndexEndDays[i].date()-timedelta(days=780), end=IndexEndDays[i].date(), progress=False).resample('W-FRI').last()\n",
    "    #Database for fitting the models is generated\n",
    "    Data = DatabaseGeneration(Database, Lag, LagSD)\n",
    "    #Fitting of Transformed ANN-ARCH model, ARCH models and forecasting of the next volatility value\n",
    "    T_ANN_ARCH_Model = T_ANN_ARCH_Fit (Data,Database, Lag, LagSD, Timestep, Dropout, LearningRate, Epochs)\n",
    "\n",
    "    \n",
    "    IterResults={'Date_Forecast': T_ANN_ARCH_Model['Date_Forecast'].date(), 'h1': T_ANN_ARCH_Model['Forecast_T_ANN_ARCH'][0], 'h2': T_ANN_ARCH_Model['Forecast_T_ANN_ARCH'][1],\n",
    "                 'h3': T_ANN_ARCH_Model['Forecast_T_ANN_ARCH'][2], 'h4': T_ANN_ARCH_Model['Forecast_T_ANN_ARCH'][3]}\n",
    "    \n",
    "    IterResults_df = pd.DataFrame(IterResults,index =[0])\n",
    "    ResultsCollection = ResultsCollection.append(IterResults_df, ignore_index=True)\n",
    "\n",
    "\n",
    "    # ResultsCollection.to_csv(f'./assets/5_MTL_GARCH_{asset_name}.csv',index=False)\n",
    "    ResultsCollection.to_csv(f'./test.csv',index=False)\n",
    "    print(IterResults)\n",
    "    \n"
   ]
  },
  {
   "cell_type": "code",
   "execution_count": null,
   "metadata": {},
   "outputs": [],
   "source": [
    "#STD Calculation\n",
    "LagSD=5\n",
    "def TrueSDCalculation (DailyReturns, LagSD):\n",
    "    dimension=DailyReturns.shape[0]; dif=LagSD; Out=np.zeros([dimension-dif+1])\n",
    "    for i in range (dimension-dif+1):\n",
    "        Out[i]=np.std(DailyReturns[i:i+LagSD],ddof=1)\n",
    "    return np.append(Out,np.repeat(np.nan, dif-1))"
   ]
  },
  {
   "cell_type": "code",
   "execution_count": 62,
   "metadata": {},
   "outputs": [
    {
     "name": "stderr",
     "output_type": "stream",
     "text": [
      " 30%|██▉       | 125/418 [00:56<02:11,  2.22it/s]\n"
     ]
    },
    {
     "ename": "KeyboardInterrupt",
     "evalue": "",
     "output_type": "error",
     "traceback": [
      "\u001b[0;31m---------------------------------------------------------------------------\u001b[0m",
      "\u001b[0;31mKeyboardInterrupt\u001b[0m                         Traceback (most recent call last)",
      "Cell \u001b[0;32mIn[62], line 6\u001b[0m\n\u001b[1;32m      4\u001b[0m \u001b[39m#Loop for generating the results\u001b[39;00m\n\u001b[1;32m      5\u001b[0m \u001b[39mfor\u001b[39;00m i \u001b[39min\u001b[39;00m tqdm(\u001b[39mrange\u001b[39m(IndexEndDays\u001b[39m.\u001b[39mshape[\u001b[39m0\u001b[39m])):\n\u001b[0;32m----> 6\u001b[0m     Database\u001b[39m=\u001b[39myf\u001b[39m.\u001b[39;49mdownload(asset,start\u001b[39m=\u001b[39;49mIndexEndDays[i]\u001b[39m.\u001b[39;49mdate()\u001b[39m-\u001b[39;49mtimedelta(days\u001b[39m=\u001b[39;49m\u001b[39m780\u001b[39;49m), end\u001b[39m=\u001b[39;49mIndexEndDays[i]\u001b[39m.\u001b[39;49mdate(), progress\u001b[39m=\u001b[39;49m\u001b[39mFalse\u001b[39;49;00m)\u001b[39m.\u001b[39;49mresample(\u001b[39m'\u001b[39;49m\u001b[39mW-FRI\u001b[39;49m\u001b[39m'\u001b[39;49m)\u001b[39m.\u001b[39;49mlast()\n\u001b[1;32m      7\u001b[0m     DailyReturns, Index \u001b[39m=\u001b[39m ReturnCalculation(Database,Lag)\n\u001b[1;32m      8\u001b[0m     \u001b[39m#Database for fitting the models is generated\u001b[39;00m\n",
      "File \u001b[0;32m/opt/homebrew/Caskroom/miniforge/base/envs/thesis_2/lib/python3.10/site-packages/pandas/core/resample.py:937\u001b[0m, in \u001b[0;36mg\u001b[0;34m(self, _method, *args, **kwargs)\u001b[0m\n\u001b[1;32m    935\u001b[0m \u001b[39mdef\u001b[39;00m \u001b[39mg\u001b[39m(\u001b[39mself\u001b[39m, _method\u001b[39m=\u001b[39mmethod, \u001b[39m*\u001b[39margs, \u001b[39m*\u001b[39m\u001b[39m*\u001b[39mkwargs):\n\u001b[1;32m    936\u001b[0m     nv\u001b[39m.\u001b[39mvalidate_resampler_func(_method, args, kwargs)\n\u001b[0;32m--> 937\u001b[0m     \u001b[39mreturn\u001b[39;00m \u001b[39mself\u001b[39;49m\u001b[39m.\u001b[39;49m_downsample(_method)\n",
      "File \u001b[0;32m/opt/homebrew/Caskroom/miniforge/base/envs/thesis_2/lib/python3.10/site-packages/pandas/core/resample.py:1021\u001b[0m, in \u001b[0;36mDatetimeIndexResampler._downsample\u001b[0;34m(self, how, **kwargs)\u001b[0m\n\u001b[1;32m   1012\u001b[0m \u001b[39mdef\u001b[39;00m \u001b[39m_downsample\u001b[39m(\u001b[39mself\u001b[39m, how, \u001b[39m*\u001b[39m\u001b[39m*\u001b[39mkwargs):\n\u001b[1;32m   1013\u001b[0m \u001b[39m    \u001b[39m\u001b[39m\"\"\"\u001b[39;00m\n\u001b[1;32m   1014\u001b[0m \u001b[39m    Downsample the cython defined function.\u001b[39;00m\n\u001b[1;32m   1015\u001b[0m \n\u001b[0;32m   (...)\u001b[0m\n\u001b[1;32m   1019\u001b[0m \u001b[39m    **kwargs : kw args passed to how function\u001b[39;00m\n\u001b[1;32m   1020\u001b[0m \u001b[39m    \"\"\"\u001b[39;00m\n\u001b[0;32m-> 1021\u001b[0m     \u001b[39mself\u001b[39;49m\u001b[39m.\u001b[39;49m_set_binner()\n\u001b[1;32m   1022\u001b[0m     how \u001b[39m=\u001b[39m \u001b[39mself\u001b[39m\u001b[39m.\u001b[39m_get_cython_func(how) \u001b[39mor\u001b[39;00m how\n\u001b[1;32m   1023\u001b[0m     ax \u001b[39m=\u001b[39m \u001b[39mself\u001b[39m\u001b[39m.\u001b[39max\n",
      "File \u001b[0;32m/opt/homebrew/Caskroom/miniforge/base/envs/thesis_2/lib/python3.10/site-packages/pandas/core/resample.py:186\u001b[0m, in \u001b[0;36mResampler._set_binner\u001b[0;34m(self)\u001b[0m\n\u001b[1;32m    180\u001b[0m \u001b[39m\u001b[39m\u001b[39m\"\"\"\u001b[39;00m\n\u001b[1;32m    181\u001b[0m \u001b[39mSetup our binners.\u001b[39;00m\n\u001b[1;32m    182\u001b[0m \n\u001b[1;32m    183\u001b[0m \u001b[39mCache these as we are an immutable object\u001b[39;00m\n\u001b[1;32m    184\u001b[0m \u001b[39m\"\"\"\u001b[39;00m\n\u001b[1;32m    185\u001b[0m \u001b[39mif\u001b[39;00m \u001b[39mself\u001b[39m\u001b[39m.\u001b[39mbinner \u001b[39mis\u001b[39;00m \u001b[39mNone\u001b[39;00m:\n\u001b[0;32m--> 186\u001b[0m     \u001b[39mself\u001b[39m\u001b[39m.\u001b[39mbinner, \u001b[39mself\u001b[39m\u001b[39m.\u001b[39mgrouper \u001b[39m=\u001b[39m \u001b[39mself\u001b[39;49m\u001b[39m.\u001b[39;49m_get_binner()\n",
      "File \u001b[0;32m/opt/homebrew/Caskroom/miniforge/base/envs/thesis_2/lib/python3.10/site-packages/pandas/core/resample.py:193\u001b[0m, in \u001b[0;36mResampler._get_binner\u001b[0;34m(self)\u001b[0m\n\u001b[1;32m    188\u001b[0m \u001b[39mdef\u001b[39;00m \u001b[39m_get_binner\u001b[39m(\u001b[39mself\u001b[39m):\n\u001b[1;32m    189\u001b[0m \u001b[39m    \u001b[39m\u001b[39m\"\"\"\u001b[39;00m\n\u001b[1;32m    190\u001b[0m \u001b[39m    Create the BinGrouper, assume that self.set_grouper(obj)\u001b[39;00m\n\u001b[1;32m    191\u001b[0m \u001b[39m    has already been called.\u001b[39;00m\n\u001b[1;32m    192\u001b[0m \u001b[39m    \"\"\"\u001b[39;00m\n\u001b[0;32m--> 193\u001b[0m     binner, bins, binlabels \u001b[39m=\u001b[39m \u001b[39mself\u001b[39;49m\u001b[39m.\u001b[39;49m_get_binner_for_time()\n\u001b[1;32m    194\u001b[0m     \u001b[39massert\u001b[39;00m \u001b[39mlen\u001b[39m(bins) \u001b[39m==\u001b[39m \u001b[39mlen\u001b[39m(binlabels)\n\u001b[1;32m    195\u001b[0m     bin_grouper \u001b[39m=\u001b[39m BinGrouper(bins, binlabels, indexer\u001b[39m=\u001b[39m\u001b[39mself\u001b[39m\u001b[39m.\u001b[39mgroupby\u001b[39m.\u001b[39mindexer)\n",
      "File \u001b[0;32m/opt/homebrew/Caskroom/miniforge/base/envs/thesis_2/lib/python3.10/site-packages/pandas/core/resample.py:1010\u001b[0m, in \u001b[0;36mDatetimeIndexResampler._get_binner_for_time\u001b[0;34m(self)\u001b[0m\n\u001b[1;32m   1008\u001b[0m \u001b[39mif\u001b[39;00m \u001b[39mself\u001b[39m\u001b[39m.\u001b[39mkind \u001b[39m==\u001b[39m \u001b[39m\"\u001b[39m\u001b[39mperiod\u001b[39m\u001b[39m\"\u001b[39m:\n\u001b[1;32m   1009\u001b[0m     \u001b[39mreturn\u001b[39;00m \u001b[39mself\u001b[39m\u001b[39m.\u001b[39mgroupby\u001b[39m.\u001b[39m_get_time_period_bins(\u001b[39mself\u001b[39m\u001b[39m.\u001b[39max)\n\u001b[0;32m-> 1010\u001b[0m \u001b[39mreturn\u001b[39;00m \u001b[39mself\u001b[39;49m\u001b[39m.\u001b[39;49mgroupby\u001b[39m.\u001b[39;49m_get_time_bins(\u001b[39mself\u001b[39;49m\u001b[39m.\u001b[39;49max)\n",
      "File \u001b[0;32m/opt/homebrew/Caskroom/miniforge/base/envs/thesis_2/lib/python3.10/site-packages/pandas/core/resample.py:1473\u001b[0m, in \u001b[0;36mTimeGrouper._get_time_bins\u001b[0;34m(self, ax)\u001b[0m\n\u001b[1;32m   1458\u001b[0m first, last \u001b[39m=\u001b[39m _get_timestamp_range_edges(\n\u001b[1;32m   1459\u001b[0m     ax\u001b[39m.\u001b[39mmin(),\n\u001b[1;32m   1460\u001b[0m     ax\u001b[39m.\u001b[39mmax(),\n\u001b[0;32m   (...)\u001b[0m\n\u001b[1;32m   1464\u001b[0m     offset\u001b[39m=\u001b[39m\u001b[39mself\u001b[39m\u001b[39m.\u001b[39moffset,\n\u001b[1;32m   1465\u001b[0m )\n\u001b[1;32m   1466\u001b[0m \u001b[39m# GH #12037\u001b[39;00m\n\u001b[1;32m   1467\u001b[0m \u001b[39m# use first/last directly instead of call replace() on them\u001b[39;00m\n\u001b[1;32m   1468\u001b[0m \u001b[39m# because replace() will swallow the nanosecond part\u001b[39;00m\n\u001b[0;32m   (...)\u001b[0m\n\u001b[1;32m   1471\u001b[0m \u001b[39m# GH 25758: If DST lands at midnight (e.g. 'America/Havana'), user feedback\u001b[39;00m\n\u001b[1;32m   1472\u001b[0m \u001b[39m# has noted that ambiguous=True provides the most sensible result\u001b[39;00m\n\u001b[0;32m-> 1473\u001b[0m binner \u001b[39m=\u001b[39m labels \u001b[39m=\u001b[39m date_range(\n\u001b[1;32m   1474\u001b[0m     freq\u001b[39m=\u001b[39;49m\u001b[39mself\u001b[39;49m\u001b[39m.\u001b[39;49mfreq,\n\u001b[1;32m   1475\u001b[0m     start\u001b[39m=\u001b[39;49mfirst,\n\u001b[1;32m   1476\u001b[0m     end\u001b[39m=\u001b[39;49mlast,\n\u001b[1;32m   1477\u001b[0m     tz\u001b[39m=\u001b[39;49max\u001b[39m.\u001b[39;49mtz,\n\u001b[1;32m   1478\u001b[0m     name\u001b[39m=\u001b[39;49max\u001b[39m.\u001b[39;49mname,\n\u001b[1;32m   1479\u001b[0m     ambiguous\u001b[39m=\u001b[39;49m\u001b[39mTrue\u001b[39;49;00m,\n\u001b[1;32m   1480\u001b[0m     nonexistent\u001b[39m=\u001b[39;49m\u001b[39m\"\u001b[39;49m\u001b[39mshift_forward\u001b[39;49m\u001b[39m\"\u001b[39;49m,\n\u001b[1;32m   1481\u001b[0m )\n\u001b[1;32m   1483\u001b[0m ax_values \u001b[39m=\u001b[39m ax\u001b[39m.\u001b[39masi8\n\u001b[1;32m   1484\u001b[0m binner, bin_edges \u001b[39m=\u001b[39m \u001b[39mself\u001b[39m\u001b[39m.\u001b[39m_adjust_bin_edges(binner, ax_values)\n",
      "File \u001b[0;32m/opt/homebrew/Caskroom/miniforge/base/envs/thesis_2/lib/python3.10/site-packages/pandas/core/indexes/datetimes.py:999\u001b[0m, in \u001b[0;36mdate_range\u001b[0;34m(start, end, periods, freq, tz, normalize, name, closed, **kwargs)\u001b[0m\n\u001b[1;32m    996\u001b[0m \u001b[39mif\u001b[39;00m freq \u001b[39mis\u001b[39;00m \u001b[39mNone\u001b[39;00m \u001b[39mand\u001b[39;00m com\u001b[39m.\u001b[39many_none(periods, start, end):\n\u001b[1;32m    997\u001b[0m     freq \u001b[39m=\u001b[39m \u001b[39m\"\u001b[39m\u001b[39mD\u001b[39m\u001b[39m\"\u001b[39m\n\u001b[0;32m--> 999\u001b[0m dtarr \u001b[39m=\u001b[39m DatetimeArray\u001b[39m.\u001b[39;49m_generate_range(\n\u001b[1;32m   1000\u001b[0m     start\u001b[39m=\u001b[39;49mstart,\n\u001b[1;32m   1001\u001b[0m     end\u001b[39m=\u001b[39;49mend,\n\u001b[1;32m   1002\u001b[0m     periods\u001b[39m=\u001b[39;49mperiods,\n\u001b[1;32m   1003\u001b[0m     freq\u001b[39m=\u001b[39;49mfreq,\n\u001b[1;32m   1004\u001b[0m     tz\u001b[39m=\u001b[39;49mtz,\n\u001b[1;32m   1005\u001b[0m     normalize\u001b[39m=\u001b[39;49mnormalize,\n\u001b[1;32m   1006\u001b[0m     closed\u001b[39m=\u001b[39;49mclosed,\n\u001b[1;32m   1007\u001b[0m     \u001b[39m*\u001b[39;49m\u001b[39m*\u001b[39;49mkwargs,\n\u001b[1;32m   1008\u001b[0m )\n\u001b[1;32m   1009\u001b[0m \u001b[39mreturn\u001b[39;00m DatetimeIndex\u001b[39m.\u001b[39m_simple_new(dtarr, name\u001b[39m=\u001b[39mname)\n",
      "File \u001b[0;32m/opt/homebrew/Caskroom/miniforge/base/envs/thesis_2/lib/python3.10/site-packages/pandas/core/arrays/datetimes.py:407\u001b[0m, in \u001b[0;36mDatetimeArray._generate_range\u001b[0;34m(cls, start, end, periods, freq, tz, normalize, ambiguous, nonexistent, closed)\u001b[0m\n\u001b[1;32m    405\u001b[0m \u001b[39melse\u001b[39;00m:\n\u001b[1;32m    406\u001b[0m     xdr \u001b[39m=\u001b[39m generate_range(start\u001b[39m=\u001b[39mstart, end\u001b[39m=\u001b[39mend, periods\u001b[39m=\u001b[39mperiods, offset\u001b[39m=\u001b[39mfreq)\n\u001b[0;32m--> 407\u001b[0m     values \u001b[39m=\u001b[39m np\u001b[39m.\u001b[39marray([x\u001b[39m.\u001b[39mvalue \u001b[39mfor\u001b[39;00m x \u001b[39min\u001b[39;00m xdr], dtype\u001b[39m=\u001b[39mnp\u001b[39m.\u001b[39mint64)\n\u001b[1;32m    409\u001b[0m _tz \u001b[39m=\u001b[39m start\u001b[39m.\u001b[39mtz \u001b[39mif\u001b[39;00m start \u001b[39mis\u001b[39;00m \u001b[39mnot\u001b[39;00m \u001b[39mNone\u001b[39;00m \u001b[39melse\u001b[39;00m end\u001b[39m.\u001b[39mtz\n\u001b[1;32m    410\u001b[0m index \u001b[39m=\u001b[39m \u001b[39mcls\u001b[39m\u001b[39m.\u001b[39m_simple_new(values, freq\u001b[39m=\u001b[39mfreq, dtype\u001b[39m=\u001b[39mtz_to_dtype(_tz))\n",
      "File \u001b[0;32m/opt/homebrew/Caskroom/miniforge/base/envs/thesis_2/lib/python3.10/site-packages/pandas/core/arrays/datetimes.py:407\u001b[0m, in \u001b[0;36m<listcomp>\u001b[0;34m(.0)\u001b[0m\n\u001b[1;32m    405\u001b[0m \u001b[39melse\u001b[39;00m:\n\u001b[1;32m    406\u001b[0m     xdr \u001b[39m=\u001b[39m generate_range(start\u001b[39m=\u001b[39mstart, end\u001b[39m=\u001b[39mend, periods\u001b[39m=\u001b[39mperiods, offset\u001b[39m=\u001b[39mfreq)\n\u001b[0;32m--> 407\u001b[0m     values \u001b[39m=\u001b[39m np\u001b[39m.\u001b[39marray([x\u001b[39m.\u001b[39mvalue \u001b[39mfor\u001b[39;00m x \u001b[39min\u001b[39;00m xdr], dtype\u001b[39m=\u001b[39mnp\u001b[39m.\u001b[39mint64)\n\u001b[1;32m    409\u001b[0m _tz \u001b[39m=\u001b[39m start\u001b[39m.\u001b[39mtz \u001b[39mif\u001b[39;00m start \u001b[39mis\u001b[39;00m \u001b[39mnot\u001b[39;00m \u001b[39mNone\u001b[39;00m \u001b[39melse\u001b[39;00m end\u001b[39m.\u001b[39mtz\n\u001b[1;32m    410\u001b[0m index \u001b[39m=\u001b[39m \u001b[39mcls\u001b[39m\u001b[39m.\u001b[39m_simple_new(values, freq\u001b[39m=\u001b[39mfreq, dtype\u001b[39m=\u001b[39mtz_to_dtype(_tz))\n",
      "File \u001b[0;32m/opt/homebrew/Caskroom/miniforge/base/envs/thesis_2/lib/python3.10/site-packages/pandas/core/arrays/datetimes.py:2428\u001b[0m, in \u001b[0;36mgenerate_range\u001b[0;34m(start, end, periods, offset)\u001b[0m\n\u001b[1;32m   2425\u001b[0m     \u001b[39mbreak\u001b[39;00m\n\u001b[1;32m   2427\u001b[0m \u001b[39m# faster than cur + offset\u001b[39;00m\n\u001b[0;32m-> 2428\u001b[0m next_date \u001b[39m=\u001b[39m offset\u001b[39m.\u001b[39;49mapply(cur)\n\u001b[1;32m   2429\u001b[0m \u001b[39mif\u001b[39;00m next_date \u001b[39m<\u001b[39m\u001b[39m=\u001b[39m cur:\n\u001b[1;32m   2430\u001b[0m     \u001b[39mraise\u001b[39;00m \u001b[39mValueError\u001b[39;00m(\u001b[39mf\u001b[39m\u001b[39m\"\u001b[39m\u001b[39mOffset \u001b[39m\u001b[39m{\u001b[39;00moffset\u001b[39m}\u001b[39;00m\u001b[39m did not increment date\u001b[39m\u001b[39m\"\u001b[39m)\n",
      "File \u001b[0;32mpandas/_libs/tslibs/offsets.pyx:168\u001b[0m, in \u001b[0;36mpandas._libs.tslibs.offsets.apply_wraps.wrapper\u001b[0;34m()\u001b[0m\n",
      "File \u001b[0;32mpandas/_libs/tslibs/offsets.pyx:2448\u001b[0m, in \u001b[0;36mpandas._libs.tslibs.offsets.Week.apply\u001b[0;34m()\u001b[0m\n",
      "\u001b[0;31mKeyboardInterrupt\u001b[0m: "
     ]
    }
   ],
   "source": [
    "IndexEndDays=yf.download(asset,start=Start,  end=End, progress=False).resample('W-FRI').last().index\n",
    "\n",
    "TrueSD_df_result=pd.DataFrame({'Date': [], 'TrueSD': []})\n",
    "#Loop for generating the results\n",
    "for i in tqdm(range(IndexEndDays.shape[0])):\n",
    "    Database=yf.download(asset,start=IndexEndDays[i].date()-timedelta(days=780), end=IndexEndDays[i].date(), progress=False).resample('W-FRI').last()\n",
    "    DailyReturns, Index = ReturnCalculation(Database,Lag)\n",
    "    #Database for fitting the models is generated\n",
    "    TrueSD  = TrueSDCalculation(DailyReturns,LagSD)\n",
    "    Data = pd.DataFrame({'Date': i, 'TrueSD': TrueSD})\n",
    "    TrueSD_df = pd.DataFrame(IterResults,index =[0])\n",
    "    TrueSD_df_result = TrueSD_df_result.append(TrueSD_df , ignore_index=True)\n",
    "    Data = Data.set_index(Index) \n",
    "    \n",
    "    "
   ]
  },
  {
   "cell_type": "code",
   "execution_count": 74,
   "metadata": {},
   "outputs": [
    {
     "data": {
      "text/html": [
       "<div>\n",
       "<style scoped>\n",
       "    .dataframe tbody tr th:only-of-type {\n",
       "        vertical-align: middle;\n",
       "    }\n",
       "\n",
       "    .dataframe tbody tr th {\n",
       "        vertical-align: top;\n",
       "    }\n",
       "\n",
       "    .dataframe thead th {\n",
       "        text-align: right;\n",
       "    }\n",
       "</style>\n",
       "<table border=\"1\" class=\"dataframe\">\n",
       "  <thead>\n",
       "    <tr style=\"text-align: right;\">\n",
       "      <th></th>\n",
       "      <th>SD</th>\n",
       "      <th>DailyReturnsOld</th>\n",
       "      <th>CV_GARCH</th>\n",
       "      <th>CV_GJR_GARCH</th>\n",
       "      <th>CV_TARCH</th>\n",
       "      <th>CV_EGARCH</th>\n",
       "      <th>CV_AVGARCH</th>\n",
       "      <th>CV_FIGARCH</th>\n",
       "    </tr>\n",
       "    <tr>\n",
       "      <th>Date</th>\n",
       "      <th></th>\n",
       "      <th></th>\n",
       "      <th></th>\n",
       "      <th></th>\n",
       "      <th></th>\n",
       "      <th></th>\n",
       "      <th></th>\n",
       "      <th></th>\n",
       "    </tr>\n",
       "  </thead>\n",
       "  <tbody>\n",
       "    <tr>\n",
       "      <th>2012-07-13</th>\n",
       "      <td>0.017995</td>\n",
       "      <td>-0.005506</td>\n",
       "      <td>0.013420</td>\n",
       "      <td>0.013619</td>\n",
       "      <td>0.011274</td>\n",
       "      <td>0.000138</td>\n",
       "      <td>0.010527</td>\n",
       "      <td>0.013827</td>\n",
       "    </tr>\n",
       "    <tr>\n",
       "      <th>2012-07-20</th>\n",
       "      <td>0.011511</td>\n",
       "      <td>0.001549</td>\n",
       "      <td>0.013506</td>\n",
       "      <td>0.012398</td>\n",
       "      <td>0.010971</td>\n",
       "      <td>12.925793</td>\n",
       "      <td>0.011058</td>\n",
       "      <td>0.013577</td>\n",
       "    </tr>\n",
       "    <tr>\n",
       "      <th>2012-07-27</th>\n",
       "      <td>0.010579</td>\n",
       "      <td>0.004324</td>\n",
       "      <td>0.013579</td>\n",
       "      <td>0.011774</td>\n",
       "      <td>0.010235</td>\n",
       "      <td>12.533323</td>\n",
       "      <td>0.011510</td>\n",
       "      <td>0.013571</td>\n",
       "    </tr>\n",
       "    <tr>\n",
       "      <th>2012-08-03</th>\n",
       "      <td>0.010766</td>\n",
       "      <td>0.016962</td>\n",
       "      <td>0.013642</td>\n",
       "      <td>0.011488</td>\n",
       "      <td>0.009776</td>\n",
       "      <td>12.582447</td>\n",
       "      <td>0.011894</td>\n",
       "      <td>0.013826</td>\n",
       "    </tr>\n",
       "    <tr>\n",
       "      <th>2012-08-10</th>\n",
       "      <td>0.008131</td>\n",
       "      <td>0.003615</td>\n",
       "      <td>0.013696</td>\n",
       "      <td>0.011359</td>\n",
       "      <td>0.009491</td>\n",
       "      <td>12.199307</td>\n",
       "      <td>0.012221</td>\n",
       "      <td>0.013570</td>\n",
       "    </tr>\n",
       "    <tr>\n",
       "      <th>...</th>\n",
       "      <td>...</td>\n",
       "      <td>...</td>\n",
       "      <td>...</td>\n",
       "      <td>...</td>\n",
       "      <td>...</td>\n",
       "      <td>...</td>\n",
       "      <td>...</td>\n",
       "      <td>...</td>\n",
       "    </tr>\n",
       "    <tr>\n",
       "      <th>2014-05-23</th>\n",
       "      <td>0.012036</td>\n",
       "      <td>-0.000330</td>\n",
       "      <td>0.014022</td>\n",
       "      <td>0.011932</td>\n",
       "      <td>0.012704</td>\n",
       "      <td>13.583726</td>\n",
       "      <td>0.014089</td>\n",
       "      <td>0.013594</td>\n",
       "    </tr>\n",
       "    <tr>\n",
       "      <th>2014-05-30</th>\n",
       "      <td>0.006416</td>\n",
       "      <td>0.012000</td>\n",
       "      <td>0.014022</td>\n",
       "      <td>0.011559</td>\n",
       "      <td>0.011313</td>\n",
       "      <td>13.328481</td>\n",
       "      <td>0.014089</td>\n",
       "      <td>0.013672</td>\n",
       "    </tr>\n",
       "    <tr>\n",
       "      <th>2014-06-06</th>\n",
       "      <td>0.006691</td>\n",
       "      <td>0.012050</td>\n",
       "      <td>0.014022</td>\n",
       "      <td>0.011391</td>\n",
       "      <td>0.010448</td>\n",
       "      <td>13.085934</td>\n",
       "      <td>0.014089</td>\n",
       "      <td>0.013673</td>\n",
       "    </tr>\n",
       "    <tr>\n",
       "      <th>2014-06-13</th>\n",
       "      <td>0.007338</td>\n",
       "      <td>0.013359</td>\n",
       "      <td>0.014022</td>\n",
       "      <td>0.011316</td>\n",
       "      <td>0.009909</td>\n",
       "      <td>12.909077</td>\n",
       "      <td>0.014089</td>\n",
       "      <td>0.013707</td>\n",
       "    </tr>\n",
       "    <tr>\n",
       "      <th>2014-06-20</th>\n",
       "      <td>0.009105</td>\n",
       "      <td>-0.006835</td>\n",
       "      <td>0.014022</td>\n",
       "      <td>0.012967</td>\n",
       "      <td>0.013006</td>\n",
       "      <td>12.776092</td>\n",
       "      <td>0.014089</td>\n",
       "      <td>0.013730</td>\n",
       "    </tr>\n",
       "  </tbody>\n",
       "</table>\n",
       "<p>102 rows × 8 columns</p>\n",
       "</div>"
      ],
      "text/plain": [
       "                  SD  DailyReturnsOld  CV_GARCH  CV_GJR_GARCH  CV_TARCH  \\\n",
       "Date                                                                      \n",
       "2012-07-13  0.017995        -0.005506  0.013420      0.013619  0.011274   \n",
       "2012-07-20  0.011511         0.001549  0.013506      0.012398  0.010971   \n",
       "2012-07-27  0.010579         0.004324  0.013579      0.011774  0.010235   \n",
       "2012-08-03  0.010766         0.016962  0.013642      0.011488  0.009776   \n",
       "2012-08-10  0.008131         0.003615  0.013696      0.011359  0.009491   \n",
       "...              ...              ...       ...           ...       ...   \n",
       "2014-05-23  0.012036        -0.000330  0.014022      0.011932  0.012704   \n",
       "2014-05-30  0.006416         0.012000  0.014022      0.011559  0.011313   \n",
       "2014-06-06  0.006691         0.012050  0.014022      0.011391  0.010448   \n",
       "2014-06-13  0.007338         0.013359  0.014022      0.011316  0.009909   \n",
       "2014-06-20  0.009105        -0.006835  0.014022      0.012967  0.013006   \n",
       "\n",
       "            CV_EGARCH  CV_AVGARCH  CV_FIGARCH  \n",
       "Date                                           \n",
       "2012-07-13   0.000138    0.010527    0.013827  \n",
       "2012-07-20  12.925793    0.011058    0.013577  \n",
       "2012-07-27  12.533323    0.011510    0.013571  \n",
       "2012-08-03  12.582447    0.011894    0.013826  \n",
       "2012-08-10  12.199307    0.012221    0.013570  \n",
       "...               ...         ...         ...  \n",
       "2014-05-23  13.583726    0.014089    0.013594  \n",
       "2014-05-30  13.328481    0.014089    0.013672  \n",
       "2014-06-06  13.085934    0.014089    0.013673  \n",
       "2014-06-13  12.909077    0.014089    0.013707  \n",
       "2014-06-20  12.776092    0.014089    0.013730  \n",
       "\n",
       "[102 rows x 8 columns]"
      ]
     },
     "execution_count": 74,
     "metadata": {},
     "output_type": "execute_result"
    }
   ],
   "source": [
    "XData_AR"
   ]
  }
 ],
 "metadata": {
  "kernelspec": {
   "display_name": "thesis_2",
   "language": "python",
   "name": "python3"
  },
  "language_info": {
   "codemirror_mode": {
    "name": "ipython",
    "version": 3
   },
   "file_extension": ".py",
   "mimetype": "text/x-python",
   "name": "python",
   "nbconvert_exporter": "python",
   "pygments_lexer": "ipython3",
   "version": "3.10.11"
  },
  "orig_nbformat": 4
 },
 "nbformat": 4,
 "nbformat_minor": 2
}
