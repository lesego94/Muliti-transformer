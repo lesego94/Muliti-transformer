{
 "cells": [
  {
   "cell_type": "code",
   "execution_count": 7,
   "metadata": {},
   "outputs": [],
   "source": [
    "# Selecting libraries\n",
    "import yfinance as yf\n",
    "import pandas as pd\n",
    "import numpy as np\n",
    "import pyfolio as py\n",
    "import plotly.graph_objs as go\n",
    "from plotly.subplots import make_subplots\n",
    "import warnings\n",
    "warnings.filterwarnings(\"ignore\")\n",
    "\n",
    "import cvxopt as opt\n",
    "from cvxopt import blas, solvers"
   ]
  },
  {
   "cell_type": "code",
   "execution_count": 2,
   "metadata": {},
   "outputs": [],
   "source": [
    "# Define the assets and key initial metrics as investment amount to generate a portfolio\n",
    "\n",
    "stocks = ['SPY', '^TNX', 'TIP', 'GLD', 'DBC' ]  # Assets to select yfinance format\n",
    "portfolio_value = 10**6                         # Initial Portfolio Value to be allocated in full\n",
    "weights = [0.30 , 0.15, 0.40, 0.075, 0.075]          # Weight Allocation per asset\n",
    "\n",
    "benchmark = '^GSPC'                    # Which is your benchmark? ^GSPC is SP500 for Yfinance library\n",
    "\n",
    "start_date = '2010-01-01'              # Start date for asset data download\n",
    "live_date = '2020-01-01'               # Portfolio LIVE start date (for analytics)\n",
    "\n",
    "\n",
    "# Warning handling\n",
    "if len(weights) != len(stocks):\n",
    "    print(sum((np.array(weights))))\n",
    "    print('Number of Asset does not match weight allocated')\n",
    "    \n",
    "weight = round(sum((np.array(weights))))\n",
    "if weight != 1.0:\n",
    "    print(sum((np.array(weights))))\n",
    "    print('Weight could not be allocated properly, make sure they sum 1.0')\n"
   ]
  },
  {
   "cell_type": "code",
   "execution_count": 3,
   "metadata": {},
   "outputs": [
    {
     "name": "stdout",
     "output_type": "stream",
     "text": [
      "[*********************100%***********************]  5 of 5 completed\n"
     ]
    }
   ],
   "source": [
    "# Download data, clean and isolate values for calculation\n",
    "# If you use other data source, make sure the format is the same than stock_data.head() on next cell. Check dtypes by stock_data.info()\n",
    "\n",
    "stock_data = yf.download(stocks, start=start_date)['Adj Close']\n",
    "stock_data = stock_data.dropna()\n",
    "stock_data = stock_data.reindex(columns=stocks)\n",
    "stock_prices = stock_data[stocks].values"
   ]
  },
  {
   "cell_type": "code",
   "execution_count": 5,
   "metadata": {},
   "outputs": [
    {
     "data": {
      "text/html": [
       "<div>\n",
       "<style scoped>\n",
       "    .dataframe tbody tr th:only-of-type {\n",
       "        vertical-align: middle;\n",
       "    }\n",
       "\n",
       "    .dataframe tbody tr th {\n",
       "        vertical-align: top;\n",
       "    }\n",
       "\n",
       "    .dataframe thead th {\n",
       "        text-align: right;\n",
       "    }\n",
       "</style>\n",
       "<table border=\"1\" class=\"dataframe\">\n",
       "  <thead>\n",
       "    <tr style=\"text-align: right;\">\n",
       "      <th></th>\n",
       "      <th>SPY_shares</th>\n",
       "      <th>^TNX_shares</th>\n",
       "      <th>TIP_shares</th>\n",
       "      <th>GLD_shares</th>\n",
       "      <th>DBC_shares</th>\n",
       "    </tr>\n",
       "  </thead>\n",
       "  <tbody>\n",
       "    <tr>\n",
       "      <th>2010-01-04</th>\n",
       "      <td>3417.0</td>\n",
       "      <td>39052.0</td>\n",
       "      <td>5330.0</td>\n",
       "      <td>683.0</td>\n",
       "      <td>3076.0</td>\n",
       "    </tr>\n",
       "  </tbody>\n",
       "</table>\n",
       "</div>"
      ],
      "text/plain": [
       "            SPY_shares  ^TNX_shares  TIP_shares  GLD_shares  DBC_shares\n",
       "2010-01-04      3417.0      39052.0      5330.0       683.0      3076.0"
      ]
     },
     "execution_count": 5,
     "metadata": {},
     "output_type": "execute_result"
    }
   ],
   "source": [
    "shares_df = pd.DataFrame(index=[stock_data.index[0]])\n",
    "\n",
    "for s,w in zip(stocks, weights):\n",
    "    shares_df[s + '_shares'] = np.floor((portfolio_value * np.array(w)) / stock_data[s][0])\n",
    "\n",
    "shares_df    "
   ]
  },
  {
   "cell_type": "code",
   "execution_count": 13,
   "metadata": {},
   "outputs": [],
   "source": [
    "def get_optimal_weights(cov_matrix, expected_returns, num_assets):\n",
    "    # minimize w'Σw subject to μ'w = 1\n",
    "    solvers.options['show_progress'] = False\n",
    "\n",
    "    # Define the 2nd part of the minimization problem\n",
    "    P = opt.matrix(cov_matrix.values)\n",
    "    q = opt.matrix(np.zeros((num_assets, 1)))\n",
    "\n",
    "    # Define the 1st part of the minimization problem\n",
    "    G = opt.matrix(-np.eye(num_assets))\n",
    "    h = opt.matrix(np.zeros((num_assets, 1)))\n",
    "\n",
    "    # Define the equality constraint\n",
    "    A = opt.matrix(expected_returns.values.reshape((1, -1)))\n",
    "    b = opt.matrix(1.0)\n",
    "\n",
    "    # Optimization\n",
    "    sol = solvers.qp(P, q, G, h, A, b)\n",
    "    weights = np.array(sol['x'])\n",
    "\n",
    "    return weights"
   ]
  },
  {
   "cell_type": "code",
   "execution_count": 22,
   "metadata": {},
   "outputs": [
    {
     "data": {
      "text/plain": [
       "0"
      ]
     },
     "execution_count": 22,
     "metadata": {},
     "output_type": "execute_result"
    }
   ],
   "source": [
    "df = stock_data.pct_change().dropna()\n",
    "np.isinf(df).values.sum()"
   ]
  },
  {
   "cell_type": "code",
   "execution_count": 23,
   "metadata": {},
   "outputs": [
    {
     "ename": "ValueError",
     "evalue": "domain error",
     "output_type": "error",
     "traceback": [
      "\u001b[0;31m---------------------------------------------------------------------------\u001b[0m",
      "\u001b[0;31mValueError\u001b[0m                                Traceback (most recent call last)",
      "Cell \u001b[0;32mIn[23], line 28\u001b[0m\n\u001b[1;32m     25\u001b[0m cov_matrix \u001b[39m=\u001b[39m returns\u001b[39m.\u001b[39mcov()\n\u001b[1;32m     27\u001b[0m \u001b[39m# Get optimal weights using MVO\u001b[39;00m\n\u001b[0;32m---> 28\u001b[0m optimal_weights \u001b[39m=\u001b[39m get_optimal_weights(cov_matrix, expected_returns, \u001b[39mlen\u001b[39;49m(stocks))\n\u001b[1;32m     30\u001b[0m \u001b[39m# Assign weights to the portfolio\u001b[39;00m\n\u001b[1;32m     31\u001b[0m portfolio_weights\u001b[39m.\u001b[39mloc[month_end] \u001b[39m=\u001b[39m optimal_weights\u001b[39m.\u001b[39mflatten()\n",
      "Cell \u001b[0;32mIn[13], line 18\u001b[0m, in \u001b[0;36mget_optimal_weights\u001b[0;34m(cov_matrix, expected_returns, num_assets)\u001b[0m\n\u001b[1;32m     15\u001b[0m b \u001b[39m=\u001b[39m opt\u001b[39m.\u001b[39mmatrix(\u001b[39m1.0\u001b[39m)\n\u001b[1;32m     17\u001b[0m \u001b[39m# Optimization\u001b[39;00m\n\u001b[0;32m---> 18\u001b[0m sol \u001b[39m=\u001b[39m solvers\u001b[39m.\u001b[39;49mqp(P, q, G, h, A, b)\n\u001b[1;32m     19\u001b[0m weights \u001b[39m=\u001b[39m np\u001b[39m.\u001b[39marray(sol[\u001b[39m'\u001b[39m\u001b[39mx\u001b[39m\u001b[39m'\u001b[39m])\n\u001b[1;32m     21\u001b[0m \u001b[39mreturn\u001b[39;00m weights\n",
      "File \u001b[0;32m/opt/homebrew/Caskroom/miniforge/base/envs/thesis_2/lib/python3.10/site-packages/cvxopt/coneprog.py:4485\u001b[0m, in \u001b[0;36mqp\u001b[0;34m(P, q, G, h, A, b, solver, kktsolver, initvals, **kwargs)\u001b[0m\n\u001b[1;32m   4475\u001b[0m         pinfres, dinfres \u001b[39m=\u001b[39m \u001b[39mNone\u001b[39;00m, \u001b[39mNone\u001b[39;00m\n\u001b[1;32m   4477\u001b[0m     \u001b[39mreturn\u001b[39;00m {\u001b[39m'\u001b[39m\u001b[39mstatus\u001b[39m\u001b[39m'\u001b[39m: status, \u001b[39m'\u001b[39m\u001b[39mx\u001b[39m\u001b[39m'\u001b[39m: x, \u001b[39m'\u001b[39m\u001b[39ms\u001b[39m\u001b[39m'\u001b[39m: s, \u001b[39m'\u001b[39m\u001b[39my\u001b[39m\u001b[39m'\u001b[39m: y, \u001b[39m'\u001b[39m\u001b[39mz\u001b[39m\u001b[39m'\u001b[39m: z,\n\u001b[1;32m   4478\u001b[0m         \u001b[39m'\u001b[39m\u001b[39mprimal objective\u001b[39m\u001b[39m'\u001b[39m: pcost, \u001b[39m'\u001b[39m\u001b[39mdual objective\u001b[39m\u001b[39m'\u001b[39m: dcost,\n\u001b[1;32m   4479\u001b[0m         \u001b[39m'\u001b[39m\u001b[39mgap\u001b[39m\u001b[39m'\u001b[39m: gap, \u001b[39m'\u001b[39m\u001b[39mrelative gap\u001b[39m\u001b[39m'\u001b[39m: relgap,\n\u001b[0;32m   (...)\u001b[0m\n\u001b[1;32m   4482\u001b[0m         \u001b[39m'\u001b[39m\u001b[39mresidual as primal infeasibility certificate\u001b[39m\u001b[39m'\u001b[39m: pinfres,\n\u001b[1;32m   4483\u001b[0m         \u001b[39m'\u001b[39m\u001b[39mresidual as dual infeasibility certificate\u001b[39m\u001b[39m'\u001b[39m: dinfres}\n\u001b[0;32m-> 4485\u001b[0m \u001b[39mreturn\u001b[39;00m coneqp(P, q, G, h, \u001b[39mNone\u001b[39;49;00m, A,  b, initvals, kktsolver \u001b[39m=\u001b[39;49m kktsolver, options \u001b[39m=\u001b[39;49m options)\n",
      "File \u001b[0;32m/opt/homebrew/Caskroom/miniforge/base/envs/thesis_2/lib/python3.10/site-packages/cvxopt/coneprog.py:2519\u001b[0m, in \u001b[0;36mconeqp\u001b[0;34m(P, q, G, h, dims, A, b, initvals, kktsolver, xnewcopy, xdot, xaxpy, xscal, ynewcopy, ydot, yaxpy, yscal, **kwargs)\u001b[0m\n\u001b[1;32m   2515\u001b[0m     ind3 \u001b[39m+\u001b[39m\u001b[39m=\u001b[39m m\n\u001b[1;32m   2518\u001b[0m \u001b[39m# Update lambda and scaling.\u001b[39;00m\n\u001b[0;32m-> 2519\u001b[0m misc\u001b[39m.\u001b[39;49mupdate_scaling(W, lmbda, ds, dz)\n\u001b[1;32m   2522\u001b[0m \u001b[39m# Unscale s, z (unscaled variables are used only to compute\u001b[39;00m\n\u001b[1;32m   2523\u001b[0m \u001b[39m# feasibility residuals).\u001b[39;00m\n\u001b[1;32m   2525\u001b[0m blas\u001b[39m.\u001b[39mcopy(lmbda, s, n \u001b[39m=\u001b[39m dims[\u001b[39m'\u001b[39m\u001b[39ml\u001b[39m\u001b[39m'\u001b[39m] \u001b[39m+\u001b[39m \u001b[39msum\u001b[39m(dims[\u001b[39m'\u001b[39m\u001b[39mq\u001b[39m\u001b[39m'\u001b[39m]))\n",
      "File \u001b[0;32m/opt/homebrew/Caskroom/miniforge/base/envs/thesis_2/lib/python3.10/site-packages/cvxopt/misc.py:450\u001b[0m, in \u001b[0;36mupdate_scaling\u001b[0;34m(W, lmbda, s, z)\u001b[0m\n\u001b[1;32m    448\u001b[0m ml \u001b[39m=\u001b[39m \u001b[39mlen\u001b[39m(W[\u001b[39m'\u001b[39m\u001b[39md\u001b[39m\u001b[39m'\u001b[39m])\n\u001b[1;32m    449\u001b[0m m \u001b[39m=\u001b[39m mnl \u001b[39m+\u001b[39m ml\n\u001b[0;32m--> 450\u001b[0m s[:m] \u001b[39m=\u001b[39m base\u001b[39m.\u001b[39;49msqrt( s[:m] )\n\u001b[1;32m    451\u001b[0m z[:m] \u001b[39m=\u001b[39m base\u001b[39m.\u001b[39msqrt( z[:m] )\n\u001b[1;32m    453\u001b[0m \u001b[39m# d := d .* s .* z \u001b[39;00m\n",
      "\u001b[0;31mValueError\u001b[0m: domain error"
     ]
    }
   ],
   "source": [
    "\n",
    "# Initialize portfolio weights DataFrame\n",
    "portfolio_weights = pd.DataFrame(columns=stocks, index=stock_data.index)\n",
    "\n",
    "# Initialize rebalance signal\n",
    "signal = False\n",
    "\n",
    "# Initialize previous balance month\n",
    "balance_month = stock_data.index[0].month\n",
    "\n",
    "for month_end in stock_data.index:\n",
    "    # Rebalance at the end of each month\n",
    "    if month_end.month != balance_month or month_end == stock_data.index[-1]:\n",
    "        balance_month = month_end.month\n",
    "        signal = True\n",
    "\n",
    "        # Define the rolling window (set at 12 months)\n",
    "        window = stock_data[(stock_data.index < month_end) & (stock_data.index > month_end - pd.DateOffset(months=12))]\n",
    "\n",
    "        # Calculate returns for the window\n",
    "        returns = window.pct_change().dropna()\n",
    "        returns \n",
    "\n",
    "        # Calculate expected returns and the covariance matrix\n",
    "        expected_returns = returns.mean()\n",
    "        cov_matrix = returns.cov()\n",
    "\n",
    "        # Get optimal weights using MVO\n",
    "        optimal_weights = get_optimal_weights(cov_matrix, expected_returns, len(stocks))\n",
    "\n",
    "        # Assign weights to the portfolio\n",
    "        portfolio_weights.loc[month_end] = optimal_weights.flatten()\n",
    "    else:\n",
    "        # If not the end of the month, the weights remain the same as the previous day\n",
    "        portfolio_weights.loc[month_end] = portfolio_weights.shift(1).loc[month_end]\n"
   ]
  }
 ],
 "metadata": {
  "kernelspec": {
   "display_name": "thesis_2",
   "language": "python",
   "name": "python3"
  },
  "language_info": {
   "codemirror_mode": {
    "name": "ipython",
    "version": 3
   },
   "file_extension": ".py",
   "mimetype": "text/x-python",
   "name": "python",
   "nbconvert_exporter": "python",
   "pygments_lexer": "ipython3",
   "version": "3.10.11"
  },
  "orig_nbformat": 4
 },
 "nbformat": 4,
 "nbformat_minor": 2
}
