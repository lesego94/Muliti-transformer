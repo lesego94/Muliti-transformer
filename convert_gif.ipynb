{
 "cells": [
  {
   "cell_type": "code",
   "execution_count": 3,
   "metadata": {},
   "outputs": [
    {
     "data": {
      "text/plain": [
       "True"
      ]
     },
     "execution_count": 3,
     "metadata": {},
     "output_type": "execute_result"
    }
   ],
   "source": [
    "from PIL import Image\n",
    "\n",
    "def extract_frames(gif_path):\n",
    "    frame_path = \"frames/frame_{:03d}.png\"\n",
    "    frame = Image.open(gif_path)\n",
    "    nframes = 0\n",
    "    while frame:\n",
    "        frame.save(frame_path.format(nframes)) # save frame as PNG\n",
    "        nframes += 1\n",
    "        try:\n",
    "            frame.seek(nframes)\n",
    "        except EOFError:\n",
    "            break;\n",
    "    return True\n",
    "\n",
    "# Use function\n",
    "gif_path = \"./6_rolling_window.gif\" # replace with your gif path\n",
    "extract_frames(gif_path)\n"
   ]
  },
  {
   "cell_type": "code",
   "execution_count": 8,
   "metadata": {},
   "outputs": [
    {
     "data": {
      "text/plain": [
       "True"
      ]
     },
     "execution_count": 8,
     "metadata": {},
     "output_type": "execute_result"
    }
   ],
   "source": [
    "from PIL import Image\n",
    "\n",
    "def extract_frames(gif_path):\n",
    "    frame_path = \"frames_2/frame-{}.png\"\n",
    "    frame = Image.open(gif_path)\n",
    "    nframes = 0\n",
    "    while frame:\n",
    "        frame.save(frame_path.format(nframes)) # save frame as PNG\n",
    "        nframes += 1\n",
    "        try:\n",
    "            frame.seek(nframes)\n",
    "        except EOFError:\n",
    "            break;\n",
    "    return True\n",
    "\n",
    "# Use function\n",
    "gif_path = \"./transform_timeseries.gif\" # replace with your gif path\n",
    "extract_frames(gif_path)\n"
   ]
  },
  {
   "cell_type": "code",
   "execution_count": 7,
   "metadata": {},
   "outputs": [
    {
     "ename": "ZeroDivisionError",
     "evalue": "integer division or modulo by zero",
     "output_type": "error",
     "traceback": [
      "\u001b[0;31m---------------------------------------------------------------------------\u001b[0m",
      "\u001b[0;31mZeroDivisionError\u001b[0m                         Traceback (most recent call last)",
      "Cell \u001b[0;32mIn[7], line 22\u001b[0m\n\u001b[1;32m     20\u001b[0m gif_path \u001b[39m=\u001b[39m \u001b[39m\"\u001b[39m\u001b[39m./transform_timeseries.gif\u001b[39m\u001b[39m\"\u001b[39m \u001b[39m# replace with your gif path\u001b[39;00m\n\u001b[1;32m     21\u001b[0m total_frames \u001b[39m=\u001b[39m \u001b[39m8\u001b[39m \u001b[39m# replace with the total number of frames you want to extract\u001b[39;00m\n\u001b[0;32m---> 22\u001b[0m extract_frames(gif_path, total_frames)\n",
      "Cell \u001b[0;32mIn[7], line 9\u001b[0m, in \u001b[0;36mextract_frames\u001b[0;34m(gif_path, total_frames)\u001b[0m\n\u001b[1;32m      7\u001b[0m extracted \u001b[39m=\u001b[39m \u001b[39m0\u001b[39m\n\u001b[1;32m      8\u001b[0m \u001b[39mwhile\u001b[39;00m frame \u001b[39mand\u001b[39;00m extracted \u001b[39m<\u001b[39m total_frames:\n\u001b[0;32m----> 9\u001b[0m     \u001b[39mif\u001b[39;00m nframes \u001b[39m%\u001b[39;49m (frame\u001b[39m.\u001b[39;49mn_frames \u001b[39m/\u001b[39;49m\u001b[39m/\u001b[39;49m total_frames) \u001b[39m==\u001b[39m \u001b[39m0\u001b[39m:  \u001b[39m# only save certain frames\u001b[39;00m\n\u001b[1;32m     10\u001b[0m         frame\u001b[39m.\u001b[39msave(frame_path\u001b[39m.\u001b[39mformat(extracted)) \u001b[39m# save frame as PNG\u001b[39;00m\n\u001b[1;32m     11\u001b[0m         extracted \u001b[39m+\u001b[39m\u001b[39m=\u001b[39m \u001b[39m1\u001b[39m\n",
      "\u001b[0;31mZeroDivisionError\u001b[0m: integer division or modulo by zero"
     ]
    }
   ],
   "source": [
    "from PIL import Image\n",
    "\n",
    "def extract_frames(gif_path, total_frames):\n",
    "    frame_path = \"frames_2/frame-{}.png\"\n",
    "    frame = Image.open(gif_path)\n",
    "    nframes = 0\n",
    "    extracted = 0\n",
    "    while frame and extracted < total_frames:\n",
    "        if nframes % (frame.n_frames // total_frames) == 0:  # only save certain frames\n",
    "            frame.save(frame_path.format(extracted)) # save frame as PNG\n",
    "            extracted += 1\n",
    "        nframes += 1\n",
    "        try:\n",
    "            frame.seek(nframes)\n",
    "        except EOFError:\n",
    "            break;\n",
    "    return True\n",
    "\n",
    "# Use function\n",
    "gif_path = \"./transform_timeseries.gif\" # replace with your gif path\n",
    "total_frames = 8 # replace with the total number of frames you want to extract\n",
    "extract_frames(gif_path, total_frames)\n"
   ]
  },
  {
   "cell_type": "code",
   "execution_count": null,
   "metadata": {},
   "outputs": [],
   "source": [
    "from manim import *\n",
    "\n",
    "class HelloManim(Scene):\n",
    "    def construct(self):\n",
    "        text = Text(\"Hello, Manim!\")\n",
    "        self.play(Write(text))\n",
    "        self.wait()\n"
   ]
  }
 ],
 "metadata": {
  "kernelspec": {
   "display_name": "thesis_2",
   "language": "python",
   "name": "python3"
  },
  "language_info": {
   "codemirror_mode": {
    "name": "ipython",
    "version": 3
   },
   "file_extension": ".py",
   "mimetype": "text/x-python",
   "name": "python",
   "nbconvert_exporter": "python",
   "pygments_lexer": "ipython3",
   "version": "3.10.11"
  },
  "orig_nbformat": 4
 },
 "nbformat": 4,
 "nbformat_minor": 2
}
