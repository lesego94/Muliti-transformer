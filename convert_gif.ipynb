{
 "cells": [
  {
   "cell_type": "code",
   "execution_count": 3,
   "metadata": {},
   "outputs": [
    {
     "data": {
      "text/plain": [
       "True"
      ]
     },
     "execution_count": 3,
     "metadata": {},
     "output_type": "execute_result"
    }
   ],
   "source": [
    "from PIL import Image\n",
    "\n",
    "def extract_frames(gif_path):\n",
    "    frame_path = \"frames/frame_{:03d}.png\"\n",
    "    frame = Image.open(gif_path)\n",
    "    nframes = 0\n",
    "    while frame:\n",
    "        frame.save(frame_path.format(nframes)) # save frame as PNG\n",
    "        nframes += 1\n",
    "        try:\n",
    "            frame.seek(nframes)\n",
    "        except EOFError:\n",
    "            break;\n",
    "    return True\n",
    "\n",
    "# Use function\n",
    "gif_path = \"./6_rolling_window.gif\" # replace with your gif path\n",
    "extract_frames(gif_path)\n"
   ]
  },
  {
   "cell_type": "code",
   "execution_count": 5,
   "metadata": {},
   "outputs": [
    {
     "data": {
      "text/plain": [
       "True"
      ]
     },
     "execution_count": 5,
     "metadata": {},
     "output_type": "execute_result"
    }
   ],
   "source": [
    "from PIL import Image\n",
    "\n",
    "def extract_frames(gif_path):\n",
    "    frame_path = \"frames/frame-{}.png\"\n",
    "    frame = Image.open(gif_path)\n",
    "    nframes = 0\n",
    "    while frame:\n",
    "        frame.save(frame_path.format(nframes)) # save frame as PNG\n",
    "        nframes += 1\n",
    "        try:\n",
    "            frame.seek(nframes)\n",
    "        except EOFError:\n",
    "            break;\n",
    "    return True\n",
    "\n",
    "# Use function\n",
    "gif_path = \"./6_rolling_window.gif\" # replace with your gif path\n",
    "extract_frames(gif_path)\n"
   ]
  },
  {
   "cell_type": "code",
   "execution_count": 8,
   "metadata": {},
   "outputs": [
    {
     "data": {
      "text/plain": [
       "True"
      ]
     },
     "execution_count": 8,
     "metadata": {},
     "output_type": "execute_result"
    }
   ],
   "source": [
    "from PIL import Image\n",
    "\n",
    "def extract_frames(gif_path, total_frames):\n",
    "    frame_path = \"frames/frame-{}.png\"\n",
    "    frame = Image.open(gif_path)\n",
    "    nframes = 0\n",
    "    extracted = 0\n",
    "    while frame and extracted < total_frames:\n",
    "        if nframes % (frame.n_frames // total_frames) == 0:  # only save certain frames\n",
    "            frame.save(frame_path.format(extracted)) # save frame as PNG\n",
    "            extracted += 1\n",
    "        nframes += 1\n",
    "        try:\n",
    "            frame.seek(nframes)\n",
    "        except EOFError:\n",
    "            break;\n",
    "    return True\n",
    "\n",
    "# Use function\n",
    "gif_path = \"./6_rolling_window.gif\" # replace with your gif path\n",
    "total_frames = 50  # replace with the total number of frames you want to extract\n",
    "extract_frames(gif_path, total_frames)\n"
   ]
  },
  {
   "cell_type": "code",
   "execution_count": null,
   "metadata": {},
   "outputs": [],
   "source": [
    "from manim import *\n",
    "\n",
    "class HelloManim(Scene):\n",
    "    def construct(self):\n",
    "        text = Text(\"Hello, Manim!\")\n",
    "        self.play(Write(text))\n",
    "        self.wait()\n"
   ]
  }
 ],
 "metadata": {
  "kernelspec": {
   "display_name": "thesis_2",
   "language": "python",
   "name": "python3"
  },
  "language_info": {
   "codemirror_mode": {
    "name": "ipython",
    "version": 3
   },
   "file_extension": ".py",
   "mimetype": "text/x-python",
   "name": "python",
   "nbconvert_exporter": "python",
   "pygments_lexer": "ipython3",
   "version": "3.10.11"
  },
  "orig_nbformat": 4
 },
 "nbformat": 4,
 "nbformat_minor": 2
}
