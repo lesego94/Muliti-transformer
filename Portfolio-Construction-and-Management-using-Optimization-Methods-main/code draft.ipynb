{
 "cells": [
  {
   "cell_type": "markdown",
   "id": "f32eecae",
   "metadata": {},
   "source": [
    "##  Regime Based Method"
   ]
  },
  {
   "cell_type": "markdown",
   "id": "6f83f7ca",
   "metadata": {},
   "source": [
    "### use Fama-French model to present the return"
   ]
  },
  {
   "cell_type": "code",
   "execution_count": 1,
   "id": "2746a0d6",
   "metadata": {},
   "outputs": [],
   "source": [
    "import getFamaFrenchFactors as gff"
   ]
  },
  {
   "cell_type": "code",
   "execution_count": 2,
   "id": "570b2638",
   "metadata": {},
   "outputs": [
    {
     "data": {
      "text/html": [
       "<div>\n",
       "<style scoped>\n",
       "    .dataframe tbody tr th:only-of-type {\n",
       "        vertical-align: middle;\n",
       "    }\n",
       "\n",
       "    .dataframe tbody tr th {\n",
       "        vertical-align: top;\n",
       "    }\n",
       "\n",
       "    .dataframe thead th {\n",
       "        text-align: right;\n",
       "    }\n",
       "</style>\n",
       "<table border=\"1\" class=\"dataframe\">\n",
       "  <thead>\n",
       "    <tr style=\"text-align: right;\">\n",
       "      <th></th>\n",
       "      <th>Mkt-RF</th>\n",
       "      <th>SMB</th>\n",
       "      <th>HML</th>\n",
       "      <th>RF</th>\n",
       "    </tr>\n",
       "    <tr>\n",
       "      <th>date_ff_factors</th>\n",
       "      <th></th>\n",
       "      <th></th>\n",
       "      <th></th>\n",
       "      <th></th>\n",
       "    </tr>\n",
       "  </thead>\n",
       "  <tbody>\n",
       "    <tr>\n",
       "      <th>1990-02-28</th>\n",
       "      <td>0.0111</td>\n",
       "      <td>0.0097</td>\n",
       "      <td>0.0064</td>\n",
       "      <td>0.0057</td>\n",
       "    </tr>\n",
       "    <tr>\n",
       "      <th>1990-03-31</th>\n",
       "      <td>0.0183</td>\n",
       "      <td>0.0146</td>\n",
       "      <td>-0.0292</td>\n",
       "      <td>0.0064</td>\n",
       "    </tr>\n",
       "    <tr>\n",
       "      <th>1990-04-30</th>\n",
       "      <td>-0.0336</td>\n",
       "      <td>-0.0045</td>\n",
       "      <td>-0.0259</td>\n",
       "      <td>0.0069</td>\n",
       "    </tr>\n",
       "    <tr>\n",
       "      <th>1990-05-31</th>\n",
       "      <td>0.0842</td>\n",
       "      <td>-0.0256</td>\n",
       "      <td>-0.0383</td>\n",
       "      <td>0.0068</td>\n",
       "    </tr>\n",
       "    <tr>\n",
       "      <th>1990-06-30</th>\n",
       "      <td>-0.0109</td>\n",
       "      <td>0.0136</td>\n",
       "      <td>-0.0193</td>\n",
       "      <td>0.0063</td>\n",
       "    </tr>\n",
       "    <tr>\n",
       "      <th>...</th>\n",
       "      <td>...</td>\n",
       "      <td>...</td>\n",
       "      <td>...</td>\n",
       "      <td>...</td>\n",
       "    </tr>\n",
       "    <tr>\n",
       "      <th>2022-02-28</th>\n",
       "      <td>-0.0229</td>\n",
       "      <td>0.0218</td>\n",
       "      <td>0.0309</td>\n",
       "      <td>0.0000</td>\n",
       "    </tr>\n",
       "    <tr>\n",
       "      <th>2022-03-31</th>\n",
       "      <td>0.0305</td>\n",
       "      <td>-0.0161</td>\n",
       "      <td>-0.0182</td>\n",
       "      <td>0.0001</td>\n",
       "    </tr>\n",
       "    <tr>\n",
       "      <th>2022-04-30</th>\n",
       "      <td>-0.0946</td>\n",
       "      <td>-0.0140</td>\n",
       "      <td>0.0616</td>\n",
       "      <td>0.0001</td>\n",
       "    </tr>\n",
       "    <tr>\n",
       "      <th>2022-05-31</th>\n",
       "      <td>-0.0034</td>\n",
       "      <td>-0.0187</td>\n",
       "      <td>0.0838</td>\n",
       "      <td>0.0003</td>\n",
       "    </tr>\n",
       "    <tr>\n",
       "      <th>2022-06-30</th>\n",
       "      <td>-0.0843</td>\n",
       "      <td>0.0209</td>\n",
       "      <td>-0.0593</td>\n",
       "      <td>0.0006</td>\n",
       "    </tr>\n",
       "  </tbody>\n",
       "</table>\n",
       "<p>389 rows × 4 columns</p>\n",
       "</div>"
      ],
      "text/plain": [
       "                 Mkt-RF     SMB     HML      RF\n",
       "date_ff_factors                                \n",
       "1990-02-28       0.0111  0.0097  0.0064  0.0057\n",
       "1990-03-31       0.0183  0.0146 -0.0292  0.0064\n",
       "1990-04-30      -0.0336 -0.0045 -0.0259  0.0069\n",
       "1990-05-31       0.0842 -0.0256 -0.0383  0.0068\n",
       "1990-06-30      -0.0109  0.0136 -0.0193  0.0063\n",
       "...                 ...     ...     ...     ...\n",
       "2022-02-28      -0.0229  0.0218  0.0309  0.0000\n",
       "2022-03-31       0.0305 -0.0161 -0.0182  0.0001\n",
       "2022-04-30      -0.0946 -0.0140  0.0616  0.0001\n",
       "2022-05-31      -0.0034 -0.0187  0.0838  0.0003\n",
       "2022-06-30      -0.0843  0.0209 -0.0593  0.0006\n",
       "\n",
       "[389 rows x 4 columns]"
      ]
     },
     "execution_count": 2,
     "metadata": {},
     "output_type": "execute_result"
    }
   ],
   "source": [
    "ff3_monthly = gff.famaFrench3Factor(frequency='m')\n",
    "ff3_monthly=ff3_monthly.loc[ff3_monthly['date_ff_factors']>\"1990-01-31\"]\n",
    "ff3_monthly.set_index(\"date_ff_factors\",inplace=True)\n",
    "ff3_monthly"
   ]
  },
  {
   "cell_type": "code",
   "execution_count": 3,
   "id": "93d5ea2f",
   "metadata": {},
   "outputs": [],
   "source": [
    "ff3_monthly['DATE']=ff3_monthly.index"
   ]
  },
  {
   "cell_type": "code",
   "execution_count": 4,
   "id": "b11e898d",
   "metadata": {},
   "outputs": [
    {
     "data": {
      "text/html": [
       "<div>\n",
       "<style scoped>\n",
       "    .dataframe tbody tr th:only-of-type {\n",
       "        vertical-align: middle;\n",
       "    }\n",
       "\n",
       "    .dataframe tbody tr th {\n",
       "        vertical-align: top;\n",
       "    }\n",
       "\n",
       "    .dataframe thead th {\n",
       "        text-align: right;\n",
       "    }\n",
       "</style>\n",
       "<table border=\"1\" class=\"dataframe\">\n",
       "  <thead>\n",
       "    <tr style=\"text-align: right;\">\n",
       "      <th></th>\n",
       "      <th>Mkt-RF</th>\n",
       "      <th>SMB</th>\n",
       "      <th>HML</th>\n",
       "      <th>RF</th>\n",
       "    </tr>\n",
       "    <tr>\n",
       "      <th>date_ff_factors</th>\n",
       "      <th></th>\n",
       "      <th></th>\n",
       "      <th></th>\n",
       "      <th></th>\n",
       "    </tr>\n",
       "  </thead>\n",
       "  <tbody>\n",
       "    <tr>\n",
       "      <th>1990-02-28</th>\n",
       "      <td>0.0111</td>\n",
       "      <td>0.0097</td>\n",
       "      <td>0.0064</td>\n",
       "      <td>0.0057</td>\n",
       "    </tr>\n",
       "    <tr>\n",
       "      <th>1990-03-31</th>\n",
       "      <td>0.0183</td>\n",
       "      <td>0.0146</td>\n",
       "      <td>-0.0292</td>\n",
       "      <td>0.0064</td>\n",
       "    </tr>\n",
       "    <tr>\n",
       "      <th>1990-04-30</th>\n",
       "      <td>-0.0336</td>\n",
       "      <td>-0.0045</td>\n",
       "      <td>-0.0259</td>\n",
       "      <td>0.0069</td>\n",
       "    </tr>\n",
       "    <tr>\n",
       "      <th>1990-05-31</th>\n",
       "      <td>0.0842</td>\n",
       "      <td>-0.0256</td>\n",
       "      <td>-0.0383</td>\n",
       "      <td>0.0068</td>\n",
       "    </tr>\n",
       "    <tr>\n",
       "      <th>1990-06-30</th>\n",
       "      <td>-0.0109</td>\n",
       "      <td>0.0136</td>\n",
       "      <td>-0.0193</td>\n",
       "      <td>0.0063</td>\n",
       "    </tr>\n",
       "    <tr>\n",
       "      <th>...</th>\n",
       "      <td>...</td>\n",
       "      <td>...</td>\n",
       "      <td>...</td>\n",
       "      <td>...</td>\n",
       "    </tr>\n",
       "    <tr>\n",
       "      <th>2008-08-31</th>\n",
       "      <td>0.0153</td>\n",
       "      <td>0.0350</td>\n",
       "      <td>0.0148</td>\n",
       "      <td>0.0013</td>\n",
       "    </tr>\n",
       "    <tr>\n",
       "      <th>2008-09-30</th>\n",
       "      <td>-0.0924</td>\n",
       "      <td>-0.0124</td>\n",
       "      <td>0.0590</td>\n",
       "      <td>0.0015</td>\n",
       "    </tr>\n",
       "    <tr>\n",
       "      <th>2008-10-31</th>\n",
       "      <td>-0.1723</td>\n",
       "      <td>-0.0252</td>\n",
       "      <td>-0.0222</td>\n",
       "      <td>0.0008</td>\n",
       "    </tr>\n",
       "    <tr>\n",
       "      <th>2008-11-30</th>\n",
       "      <td>-0.0786</td>\n",
       "      <td>-0.0287</td>\n",
       "      <td>-0.0630</td>\n",
       "      <td>0.0003</td>\n",
       "    </tr>\n",
       "    <tr>\n",
       "      <th>2008-12-31</th>\n",
       "      <td>0.0174</td>\n",
       "      <td>0.0349</td>\n",
       "      <td>0.0007</td>\n",
       "      <td>0.0000</td>\n",
       "    </tr>\n",
       "  </tbody>\n",
       "</table>\n",
       "<p>227 rows × 4 columns</p>\n",
       "</div>"
      ],
      "text/plain": [
       "                 Mkt-RF     SMB     HML      RF\n",
       "date_ff_factors                                \n",
       "1990-02-28       0.0111  0.0097  0.0064  0.0057\n",
       "1990-03-31       0.0183  0.0146 -0.0292  0.0064\n",
       "1990-04-30      -0.0336 -0.0045 -0.0259  0.0069\n",
       "1990-05-31       0.0842 -0.0256 -0.0383  0.0068\n",
       "1990-06-30      -0.0109  0.0136 -0.0193  0.0063\n",
       "...                 ...     ...     ...     ...\n",
       "2008-08-31       0.0153  0.0350  0.0148  0.0013\n",
       "2008-09-30      -0.0924 -0.0124  0.0590  0.0015\n",
       "2008-10-31      -0.1723 -0.0252 -0.0222  0.0008\n",
       "2008-11-30      -0.0786 -0.0287 -0.0630  0.0003\n",
       "2008-12-31       0.0174  0.0349  0.0007  0.0000\n",
       "\n",
       "[227 rows x 4 columns]"
      ]
     },
     "execution_count": 4,
     "metadata": {},
     "output_type": "execute_result"
    }
   ],
   "source": [
    "\n",
    "ff3_train=ff3_monthly.loc[ff3_monthly['DATE']<\"2009-01-01\"]\n",
    "ff3_test=ff3_monthly.loc[ff3_monthly['DATE']>\"2009-01-01\"]\n",
    "del ff3_train['DATE']\n",
    "del ff3_test['DATE']\n",
    "ff3_train"
   ]
  },
  {
   "cell_type": "markdown",
   "id": "5d6f05ec",
   "metadata": {},
   "source": [
    "#### Normal distribution test"
   ]
  },
  {
   "cell_type": "code",
   "execution_count": 5,
   "id": "3c08c96a",
   "metadata": {},
   "outputs": [],
   "source": [
    "#normal distribution test\n",
    "from scipy import stats"
   ]
  },
  {
   "cell_type": "code",
   "execution_count": 6,
   "id": "0af0ede9",
   "metadata": {},
   "outputs": [],
   "source": [
    "def normal_test(name,data,p_threshold=1e-3):\n",
    "    x=data[name]\n",
    "    \n",
    "    fig = plt.figure(figsize=(10,12))\n",
    "    ax1 = fig.add_subplot(211)\n",
    "    prob = stats.probplot(x, dist=stats.norm, plot=ax1)\n",
    "    plt.xlabel('')\n",
    "    plt.title('Probplot against normal distribution')\n",
    "    plt.show()\n",
    "    \n",
    "    if len(x)>=8:\n",
    "        k2, p = stats.normaltest(x)\n",
    "        print(\"p = {:g}\".format(p))\n",
    "        if p < p_threshold:  # null hypothesis: x comes from a normal distribution\n",
    "            print(\"The null hypothesis can be rejected\")\n",
    "            return False\n",
    "        else:\n",
    "            print(\"The null hypothesis cannot be rejected\")\n",
    "            return True\n",
    "    else:\n",
    "        print(\"the sample size is too small for nomaltest\")\n",
    "        return True\n",
    "\n",
    "       \n",
    "    \n",
    "    "
   ]
  },
  {
   "cell_type": "code",
   "execution_count": 8,
   "id": "7301ad52",
   "metadata": {},
   "outputs": [
    {
     "data": {
      "image/png": "[encoded data removed]",
      "text/plain": [
       "<Figure size 720x864 with 1 Axes>"
      ]
     },
     "metadata": {
      "needs_background": "light"
     },
     "output_type": "display_data"
    },
    {
     "name": "stdout",
     "output_type": "stream",
     "text": [
      "p = 6.77918e-08\n",
      "The null hypothesis can be rejected\n"
     ]
    },
    {
     "data": {
      "text/plain": [
       "False"
      ]
     },
     "execution_count": 8,
     "metadata": {},
     "output_type": "execute_result"
    }
   ],
   "source": [
    "import matplotlib.pyplot as plt\n",
    "normal_test(\"Mkt-RF\",ff3_monthly)"
   ]
  },
  {
   "cell_type": "markdown",
   "id": "f0da007e",
   "metadata": {},
   "source": [
    "### transform the data "
   ]
  },
  {
   "cell_type": "code",
   "execution_count": 9,
   "id": "2f78b03c",
   "metadata": {},
   "outputs": [],
   "source": [
    "def NormalizeData(data):\n",
    "    return (data - np.min(data)) / (np.max(data) - np.min(data))"
   ]
  },
  {
   "cell_type": "code",
   "execution_count": null,
   "id": "1947a416",
   "metadata": {},
   "outputs": [],
   "source": [
    "scale_dict={}\n",
    "for i in ff3_monthly.columns:\n",
    "\n",
    "    x=NormalizeData(ff3_monthly[i])+0.001\n",
    "    xt, _ = stats.boxcox(x)\n",
    "    scale_dict[i]=xt\n",
    "    \n",
    "transform_df=pd.DataFrame(scale_dict)\n",
    "#transform_df.describe()"
   ]
  },
  {
   "cell_type": "code",
   "execution_count": null,
   "id": "a9bbeaa7",
   "metadata": {},
   "outputs": [],
   "source": [
    "transform_df.set_index(ff3_monthly.index,inplace=True)\n",
    "transform_df['DATE']=ff3_monthly.index\n",
    "transform_df"
   ]
  },
  {
   "cell_type": "code",
   "execution_count": null,
   "id": "9455d3a9",
   "metadata": {},
   "outputs": [],
   "source": [
    "\n",
    "ff3_train=transform_df.loc[transform_df['DATE']<\"2009-01-01\"]\n",
    "ff3_test=transform_df.loc[transform_df['DATE']>\"2009-01-01\"]\n",
    "del ff3_train['DATE']\n",
    "del ff3_test['DATE']\n",
    "ff3_train"
   ]
  },
  {
   "cell_type": "code",
   "execution_count": null,
   "id": "81e6c9f3",
   "metadata": {},
   "outputs": [],
   "source": [
    "normal_test(\"Mkt-RF\",transform_df)"
   ]
  },
  {
   "cell_type": "markdown",
   "id": "40b2fa36",
   "metadata": {},
   "source": [
    "#### only use Mkt-RF as factor"
   ]
  },
  {
   "cell_type": "code",
   "execution_count": null,
   "id": "acdd9fd8",
   "metadata": {},
   "outputs": [],
   "source": [
    "df_train.index  = pd.to_datetime(df_train.index)\n",
    "\n",
    "fig, ax = plt.subplots(figsize=(20, 12),nrows=4,ncols=3)\n",
    "\n",
    "ax[0][0].plot(monthly_returns['LBUSTRUU Index'])\n",
    "ax[0][0].set_title('LBUSTRUU')\n",
    "\n",
    "ax[0][1].plot(monthly_returns['LMBITR Index'])\n",
    "ax[0][1].set_title('LMBITR')\n",
    "\n",
    "ax[0][2].plot(monthly_returns['HFRIFWI Index'])\n",
    "ax[0][2].set_title('HFRIFWI')\n",
    "\n",
    "ax[1][0].plot(monthly_returns['LG30TRUU Index'])\n",
    "ax[1][0].set_title('LG30TRUU')\n",
    "\n",
    "ax[1][1].plot(monthly_returns['S5CONS Index'])\n",
    "ax[1][1].set_title('S5CONS')\n",
    "\n",
    "ax[1][2].plot(monthly_returns['S5INDU Index'])\n",
    "ax[1][2].set_title('S5INDU')\n",
    "\n",
    "ax[2][0].plot(monthly_returns['RU20VATR Index'])\n",
    "ax[2][0].set_title('RU20VATR')\n",
    "\n",
    "ax[2][1].plot(monthly_returns['S5COND Index'])\n",
    "ax[2][1].set_title('S5COND')\n",
    "\n",
    "ax[2][2].plot(monthly_returns['RU20INTR Index'])\n",
    "ax[2][2].set_title('RU20INTR')\n",
    "\n",
    "ax[3][0].plot(monthly_returns['S5INFT Index'])\n",
    "ax[3][0].set_title('S5INFT')\n",
    "\n",
    "plt.show()"
   ]
  },
  {
   "cell_type": "code",
   "execution_count": null,
   "id": "5e1e4049",
   "metadata": {},
   "outputs": [],
   "source": [
    "#build and train the MSDR model\n",
    "msdr_model = sm.tsa.MarkovRegression(endog=df_train['LBUSTRUU Index'], k_regimes=2,\n",
    "    trend='c',exog=ff3_train['Mkt-RF'], switching_variance=True)\n",
    "msdr_model_results = msdr_model.fit(iter=1000)"
   ]
  },
  {
   "cell_type": "code",
   "execution_count": null,
   "id": "1027dced",
   "metadata": {},
   "outputs": [],
   "source": [
    "print(msdr_model_results.summary())"
   ]
  },
  {
   "cell_type": "code",
   "execution_count": null,
   "id": "578ddc5f",
   "metadata": {},
   "outputs": [],
   "source": [
    "msdr_model_results.params"
   ]
  },
  {
   "cell_type": "code",
   "execution_count": null,
   "id": "6823e23a",
   "metadata": {},
   "outputs": [],
   "source": [
    "df_r = pd.read_csv('JHDUSRGDPBR.csv', header=0, index_col=0, infer_datetime_format=True, parse_dates=['DATE'])\n",
    "df_r['DATE']=df_r.index\n",
    "df_r"
   ]
  },
  {
   "cell_type": "code",
   "execution_count": null,
   "id": "cd83ce25",
   "metadata": {},
   "outputs": [],
   "source": [
    "#df_r = pd.read_csv('C:\\\\Users\\\\12521\\\\Desktop\\\\JHDUSRGDPBR.csv', header=0, index_col=0, infer_datetime_format=True, parse_dates=['DATE'])\n",
    "df_r=df_r.loc[df_r['DATE']>\"1990-01-31\"]\n",
    "df_r_train=df_r.loc[df_r['DATE']<\"2009-01-01\"]\n",
    "df_r_test=df_r.loc[df_r['DATE']>\"2009-01-01\"]\n",
    "del df_r_train['DATE']\n",
    "del df_r_test['DATE']\n",
    "df_r_train"
   ]
  },
  {
   "cell_type": "code",
   "execution_count": null,
   "id": "c21861e1",
   "metadata": {},
   "outputs": [],
   "source": [
    "df_r_test.head()"
   ]
  },
  {
   "cell_type": "code",
   "execution_count": null,
   "id": "4ce0f5da",
   "metadata": {},
   "outputs": [],
   "source": [
    "\n",
    "figure, axes = plt.subplots(4,figsize=(12,16))\n",
    "\n",
    "ax = axes[0]\n",
    "ax.plot(df_train.index, df_train['LBUSTRUU Index'])\n",
    "ax.set(title='return of LBUSTRUU')\n",
    "\n",
    "ax = axes[1]\n",
    "ax.plot(df_train.index, ff3_train['Mkt-RF'],color=\"red\")\n",
    "ax.set(title='excess market return')\n",
    "\n",
    "ax = axes[2]\n",
    "ax.plot(df_train.index, msdr_model_results.smoothed_marginal_probabilities[0])\n",
    "ax.plot(df_r_train.index, df_r_train['JHDUSRGDPBR'],color=\"green\")\n",
    "ax.set(title='Smoothed probability of regime 0')\n",
    " \n",
    "ax = axes[3]\n",
    "ax.plot(df_train.index, msdr_model_results.smoothed_marginal_probabilities[1])\n",
    "\n",
    "ax.set(title='Smoothed probability of regime 1')\n",
    "\n",
    " \n",
    "plt.show()"
   ]
  },
  {
   "cell_type": "code",
   "execution_count": null,
   "id": "ec890837",
   "metadata": {},
   "outputs": [],
   "source": [
    "from datetime import timedelta\n",
    "from dateutil.relativedelta import relativedelta"
   ]
  },
  {
   "cell_type": "code",
   "execution_count": null,
   "id": "fa831b40",
   "metadata": {},
   "outputs": [],
   "source": [
    "prob = msdr_model_results.smoothed_marginal_probabilities\n",
    "prob"
   ]
  },
  {
   "cell_type": "code",
   "execution_count": null,
   "id": "468b9114",
   "metadata": {},
   "outputs": [],
   "source": [
    "for i in range(len(ff3_test)):\n",
    "    new = pd.Series({0:prob.iloc[-1,0]*msdr_model_results.params[0]+prob.iloc[-1,1]*msdr_model_results.params[1], \n",
    "                     1: prob.iloc[-1,1]*(1-msdr_model_results.params[1])+prob.iloc[-1,0]*(1-msdr_model_results.params[0])})\n",
    "    new.name = prob.index[-1] +  relativedelta(months=1)\n",
    "    prob = prob.append(new)"
   ]
  },
  {
   "cell_type": "code",
   "execution_count": null,
   "id": "41346936",
   "metadata": {},
   "outputs": [],
   "source": [
    "prediction=prob[227:]\n",
    "prediction.index = ff3_test.index\n",
    "prediction"
   ]
  },
  {
   "cell_type": "code",
   "execution_count": null,
   "id": "5c89b50e",
   "metadata": {},
   "outputs": [],
   "source": [
    "regime0_return = prediction[0]*(msdr_model_results.params[2]+msdr_model_results.params[4]*ff3_test['Mkt-RF'])\n",
    "regime1_return=prediction[1]*(msdr_model_results.params[3]+msdr_model_results.params[5]*ff3_test['Mkt-RF'])\n",
    "\n",
    "regime_return = regime0_return+regime1_return\n",
    "pre_return = regime_return.to_frame()\n",
    "pre_return.columns = [\"pred_return\"]\n",
    "pre_return"
   ]
  },
  {
   "cell_type": "code",
   "execution_count": null,
   "id": "609de595",
   "metadata": {},
   "outputs": [],
   "source": [
    "\n",
    "def MSDR(asset_name,factor_name=[\"Mkt-RF\"],num_of_regimes=2,show_sum=True):\n",
    "    \n",
    "    msdr_model = sm.tsa.MarkovRegression(endog=df_train[asset_name], k_regimes=num_of_regimes,\n",
    "    trend='c',exog=ff3_train[factor_name], switching_variance=True)\n",
    "    msdr_model_results = msdr_model.fit(iter=1000)\n",
    "    \n",
    "    if show_sum:\n",
    "        print(msdr_model_results.summary())\n",
    "    \n",
    "    prob = msdr_model_results.smoothed_marginal_probabilities\n",
    "    #print(msdr_model_results.params)\n",
    "    #print(prob)\n",
    "    for j in range(len(ff3_test)):\n",
    "        new = pd.Series({0:prob.iloc[-1,0]*msdr_model_results.params[0]+prob.iloc[-1,1]*msdr_model_results.params[1], \n",
    "                         1: prob.iloc[-1,1]*(1-msdr_model_results.params[1])+prob.iloc[-1,0]*(1-msdr_model_results.params[0])})\n",
    "        new.name = prob.index[-1] +  relativedelta(months=1)\n",
    "        prob = prob.append(new)\n",
    "    print(prob)\n",
    "    \n",
    "    prediction=prob[227:]\n",
    "    \n",
    "    prediction.index = ff3_test.index\n",
    "\n",
    "    '''\n",
    "    regime0_return = prediction[0]*(msdr_model_results.params[2]+msdr_model_results.params[4]*ff3_test['Mkt-RF'])\n",
    "    regime1_return=prediction[1]*(msdr_model_results.params[3]+msdr_model_results.params[5]*ff3_test['Mkt-RF'])\n",
    "\n",
    "    regime_return = regime0_return+regime1_return\n",
    "    pre_return = regime_return.to_frame()\n",
    "    pre_return.columns = [\"pred_return\"]\n",
    "    print(pre_return)\n",
    "    \n",
    "    \n",
    "#     mean_squared_error(df_test[asset_name], pre_return)\n",
    "    #MSE.append(mean_squared_error(df_test[asset_name], pre_return))\n",
    "    print(MSE)\n",
    "    \n",
    "    plt.title(asset_name)\n",
    "    plt.plot(df_test[asset_name])\n",
    "    plt.plot(pre_return, color='red')\n",
    "    plt.show()\n",
    "    '''\n",
    "    figure, axes = plt.subplots(4,figsize=(12,16))\n",
    "\n",
    "    ax = axes[0]\n",
    "    ax.plot(df_train.index, df_train[asset_name])\n",
    "    ax.set(title='return of '+asset_name)\n",
    "\n",
    "    ax = axes[1]\n",
    "    ax.plot(df_train.index, ff3_train[factor_name])\n",
    "    ax.set(title=factor_name)\n",
    "\n",
    "    ax = axes[2]\n",
    "    ax.plot(df_train.index, msdr_model_results.smoothed_marginal_probabilities[0])\n",
    "    #ax.plot(df_r_train.index, df_r_train['JHDUSRGDPBR'],color=\"green\")\n",
    "    ax.set(title='Smoothed probability of regime 0')\n",
    "\n",
    "    ax = axes[3]\n",
    "    ax.plot(df_train.index, msdr_model_results.smoothed_marginal_probabilities[1])\n",
    "\n",
    "    ax.set(title='Smoothed probability of regime 1')\n",
    "\n",
    "\n",
    "    plt.show()\n",
    "    \n",
    "    return prob,prediction,msdr_model_results"
   ]
  },
  {
   "cell_type": "code",
   "execution_count": null,
   "id": "c3108522",
   "metadata": {},
   "outputs": [],
   "source": [
    "MSE = []\n",
    "def test_regime_normal_dist(asset,factor=[\"Mkt-RF\"],show_summary=True):\n",
    "   \n",
    "    prob,pred,model_results=MSDR(asset,factor_name=factor,num_of_regimes=2,show_sum=show_summary)\n",
    "    prob.set_index(monthly_returns.index,inplace=True)\n",
    "    #print(factor)\n",
    "    factor_RF=factor.copy()\n",
    "    factor_RF.append(\"RF\")\n",
    "    #print(\"NEW_LIST\",factor_RF)\n",
    "    merge_ff_prob=pd.merge(prob,transform_df[factor],how=\"inner\",left_index=True,right_index=True)\n",
    "    regime_0=merge_ff_prob[prob[0]>prob[1]]\n",
    "    regime_1=merge_ff_prob[prob[0]<prob[1]]\n",
    "    print(asset)\n",
    "    \n",
    "    \n",
    "    \n",
    "    for i in factor:\n",
    "        print(i)\n",
    "        print(\"regime_0:\")\n",
    "        a=normal_test(i,regime_0)\n",
    "        print(\"regime_1:\")\n",
    "        b=normal_test(i,regime_1)\n",
    "        if a and b:\n",
    "            factor_regime_val={}\n",
    "            print(\"the factor is normally distributed in both regime_0 and regime 1, we are ready to calculate return\")\n",
    "            \n",
    "            #get the regime based factor value\n",
    "            factor_regime_val['regime_0']=regime_0[factor].mean().values\n",
    "            factor_regime_val['regime_1']=regime_1[factor].mean().values\n",
    "            print(factor_regime_val)\n",
    "            \n",
    "            #print(model_results.params)\n",
    "            #print(pred)\n",
    "            #calculate the return in different regime\n",
    "            regime0_return = pred[0]*(model_results.params[2]+model_results.params[4]*factor_regime_val['regime_0'])\n",
    "            #print(regime0_return)\n",
    "            regime1_return=pred[1]*(model_results.params[3]+model_results.params[5]*factor_regime_val['regime_1'])\n",
    "            regime_return = regime0_return+regime1_return\n",
    "            pre_return = regime_return.to_frame()\n",
    "            pre_return.columns = [\"pred_return\"]\n",
    "            #print(pre_return)\n",
    "            \n",
    "            \n",
    "            #print(pre_return_dict)\n",
    "            \n",
    "            plt.title(asset+\" regime predicted return\")\n",
    "            plt.plot(df_test[asset])\n",
    "            plt.plot(pre_return, color='red')\n",
    "            plt.show()\n",
    "            \n",
    "            MSE.append(mean_squared_error(df_test[asset], pre_return))\n",
    "            \n",
    "    \n",
    "    \n",
    "            \n",
    "       \n",
    "    return pre_return\n"
   ]
  },
  {
   "cell_type": "code",
   "execution_count": null,
   "id": "2cfe5a51",
   "metadata": {},
   "outputs": [],
   "source": [
    "df_train.index  = pd.to_datetime(df_train.index)\n",
    "df_test.index  = pd.to_datetime(df_test.index)\n",
    "pre_return_dict={}\n",
    "for k in df_train.columns:\n",
    "    \n",
    "    pred=test_regime_normal_dist(k)\n",
    "    pre_return_dict[k]=pred.values.squeeze()\n",
    "pre_return_df=pd.DataFrame(pre_return_dict,index=df_test.index)        "
   ]
  },
  {
   "cell_type": "code",
   "execution_count": null,
   "id": "12be8580",
   "metadata": {},
   "outputs": [],
   "source": [
    "MSE"
   ]
  },
  {
   "cell_type": "code",
   "execution_count": null,
   "id": "eeb2872e",
   "metadata": {},
   "outputs": [],
   "source": [
    "MSE_RegimeFF1_Mkt = pd.DataFrame(MSE)\n",
    "MSE_RegimeFF1_Mkt = pd.DataFrame(MSE_RegimeFF1_Mkt.T)\n",
    "MSE_RegimeFF1_Mkt.columns = list(df_train.columns)\n",
    "MSE_RegimeFF1_Mkt.index = [\"MSE_RegimeFF1_Mkt\"]\n",
    "MSE_RegimeFF1_Mkt"
   ]
  },
  {
   "cell_type": "code",
   "execution_count": null,
   "id": "094a7cac",
   "metadata": {},
   "outputs": [],
   "source": [
    "pre_return_df.plot()"
   ]
  },
  {
   "cell_type": "code",
   "execution_count": null,
   "id": "0111768c",
   "metadata": {},
   "outputs": [],
   "source": [
    "pre_return_df"
   ]
  },
  {
   "cell_type": "markdown",
   "id": "114819ad",
   "metadata": {},
   "source": [
    "#### only use SMB as factor"
   ]
  },
  {
   "cell_type": "code",
   "execution_count": null,
   "id": "91e60bc2",
   "metadata": {},
   "outputs": [],
   "source": [
    "MSE = []\n",
    "for i in df_train.columns:\n",
    "    MSDR(i,factor_name=\"SMB\",num_of_regimes=2)\n",
    "    test_regime_normal_dist(i,factor=[\"SMB\"],show_summary=False)"
   ]
  },
  {
   "cell_type": "code",
   "execution_count": null,
   "id": "e4fd9585",
   "metadata": {},
   "outputs": [],
   "source": [
    "MSE_RegimeFF1_smb = pd.DataFrame(MSE)\n",
    "MSE_RegimeFF1_smb = pd.DataFrame(MSE_RegimeFF1_smb.T)\n",
    "MSE_RegimeFF1_smb.columns = list(df.columns)\n",
    "MSE_RegimeFF1_smb.index = [\"MSE_RegimeFF1_smb\"]\n",
    "MSE_RegimeFF1_smb"
   ]
  },
  {
   "cell_type": "markdown",
   "id": "074e6e4e",
   "metadata": {},
   "source": [
    "#### only use HML as factor"
   ]
  },
  {
   "cell_type": "code",
   "execution_count": null,
   "id": "986d1368",
   "metadata": {},
   "outputs": [],
   "source": [
    "fig = plt.figure(figsize=(12,4))\n",
    "fig.suptitle('1990-2008: return of LBUSTRUU & excess market return ')\n",
    "df_train['LBUSTRUU'].plot()\n",
    "ff3_train['Mkt-RF'].plot(color=\"red\")\n",
    "plt.show()"
   ]
  },
  {
   "cell_type": "code",
   "execution_count": null,
   "id": "3471d92e",
   "metadata": {},
   "outputs": [],
   "source": [
    "MSE = []\n",
    "for i in df_train.columns:\n",
    "     MSDR(i,factor_name=\"HML\",num_of_regimes=2)\n",
    "     test_regime_normal_dist(i,factor=[\"HML\"],show_summary=False)"
   ]
  },
  {
   "cell_type": "code",
   "execution_count": null,
   "id": "5d0d1bfc",
   "metadata": {},
   "outputs": [],
   "source": [
    "MSE_RegimeFF1_hml = pd.DataFrame(MSE)\n",
    "MSE_RegimeFF1_hml = pd.DataFrame(MSE_RegimeFF1_hml.T)\n",
    "MSE_RegimeFF1_hml.columns = list(df.columns)\n",
    "MSE_RegimeFF1_hml.index = [\"MSE_RegimeFF1_hml\"]\n",
    "MSE_RegimeFF1_hml"
   ]
  },
  {
   "cell_type": "markdown",
   "id": "2a97277d",
   "metadata": {},
   "source": [
    "#### Use all three factors"
   ]
  },
  {
   "cell_type": "code",
   "execution_count": null,
   "id": "73e05a90",
   "metadata": {},
   "outputs": [],
   "source": [
    "MSE = []\n",
    "for i in df_train.columns:\n",
    "     MSDR(i,factor_name=[\"Mkt-RF\",\"SMB\",\"HML\"],num_of_regimes=2)\n",
    "     test_regime_normal_dist(i,factor=[\"Mkt-RF\",\"SMB\",\"HML\"],show_summary=False)"
   ]
  },
  {
   "cell_type": "code",
   "execution_count": null,
   "id": "0d765480",
   "metadata": {},
   "outputs": [],
   "source": [
    "MSE_RegimeFF3 = pd.DataFrame(MSE)\n",
    "MSE_RegimeFF3 = pd.DataFrame(MSE_RegimeFF3.T)\n",
    "MSE_RegimeFF3.columns = list(df.columns)\n",
    "MSE_RegimeFF3.index = [\"MSE_RegimeFF3\"]\n",
    "MSE_RegimeFF3"
   ]
  },
  {
   "cell_type": "markdown",
   "id": "0c795b2d",
   "metadata": {},
   "source": [
    "# predict cov"
   ]
  },
  {
   "cell_type": "markdown",
   "id": "064b41fc",
   "metadata": {},
   "source": [
    "## Covariance from sklearn.cov using historical return"
   ]
  },
  {
   "cell_type": "code",
   "execution_count": null,
   "id": "c9ab8a5f",
   "metadata": {},
   "outputs": [],
   "source": [
    "# Assume history represent the future, therefore, use training dataset\n",
    "# source: https://scikit-learn.org/stable/modules/covariance.html "
   ]
  },
  {
   "cell_type": "markdown",
   "id": "7f78f46a",
   "metadata": {},
   "source": [
    "### Maximum likelihood covariance estimator"
   ]
  },
  {
   "cell_type": "code",
   "execution_count": null,
   "id": "01e1b0bb",
   "metadata": {},
   "outputs": [],
   "source": [
    "# pip install -U scikit-learn"
   ]
  },
  {
   "cell_type": "code",
   "execution_count": null,
   "id": "941fb24b",
   "metadata": {},
   "outputs": [],
   "source": [
    "cov = EmpiricalCovariance().fit(df_train)\n",
    "cov.covariance_ = pd.DataFrame(cov.covariance_)\n",
    "cov.covariance_.columns = df_train.columns\n",
    "cov.covariance_.index = df_train.columns\n",
    "cov.covariance_"
   ]
  },
  {
   "cell_type": "code",
   "execution_count": null,
   "id": "5567001e",
   "metadata": {},
   "outputs": [],
   "source": [
    "labs = df_train.columns\n",
    "\n",
    "sns.heatmap(cov.covariance_, annot=False, fmt='g', xticklabels=labs, yticklabels=labs)\n",
    "plt.show()"
   ]
  },
  {
   "cell_type": "markdown",
   "id": "594bafae",
   "metadata": {},
   "source": [
    "### LedoitWolf Estimator"
   ]
  },
  {
   "cell_type": "code",
   "execution_count": null,
   "id": "6911bda1",
   "metadata": {},
   "outputs": [],
   "source": [
    "cov = LedoitWolf().fit(df_train)\n",
    "cov.covariance_ = pd.DataFrame(cov.covariance_)\n",
    "cov.covariance_.columns = df_train.columns\n",
    "cov.covariance_.index = df_train.columns\n",
    "cov.covariance_"
   ]
  },
  {
   "cell_type": "markdown",
   "id": "58acb2e8",
   "metadata": {},
   "source": [
    "### Covariance estimator with shrinkage"
   ]
  },
  {
   "cell_type": "code",
   "execution_count": null,
   "id": "1612262d",
   "metadata": {},
   "outputs": [],
   "source": [
    "cov = ShrunkCovariance().fit(df_train)\n",
    "cov.covariance_ = pd.DataFrame(cov.covariance_)\n",
    "cov.covariance_.columns = df_train.columns\n",
    "cov.covariance_.index = df_train.columns\n",
    "cov.covariance_"
   ]
  },
  {
   "cell_type": "markdown",
   "id": "61a84c11",
   "metadata": {},
   "source": [
    "### Minimum Covariance Determinant (MCD): robust estimator of covariance"
   ]
  },
  {
   "cell_type": "code",
   "execution_count": null,
   "id": "29a7d00b",
   "metadata": {},
   "outputs": [],
   "source": [
    "cov = MinCovDet(random_state=0).fit(df_train)\n",
    "cov.covariance_ = pd.DataFrame(cov.covariance_)\n",
    "cov.covariance_.columns = df_train.columns\n",
    "cov.covariance_.index = df_train.columns\n",
    "cov.covariance_"
   ]
  },
  {
   "cell_type": "code",
   "execution_count": null,
   "id": "620c8b7d",
   "metadata": {},
   "outputs": [],
   "source": []
  },
  {
   "cell_type": "markdown",
   "id": "74c83b65",
   "metadata": {},
   "source": [
    "# Regime based mvo"
   ]
  },
  {
   "cell_type": "markdown",
   "id": "08983ace",
   "metadata": {},
   "source": [
    "### use the estimated result of regime-based"
   ]
  },
  {
   "cell_type": "markdown",
   "id": "4f5fe0eb",
   "metadata": {},
   "source": [
    "#### target return and minize risk"
   ]
  },
  {
   "cell_type": "code",
   "execution_count": null,
   "id": "cf06880f",
   "metadata": {},
   "outputs": [],
   "source": [
    "regime_lw_min=My_MVO(pre_return_df,covariance_estimate_method=\"ledoit_wolf\",constraints=0,optimize_method=\"Minimize risk\")\n",
    "print(regime_lw_min.annualized_expected_return())\n",
    "print(regime_lw_min.estimate_covariance_matrix(True))\n",
    "print(regime_lw_min.set_efficient_frontier())\n",
    "print(regime_lw_min.mvo_opt_performance(my_return=0.2))"
   ]
  },
  {
   "cell_type": "markdown",
   "id": "a9f294c2",
   "metadata": {},
   "source": [
    "#### target volatility and maximize return"
   ]
  },
  {
   "cell_type": "code",
   "execution_count": null,
   "id": "aa2d3f81",
   "metadata": {},
   "outputs": [],
   "source": [
    "regime_lw_max=My_MVO(pre_return_df,covariance_estimate_method=\"ledoit_wolf\",constraints=0,optimize_method=\"Maximize return\")\n",
    "print(regime_lw_max.annualized_expected_return())\n",
    "print(regime_lw_max.estimate_covariance_matrix(True))\n",
    "print(regime_lw_max.set_efficient_frontier())\n",
    "print(regime_lw_max.mvo_opt_performance(my_volatility=0.02))"
   ]
  },
  {
   "cell_type": "markdown",
   "id": "5e307674",
   "metadata": {},
   "source": [
    "#### target return and minimize risk, downside risk focused"
   ]
  },
  {
   "cell_type": "code",
   "execution_count": null,
   "id": "6eec344d",
   "metadata": {},
   "outputs": [],
   "source": [
    "regime_semi_min=My_MVO(pre_return_df,covariance_estimate_method=\"semicovariance\",constraints=constraint_dict,optimize_method=\"Minimize risk\")\n",
    "print(regime_semi_min.annualized_expected_return())\n",
    "print(regime_semi_min.estimate_covariance_matrix(True))\n",
    "print(regime_semi_min.set_efficient_frontier())\n",
    "print(regime_semi_min.mvo_opt_performance(my_return=0.05))"
   ]
  },
  {
   "cell_type": "markdown",
   "id": "6b0dd556",
   "metadata": {},
   "source": [
    "#### target volatility and maximize return, downside risk focused"
   ]
  },
  {
   "cell_type": "code",
   "execution_count": null,
   "id": "557e6731",
   "metadata": {},
   "outputs": [],
   "source": [
    "regime_semi_max=My_MVO(pre_return_df,covariance_estimate_method=\"semicovariance\",constraints=constraint_dict,optimize_method=\"Maximize return\")\n",
    "print(regime_semi_max.annualized_expected_return())\n",
    "print(regime_semi_max.estimate_covariance_matrix(True))\n",
    "print(regime_semi_max.set_efficient_frontier())\n",
    "print(regime_semi_max.mvo_opt_performance(my_return=0.05))"
   ]
  },
  {
   "cell_type": "code",
   "execution_count": null,
   "id": "ddf2b282",
   "metadata": {},
   "outputs": [],
   "source": [
    "sector_mapper = {\n",
    "    'LBUSTRUU Index':\"lower_risk\",\n",
    "    'LMBITR Index':\"lower_risk\",\n",
    "    'HFRIFWI Index':\"lower_risk\",\n",
    "    'LG30TRUU Index':\"lower_risk\",\n",
    "    'S5INDU Index':\"lower_risk\",\n",
    "    \"S5CONS Index\":\"high_risk\",\n",
    "    \"RU20VATR Index\":\"high_risk\",\n",
    "    \"S5COND Index\":\"high_risk\",\n",
    "    \"RU20INTR Index\":\"high_risk\",\n",
    "    \"S5INFT Index\":\"high_risk\"}\n",
    "\n",
    "sector_lower = {\n",
    "    \"lower_risk\": 0.35, # at least 35% \n",
    "}\n",
    "\n",
    "sector_upper = {\n",
    "    \"lower_risk\":0.45\n",
    "}\n",
    "\n",
    "my_constraint_dict={\"sector_mapper\":sector_mapper,\"sector_lower\":sector_lower,\"sector_upper\":sector_upper}"
   ]
  },
  {
   "cell_type": "markdown",
   "id": "0f256ba9",
   "metadata": {},
   "source": [
    "# Thershold rebalance"
   ]
  },
  {
   "cell_type": "code",
   "execution_count": null,
   "id": "210d089d",
   "metadata": {},
   "outputs": [],
   "source": [
    "def compute_position(current_weight,fund,df_price):\n",
    "    return pd.DataFrame(current_weight*fund/df_price)"
   ]
  },
  {
   "cell_type": "code",
   "execution_count": null,
   "id": "6346bf52",
   "metadata": {},
   "outputs": [],
   "source": [
    "initial_position=compute_position(my_weight,fund,df_history_price.iloc[-1,:])\n",
    "initial_position"
   ]
  },
  {
   "cell_type": "code",
   "execution_count": null,
   "id": "bf65f851",
   "metadata": {},
   "outputs": [],
   "source": []
  },
  {
   "cell_type": "markdown",
   "id": "02befd11",
   "metadata": {},
   "source": [
    "# Fixed time"
   ]
  },
  {
   "cell_type": "code",
   "execution_count": null,
   "id": "d5cd60c3",
   "metadata": {},
   "outputs": [],
   "source": [
    "five_years = weights\n",
    "five_years\n"
   ]
  },
  {
   "cell_type": "code",
   "execution_count": null,
   "id": "d251c517",
   "metadata": {},
   "outputs": [],
   "source": [
    "five_years.set_axis(['LBUSTRUU Index', 'LMBITR Index', 'HFRIFWI Index','LG30TRUU Index',\n",
    "                         'S5CONS Index','S5INDU Index','RU20VATR Index','S5COND Index',\n",
    "                         'RU20INTR Index','S5INFT Index'], axis='columns', inplace=True)\n",
    "total_5yearsreturn = df_test.mul(five_years)\n",
    "total_5yearsreturn"
   ]
  },
  {
   "cell_type": "code",
   "execution_count": null,
   "id": "0398bbc5",
   "metadata": {},
   "outputs": [],
   "source": [
    "yearly = weights\n",
    "yearly.set_axis(['LBUSTRUU Index', 'LMBITR Index', 'HFRIFWI Index','LG30TRUU Index',\n",
    "                         'S5CONS Index','S5INDU Index','RU20VATR Index','S5COND Index',\n",
    "                         'RU20INTR Index','S5INFT Index'], axis='columns', inplace=True)\n",
    "total_yearlyreturn = df_test.mul(yearly)\n",
    "total_yearlyreturn"
   ]
  },
  {
   "cell_type": "code",
   "execution_count": null,
   "id": "291ce5da",
   "metadata": {},
   "outputs": [],
   "source": [
    "five_years.set_axis(['LBUSTRUU Index', 'LMBITR Index', 'HFRIFWI Index','LG30TRUU Index',\n",
    "                         'S5CONS Index','S5INDU Index','RU20VATR Index','S5COND Index',\n",
    "                         'RU20INTR Index','S5INFT Index'], axis='columns', inplace=True)\n",
    "total_5yearsreturn = df_test.mul(five_years)\n",
    "total_5yearsreturn"
   ]
  }
 ],
 "metadata": {
  "kernelspec": {
   "display_name": "Python 3 (ipykernel)",
   "language": "python",
   "name": "python3"
  },
  "language_info": {
   "codemirror_mode": {
    "name": "ipython",
    "version": 3
   },
   "file_extension": ".py",
   "mimetype": "text/x-python",
   "name": "python",
   "nbconvert_exporter": "python",
   "pygments_lexer": "ipython3",
   "version": "3.8.8"
  },
  "toc": {
   "base_numbering": 1,
   "nav_menu": {},
   "number_sections": true,
   "sideBar": true,
   "skip_h1_title": false,
   "title_cell": "Table of Contents",
   "title_sidebar": "Contents",
   "toc_cell": false,
   "toc_position": {
    "height": "calc(100% - 180px)",
    "left": "10px",
    "top": "150px",
    "width": "288px"
   },
   "toc_section_display": true,
   "toc_window_display": true
  }
 },
 "nbformat": 4,
 "nbformat_minor": 5
}
