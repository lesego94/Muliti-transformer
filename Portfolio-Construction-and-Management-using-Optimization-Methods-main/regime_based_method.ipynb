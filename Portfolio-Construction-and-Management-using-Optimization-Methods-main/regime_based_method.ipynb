{
 "cells": [
  {
   "cell_type": "code",
   "execution_count": null,
   "id": "fdc51859",
   "metadata": {},
   "outputs": [],
   "source": [
    "##  Method 3: Regime Based Method\n",
    "import getFamaFrenchFactors as gff"
   ]
  },
  {
   "cell_type": "markdown",
   "id": "6a3abcff",
   "metadata": {},
   "source": [
    "### use Fama-French model to present the return"
   ]
  },
  {
   "cell_type": "code",
   "execution_count": null,
   "id": "7f83b50f",
   "metadata": {},
   "outputs": [],
   "source": [
    "ff3_monthly = gff.famaFrench3Factor(frequency='m')\n",
    "ff3_monthly=ff3_monthly.loc[ff3_monthly['date_ff_factors']>\"1990-01-31\"]\n",
    "ff3_monthly.set_index(\"date_ff_factors\",inplace=True)\n",
    "ff3_monthly"
   ]
  },
  {
   "cell_type": "code",
   "execution_count": null,
   "id": "3cf2f6a6",
   "metadata": {},
   "outputs": [],
   "source": [
    "ff3_monthly['DATE']=ff3_monthly.index"
   ]
  },
  {
   "cell_type": "code",
   "execution_count": null,
   "id": "50e92757",
   "metadata": {},
   "outputs": [],
   "source": []
  }
 ],
 "metadata": {
  "kernelspec": {
   "display_name": "Python 3 (ipykernel)",
   "language": "python",
   "name": "python3"
  },
  "language_info": {
   "codemirror_mode": {
    "name": "ipython",
    "version": 3
   },
   "file_extension": ".py",
   "mimetype": "text/x-python",
   "name": "python",
   "nbconvert_exporter": "python",
   "pygments_lexer": "ipython3",
   "version": "3.7.9"
  }
 },
 "nbformat": 4,
 "nbformat_minor": 5
}
